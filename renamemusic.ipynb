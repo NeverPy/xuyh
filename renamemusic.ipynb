{
 "cells": [
  {
   "cell_type": "code",
   "execution_count": null,
   "metadata": {},
   "outputs": [],
   "source": []
  },
  {
   "cell_type": "code",
   "execution_count": 2,
   "metadata": {},
   "outputs": [
    {
     "name": "stdout",
     "output_type": "stream",
     "text": [
      "16607987-128-d86e75b049e2b48cfabcb4885ddf6bd7 uc\n",
      "20707571-128-b325afa0ab1b9984b47275369080cdd4 uc\n"
     ]
    }
   ],
   "source": [
    "# -*- coding:UTF-8 -*-  \n",
    "#zc  \n",
    "import os  \n",
    "path = u'D:\\\\CloudMusic\\\\cache'  \n",
    "path = path + \"\\\\Cache\"  \n",
    "files = os.listdir(path)  \n",
    "for f in files:  \n",
    "    name, extname = f.split('.')  \n",
    "    if extname == \"uc\":  \n",
    "        os.chdir(path)  \n",
    "        print (name, extname)  \n",
    "        os.rename(f, '%s.mp3' %name)  "
   ]
  },
  {
   "cell_type": "code",
   "execution_count": null,
   "metadata": {},
   "outputs": [],
   "source": []
  },
  {
   "cell_type": "code",
   "execution_count": null,
   "metadata": {},
   "outputs": [],
   "source": []
  }
 ],
 "metadata": {
  "kernelspec": {
   "display_name": "Python 3",
   "language": "python",
   "name": "python3"
  },
  "language_info": {
   "codemirror_mode": {
    "name": "ipython",
    "version": 3
   },
   "file_extension": ".py",
   "mimetype": "text/x-python",
   "name": "python",
   "nbconvert_exporter": "python",
   "pygments_lexer": "ipython3",
   "version": "3.6.4"
  }
 },
 "nbformat": 4,
 "nbformat_minor": 2
}
