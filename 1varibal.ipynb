{
 "cells": [
  {
   "cell_type": "code",
   "execution_count": 16,
   "metadata": {},
   "outputs": [],
   "source": [
    "varibals=[1,12,23,4234,[1,2]]"
   ]
  },
  {
   "cell_type": "code",
   "execution_count": 17,
   "metadata": {},
   "outputs": [],
   "source": [
    "new_varibals=varibals"
   ]
  },
  {
   "cell_type": "code",
   "execution_count": 18,
   "metadata": {},
   "outputs": [
    {
     "data": {
      "text/plain": [
       "[1, 12, 23, 4234, 1]"
      ]
     },
     "execution_count": 18,
     "metadata": {},
     "output_type": "execute_result"
    }
   ],
   "source": [
    "new_varibals[-1]=1\n",
    "new_varibals"
   ]
  },
  {
   "cell_type": "code",
   "execution_count": 19,
   "metadata": {},
   "outputs": [
    {
     "data": {
      "text/plain": [
       "[1, 12, 23, 4234, 1]"
      ]
     },
     "execution_count": 19,
     "metadata": {},
     "output_type": "execute_result"
    }
   ],
   "source": [
    "varibals"
   ]
  },
  {
   "cell_type": "code",
   "execution_count": 20,
   "metadata": {},
   "outputs": [
    {
     "data": {
      "text/plain": [
       "(96651976L, 96651976L)"
      ]
     },
     "execution_count": 20,
     "metadata": {},
     "output_type": "execute_result"
    }
   ],
   "source": [
    "id(varibals),id(new_varibals)"
   ]
  },
  {
   "cell_type": "code",
   "execution_count": 40,
   "metadata": {
    "scrolled": true
   },
   "outputs": [
    {
     "data": {
      "text/plain": [
       "[1, 2, 3, 4]"
      ]
     },
     "execution_count": 40,
     "metadata": {},
     "output_type": "execute_result"
    }
   ],
   "source": [
    "a=[1,2]\n",
    "b=[3,4]\n",
    "a+b"
   ]
  },
  {
   "cell_type": "code",
   "execution_count": 41,
   "metadata": {},
   "outputs": [
    {
     "data": {
      "text/plain": [
       "[1, 2]"
      ]
     },
     "execution_count": 41,
     "metadata": {},
     "output_type": "execute_result"
    }
   ],
   "source": [
    "a"
   ]
  },
  {
   "cell_type": "code",
   "execution_count": 42,
   "metadata": {},
   "outputs": [
    {
     "data": {
      "text/plain": [
       "[1, 2, 3, 4]"
      ]
     },
     "execution_count": 42,
     "metadata": {},
     "output_type": "execute_result"
    }
   ],
   "source": [
    "a.extend(b)\n",
    "a"
   ]
  },
  {
   "cell_type": "code",
   "execution_count": null,
   "metadata": {},
   "outputs": [],
   "source": []
  },
  {
   "cell_type": "code",
   "execution_count": 43,
   "metadata": {},
   "outputs": [
    {
     "data": {
      "text/plain": [
       "[100, 1, 2, 3, 4]"
      ]
     },
     "execution_count": 43,
     "metadata": {},
     "output_type": "execute_result"
    }
   ],
   "source": [
    "a.insert(0,100)\n",
    "a"
   ]
  },
  {
   "cell_type": "code",
   "execution_count": 44,
   "metadata": {},
   "outputs": [
    {
     "data": {
      "text/plain": [
       "100"
      ]
     },
     "execution_count": 44,
     "metadata": {},
     "output_type": "execute_result"
    }
   ],
   "source": [
    "a.pop(0)"
   ]
  },
  {
   "cell_type": "code",
   "execution_count": 54,
   "metadata": {},
   "outputs": [
    {
     "data": {
      "text/plain": [
       "1"
      ]
     },
     "execution_count": 54,
     "metadata": {},
     "output_type": "execute_result"
    }
   ],
   "source": [
    "a[1]"
   ]
  },
  {
   "cell_type": "code",
   "execution_count": 59,
   "metadata": {},
   "outputs": [
    {
     "data": {
      "text/plain": [
       "[]"
      ]
     },
     "execution_count": 59,
     "metadata": {},
     "output_type": "execute_result"
    }
   ],
   "source": [
    "a"
   ]
  },
  {
   "cell_type": "code",
   "execution_count": 45,
   "metadata": {},
   "outputs": [
    {
     "data": {
      "text/plain": [
       "[1, 4, 3, 4]"
      ]
     },
     "execution_count": 45,
     "metadata": {},
     "output_type": "execute_result"
    }
   ],
   "source": [
    "a"
   ]
  },
  {
   "cell_type": "code",
   "execution_count": 46,
   "metadata": {},
   "outputs": [],
   "source": [
    "a.sort(reverse=True)"
   ]
  },
  {
   "cell_type": "code",
   "execution_count": 47,
   "metadata": {},
   "outputs": [
    {
     "data": {
      "text/plain": [
       "[4, 4, 3, 1]"
      ]
     },
     "execution_count": 47,
     "metadata": {},
     "output_type": "execute_result"
    }
   ],
   "source": [
    "a"
   ]
  },
  {
   "cell_type": "code",
   "execution_count": 48,
   "metadata": {},
   "outputs": [
    {
     "data": {
      "text/plain": [
       "False"
      ]
     },
     "execution_count": 48,
     "metadata": {},
     "output_type": "execute_result"
    }
   ],
   "source": [
    "5 in a"
   ]
  },
  {
   "cell_type": "code",
   "execution_count": 49,
   "metadata": {},
   "outputs": [
    {
     "data": {
      "text/plain": [
       "[4, 4, 3, 1]"
      ]
     },
     "execution_count": 49,
     "metadata": {},
     "output_type": "execute_result"
    }
   ],
   "source": [
    "a"
   ]
  },
  {
   "cell_type": "code",
   "execution_count": 50,
   "metadata": {},
   "outputs": [],
   "source": [
    "a.sort(reverse=True)"
   ]
  },
  {
   "cell_type": "code",
   "execution_count": 51,
   "metadata": {},
   "outputs": [
    {
     "data": {
      "text/plain": [
       "[4, 4, 3, 1]"
      ]
     },
     "execution_count": 51,
     "metadata": {},
     "output_type": "execute_result"
    }
   ],
   "source": [
    "a"
   ]
  },
  {
   "cell_type": "markdown",
   "metadata": {},
   "source": [
    "tuple"
   ]
  },
  {
   "cell_type": "code",
   "execution_count": 61,
   "metadata": {},
   "outputs": [
    {
     "data": {
      "text/plain": [
       "tuple"
      ]
     },
     "execution_count": 61,
     "metadata": {},
     "output_type": "execute_result"
    }
   ],
   "source": [
    "var=tuple()\n",
    "var=()\n",
    "type(var)"
   ]
  },
  {
   "cell_type": "code",
   "execution_count": 62,
   "metadata": {},
   "outputs": [],
   "source": [
    "var=(1,2,1,3,4,5,[23,34,43])"
   ]
  },
  {
   "cell_type": "code",
   "execution_count": 63,
   "metadata": {},
   "outputs": [
    {
     "data": {
      "text/plain": [
       "2"
      ]
     },
     "execution_count": 63,
     "metadata": {},
     "output_type": "execute_result"
    }
   ],
   "source": [
    "var.count(1)"
   ]
  },
  {
   "cell_type": "code",
   "execution_count": 64,
   "metadata": {},
   "outputs": [
    {
     "data": {
      "text/plain": [
       "5"
      ]
     },
     "execution_count": 64,
     "metadata": {},
     "output_type": "execute_result"
    }
   ],
   "source": [
    "var.index(5)"
   ]
  },
  {
   "cell_type": "code",
   "execution_count": 65,
   "metadata": {},
   "outputs": [],
   "source": [
    "a,b=10,20"
   ]
  },
  {
   "cell_type": "code",
   "execution_count": 66,
   "metadata": {},
   "outputs": [],
   "source": [
    "a=10,20"
   ]
  },
  {
   "cell_type": "code",
   "execution_count": 67,
   "metadata": {},
   "outputs": [
    {
     "data": {
      "text/plain": [
       "(10, 20)"
      ]
     },
     "execution_count": 67,
     "metadata": {},
     "output_type": "execute_result"
    }
   ],
   "source": [
    "a"
   ]
  },
  {
   "cell_type": "code",
   "execution_count": 68,
   "metadata": {},
   "outputs": [
    {
     "data": {
      "text/plain": [
       "tuple"
      ]
     },
     "execution_count": 68,
     "metadata": {},
     "output_type": "execute_result"
    }
   ],
   "source": [
    "type(a)"
   ]
  },
  {
   "cell_type": "code",
   "execution_count": 69,
   "metadata": {},
   "outputs": [
    {
     "data": {
      "text/plain": [
       "10"
      ]
     },
     "execution_count": 69,
     "metadata": {},
     "output_type": "execute_result"
    }
   ],
   "source": [
    "a[0]"
   ]
  },
  {
   "cell_type": "markdown",
   "metadata": {},
   "source": [
    "### 字典类型"
   ]
  },
  {
   "cell_type": "code",
   "execution_count": 70,
   "metadata": {},
   "outputs": [
    {
     "data": {
      "text/plain": [
       "dict"
      ]
     },
     "execution_count": 70,
     "metadata": {},
     "output_type": "execute_result"
    }
   ],
   "source": [
    "var={}\n",
    "var=dict()\n",
    "type(var)"
   ]
  },
  {
   "cell_type": "code",
   "execution_count": 73,
   "metadata": {},
   "outputs": [],
   "source": [
    "var={\n",
    "    '中':100,\n",
    "    '左':200\n",
    "}"
   ]
  },
  {
   "cell_type": "code",
   "execution_count": 74,
   "metadata": {},
   "outputs": [
    {
     "data": {
      "text/plain": [
       "100"
      ]
     },
     "execution_count": 74,
     "metadata": {},
     "output_type": "execute_result"
    }
   ],
   "source": [
    "var['中']"
   ]
  },
  {
   "cell_type": "code",
   "execution_count": 1,
   "metadata": {},
   "outputs": [
    {
     "data": {
      "text/plain": [
       "[('中', 100), ('左', 200)]"
      ]
     },
     "execution_count": 1,
     "metadata": {},
     "output_type": "execute_result"
    }
   ],
   "source": [
    "words=[\"中\",\"左\"]\n",
    "location=[100,200]\n",
    "location[words.index(\"中\")]\n",
    "list(zip(words,location))\n"
   ]
  },
  {
   "cell_type": "code",
   "execution_count": 80,
   "metadata": {},
   "outputs": [],
   "source": [
    "#!coding=utf-8"
   ]
  },
  {
   "cell_type": "markdown",
   "metadata": {},
   "source": [
    "### 拉锁函数"
   ]
  },
  {
   "cell_type": "code",
   "execution_count": 92,
   "metadata": {},
   "outputs": [
    {
     "name": "stdout",
     "output_type": "stream",
     "text": [
      "[('\\xe4\\xb8\\xad', 100), ('\\xe5\\xb7\\xa6', 200)]\n"
     ]
    }
   ],
   "source": [
    "print list(zip(words,location))"
   ]
  },
  {
   "cell_type": "code",
   "execution_count": 3,
   "metadata": {},
   "outputs": [],
   "source": [
    "new_var=list(zip(words,location))"
   ]
  },
  {
   "cell_type": "code",
   "execution_count": 4,
   "metadata": {},
   "outputs": [
    {
     "data": {
      "text/plain": [
       "{'中': 100, '左': 200}"
      ]
     },
     "execution_count": 4,
     "metadata": {},
     "output_type": "execute_result"
    }
   ],
   "source": [
    "dict(new_var)"
   ]
  },
  {
   "cell_type": "code",
   "execution_count": 91,
   "metadata": {},
   "outputs": [
    {
     "name": "stdout",
     "output_type": "stream",
     "text": [
      "中文\n"
     ]
    }
   ],
   "source": [
    "#!/usr/bin/env python \n",
    "\n",
    "#coding=utf-8 \n",
    "\n",
    "s=\"中文\" \n",
    "\n",
    " \n",
    "print s\n"
   ]
  },
  {
   "cell_type": "code",
   "execution_count": 10,
   "metadata": {},
   "outputs": [],
   "source": [
    "students=['a','b','c','d','e']\n",
    "money=dict.fromkeys(students,10)"
   ]
  },
  {
   "cell_type": "code",
   "execution_count": 11,
   "metadata": {},
   "outputs": [
    {
     "data": {
      "text/plain": [
       "{'a': 10, 'b': 10, 'c': 10, 'd': 10, 'e': 10}"
      ]
     },
     "execution_count": 11,
     "metadata": {},
     "output_type": "execute_result"
    }
   ],
   "source": [
    "money"
   ]
  },
  {
   "cell_type": "code",
   "execution_count": 12,
   "metadata": {},
   "outputs": [
    {
     "data": {
      "text/plain": [
       "10"
      ]
     },
     "execution_count": 12,
     "metadata": {},
     "output_type": "execute_result"
    }
   ],
   "source": [
    "money['a']"
   ]
  },
  {
   "cell_type": "code",
   "execution_count": 13,
   "metadata": {},
   "outputs": [],
   "source": [
    "a=money.get('aa',100)"
   ]
  },
  {
   "cell_type": "code",
   "execution_count": 17,
   "metadata": {},
   "outputs": [
    {
     "data": {
      "text/plain": [
       "{'a': 10, 'b': 10, 'c': 10, 'd': 10, 'e': 10}"
      ]
     },
     "execution_count": 17,
     "metadata": {},
     "output_type": "execute_result"
    }
   ],
   "source": [
    "money\n"
   ]
  },
  {
   "cell_type": "code",
   "execution_count": 18,
   "metadata": {},
   "outputs": [
    {
     "data": {
      "text/plain": [
       "dict_values([10, 10, 10, 10, 10])"
      ]
     },
     "execution_count": 18,
     "metadata": {},
     "output_type": "execute_result"
    }
   ],
   "source": [
    "money.values()"
   ]
  },
  {
   "cell_type": "code",
   "execution_count": 19,
   "metadata": {},
   "outputs": [
    {
     "data": {
      "text/plain": [
       "dict_keys(['a', 'b', 'c', 'd', 'e'])"
      ]
     },
     "execution_count": 19,
     "metadata": {},
     "output_type": "execute_result"
    }
   ],
   "source": [
    "money.keys()"
   ]
  },
  {
   "cell_type": "code",
   "execution_count": 20,
   "metadata": {},
   "outputs": [
    {
     "data": {
      "text/plain": [
       "dict_items([('a', 10), ('b', 10), ('c', 10), ('d', 10), ('e', 10)])"
      ]
     },
     "execution_count": 20,
     "metadata": {},
     "output_type": "execute_result"
    }
   ],
   "source": [
    "money.items()"
   ]
  },
  {
   "cell_type": "code",
   "execution_count": 21,
   "metadata": {},
   "outputs": [
    {
     "data": {
      "text/plain": [
       "10"
      ]
     },
     "execution_count": 21,
     "metadata": {},
     "output_type": "execute_result"
    }
   ],
   "source": [
    "money.pop('a')"
   ]
  },
  {
   "cell_type": "code",
   "execution_count": 22,
   "metadata": {},
   "outputs": [
    {
     "data": {
      "text/plain": [
       "{'b': 10, 'c': 10, 'd': 10, 'e': 10}"
      ]
     },
     "execution_count": 22,
     "metadata": {},
     "output_type": "execute_result"
    }
   ],
   "source": [
    "money"
   ]
  },
  {
   "cell_type": "code",
   "execution_count": 24,
   "metadata": {},
   "outputs": [],
   "source": [
    "money['ww']=100"
   ]
  },
  {
   "cell_type": "code",
   "execution_count": 28,
   "metadata": {},
   "outputs": [
    {
     "data": {
      "text/plain": [
       "100"
      ]
     },
     "execution_count": 28,
     "metadata": {},
     "output_type": "execute_result"
    }
   ],
   "source": [
    "money['ww']"
   ]
  },
  {
   "cell_type": "code",
   "execution_count": 31,
   "metadata": {},
   "outputs": [
    {
     "data": {
      "text/plain": [
       "1000"
      ]
     },
     "execution_count": 31,
     "metadata": {},
     "output_type": "execute_result"
    }
   ],
   "source": [
    "money.setdefault('haha',1000)"
   ]
  },
  {
   "cell_type": "code",
   "execution_count": 32,
   "metadata": {},
   "outputs": [
    {
     "data": {
      "text/plain": [
       "{'b': 10, 'c': 10, 'd': 10, 'e': 10, 'haha': 1000, 'ww': 100}"
      ]
     },
     "execution_count": 32,
     "metadata": {},
     "output_type": "execute_result"
    }
   ],
   "source": [
    "money"
   ]
  },
  {
   "cell_type": "code",
   "execution_count": 39,
   "metadata": {},
   "outputs": [
    {
     "name": "stdout",
     "output_type": "stream",
     "text": [
      "100\n"
     ]
    }
   ],
   "source": [
    "a=money.get('qq',100)\n",
    "print(a)"
   ]
  },
  {
   "cell_type": "code",
   "execution_count": 5,
   "metadata": {},
   "outputs": [
    {
     "name": "stdout",
     "output_type": "stream",
     "text": [
      "abc\n",
      "Abc\n"
     ]
    }
   ],
   "source": [
    "a='abc'\n",
    "print(a)\n",
    "a=a.replace('a','A')\n",
    "print(a)"
   ]
  },
  {
   "cell_type": "code",
   "execution_count": 6,
   "metadata": {},
   "outputs": [
    {
     "name": "stdout",
     "output_type": "stream",
     "text": [
      "aaa\n",
      "aaa\n"
     ]
    }
   ],
   "source": [
    "name=input()\n",
    "print(name)"
   ]
  },
  {
   "cell_type": "code",
   "execution_count": 8,
   "metadata": {},
   "outputs": [
    {
     "name": "stdout",
     "output_type": "stream",
     "text": [
      "1024*768= 786432\n"
     ]
    }
   ],
   "source": [
    "print('1024*768=',1024*768)"
   ]
  },
  {
   "cell_type": "code",
   "execution_count": 9,
   "metadata": {},
   "outputs": [
    {
     "data": {
      "text/plain": [
       "1.75"
      ]
     },
     "execution_count": 9,
     "metadata": {},
     "output_type": "execute_result"
    }
   ],
   "source": [
    "7/4"
   ]
  },
  {
   "cell_type": "code",
   "execution_count": 10,
   "metadata": {},
   "outputs": [
    {
     "data": {
      "text/plain": [
       "1.75"
      ]
     },
     "execution_count": 10,
     "metadata": {},
     "output_type": "execute_result"
    }
   ],
   "source": [
    "7.0/4.0"
   ]
  },
  {
   "cell_type": "code",
   "execution_count": 8,
   "metadata": {},
   "outputs": [
    {
     "data": {
      "text/plain": [
       "2"
      ]
     },
     "execution_count": 8,
     "metadata": {},
     "output_type": "execute_result"
    }
   ],
   "source": [
    "round(1.73333)"
   ]
  },
  {
   "cell_type": "code",
   "execution_count": 14,
   "metadata": {},
   "outputs": [
    {
     "name": "stdout",
     "output_type": "stream",
     "text": [
      "isn't that joke funny?! 'False'\n"
     ]
    }
   ],
   "source": [
    "hil = \"False\"\n",
    "jok = \"isn't that joke funny?! %r\"\n",
    "print (jok % hil)"
   ]
  },
  {
   "cell_type": "code",
   "execution_count": 9,
   "metadata": {},
   "outputs": [
    {
     "name": "stdout",
     "output_type": "stream",
     "text": [
      "1 2 3 4\n"
     ]
    }
   ],
   "source": [
    "formatter = \"%r %r %r %r\"\n",
    "print(formatter % (1,2,3,4))"
   ]
  },
  {
   "cell_type": "code",
   "execution_count": 40,
   "metadata": {},
   "outputs": [
    {
     "name": "stdout",
     "output_type": "stream",
     "text": [
      "%r \n",
      "\n"
     ]
    }
   ],
   "source": [
    "a=\"\\n\"\n",
    "print(\"%r\", '\\n')"
   ]
  },
  {
   "cell_type": "code",
   "execution_count": 3,
   "metadata": {},
   "outputs": [
    {
     "data": {
      "text/plain": [
       "1152"
      ]
     },
     "execution_count": 3,
     "metadata": {},
     "output_type": "execute_result"
    }
   ],
   "source": [
    "from os.path import exists\n",
    "#print(\"%r\" % exists(\"e:\\\\0928.TXT\"))\n",
    "open(\"e:\\\\0928.TXTBAK\",'w').write(open(\"e:\\\\0928.TXT\").read())"
   ]
  },
  {
   "cell_type": "code",
   "execution_count": 4,
   "metadata": {},
   "outputs": [
    {
     "ename": "ValueError",
     "evalue": "too many values to unpack (expected 2)",
     "output_type": "error",
     "traceback": [
      "\u001b[1;31m---------------------------------------------------------------------------\u001b[0m",
      "\u001b[1;31mValueError\u001b[0m                                Traceback (most recent call last)",
      "\u001b[1;32m<ipython-input-4-ddb7e25e127c>\u001b[0m in \u001b[0;36m<module>\u001b[1;34m()\u001b[0m\n\u001b[0;32m      1\u001b[0m \u001b[1;32mfrom\u001b[0m \u001b[0msys\u001b[0m \u001b[1;32mimport\u001b[0m \u001b[0margv\u001b[0m\u001b[1;33m\u001b[0m\u001b[0m\n\u001b[0;32m      2\u001b[0m \u001b[1;33m\u001b[0m\u001b[0m\n\u001b[1;32m----> 3\u001b[1;33m \u001b[0mscript\u001b[0m\u001b[1;33m,\u001b[0m\u001b[0minput_file\u001b[0m \u001b[1;33m=\u001b[0m \u001b[0margv\u001b[0m\u001b[1;33m\u001b[0m\u001b[0m\n\u001b[0m\u001b[0;32m      4\u001b[0m \u001b[1;33m\u001b[0m\u001b[0m\n\u001b[0;32m      5\u001b[0m \u001b[1;32mdef\u001b[0m \u001b[0mprint_all\u001b[0m\u001b[1;33m(\u001b[0m\u001b[0mf\u001b[0m\u001b[1;33m)\u001b[0m\u001b[1;33m:\u001b[0m\u001b[1;33m\u001b[0m\u001b[0m\n",
      "\u001b[1;31mValueError\u001b[0m: too many values to unpack (expected 2)"
     ]
    }
   ],
   "source": [
    "from sys import argv \n",
    "\n",
    "script,input_file = argv\n",
    "\n",
    "def print_all(f):\n",
    "    print (f.read())\n",
    "\n",
    "def rewind(f):\n",
    "    f.seek(0)\n",
    "\n",
    "def print_a_line(line_count,f):\n",
    "    print(line_count,f.readline())\n",
    "current_file = open(input_file)\n",
    "\n",
    "print (\"First let's print the whole file:\\n\")\n",
    "\n",
    "print_all(current_file)\n",
    "\n",
    "print (\"Now let's rewind, kind of like a tape.\")\n",
    "\n",
    "rewind(current_file)\n",
    "\n",
    "print(\"let's print there lines:\")\n",
    "\n",
    "current_line = 1\n",
    "\n",
    "print_a_line(current_line,current_file)\n",
    "current_line = current_line +1\n",
    "\n",
    "print_a_line(current_line,current_file)\n",
    "current_line = current_line +1\n",
    "\n",
    "print_a_line(current_line,current_file)\n"
   ]
  },
  {
   "cell_type": "markdown",
   "metadata": {},
   "source": [
    "|word1|convey|\n",
    "|:----|:--------------|\n",
    "|shoal|a small,raised area of sand just below the surface of the water|\n",
    "|meagre|deficient in amount or quality or extent|\n",
    "|marble|a small ball of coloured glass that chidren roll along the ground in a game|\n",
    "|corporate|connected with a corporation|\n",
    "|border on|v.近似，接近|\n",
    "|stagger|to move or cause(someone) to move unsteadily from side to side|\n",
    "|muddle|v.（使）混乱，（使）迷惑，混淆；n.hunluan，杂乱，（头脑的）糊涂|\n",
    "|patent|an official document that gives a person or company the right to be the only one that makes or sells a product for a certain period of time|\n",
    "|clash|to come into cinflict with someone|\n",
    "|tighten|to make(somthing) tight or tighter or to become tight or tighter|\n",
    "|queer|odd or unusual|\n",
    "|upright|sitting or standing with the back straight|\n",
    "|decree|to order or decide (something) in an official way|\n",
    "|----|--------------|\n",
    "|impede|to slow te movement,progress,or action of (something or someone)|\n",
    "|revolve|to go in a circle around a central point|\n",
    "|scent|a pleasant smellthat is produced by something|\n",
    "|discern|to see,hear,or notice (something) with difficulty or effort|\n",
    "|clan|a large family|\n",
    "|keep sb.(sth.) out (of)|be far away from |\n",
    "|continuity|the quality of something that does not or change as time passes;a continuous quality|\n",
    "|affaction|the feeling of liking or loving somebody/something very much and caring about them|\n",
    "|barber|a person whose job is to cut men's hair and sometimes to shave them|\n",
    "|simultaneous|happening at the same time|\n",
    "|adhere|to stick to something;to attach firmly to something|\n",
    "|caustic|able to destroy or burn something by chemical action|\n",
    "|shimmer| to shine with a light that seems to move slightly|\n",
    "|throbbing|pounding or beating strongly or violently|\n",
    "|----|--------------|\n",
    "|volatile|easily becoming a gas at a fairly low temperature|\n",
    "|curriculum vitae|a short document that describes your education work experience,etc|\n",
    "|keep off|refrain from entering or walking onto|\n",
    "|infirmary|a place where sick people stay and are cared for in a school,prison,summer camp,etc.|\n",
    "|permeates through|spread or diffuse through|\n",
    "|annoy|to cause (someone) to feel slightly angry|\n",
    "|accompany|to travel or go some where with somebody;to happen or appear with something else|\n",
    "|cumbersome|hard to handle or manage because of size or weight|\n",
    "|click|forerunner|a person or thing that came before and influenced somebody or something else that is similar;|\n",
    "|bull|an adult male animal of the ox and cow family|\n",
    "|are bent on|having a strong desire to do (something)|\n",
    "|unrest|a situation in which many of the people in a country are angry and hold protests or act violently|\n",
    "|sketch|a simple picture that is drawn quickly and does not have many details;|\n",
    "|trick|hydrogen|a chemical element.Hydrogen is a gas that is the lightest of all the elemments.|\n",
    "|----|--------------|\n",
    "|concoct|to make (a food or drink) by mixing different things together|\n",
    "|slope|ground that slants downward or upward |\n",
    "|manufacture|to make goods in large quantities|\n",
    "|scale|the size or extent of something |\n",
    "|assimilate |to cause(a person or a group)to become part of different society|\n",
    "|prohibit|to stop something from being done or used especially by law|\n",
    "|inhibit|to keep(someone) from doing what he or she wants to do|\n",
    "|pose|a particular position in which somebody stands|\n",
    "|monopoly|the complete conrol of trade in particular goods or the supply of a particular service|\n",
    "|universal|existent or operative everywhere or under all conditions|\n",
    "|statute|a written law that is formally created by a goverment|\n",
    "|nothces|a small cut that is shaped like a V and that is made on an edge or a surface|\n",
    "|toll|an amount of money that you are required to pay for the use of a road or brige|\n",
    "|dwelling|to live in a paricular place|\n",
    "|mechanism|a set of moving parts in a machine that has particular function|\n",
    "|mist|a cloud of very small drops of water in the air just above the groud |\n",
    "|confuse|to think wrongly that somebody/something is somebody/something else|\n",
    "|chew|to bite on (something)repeatly with the teeth|"
   ]
  },
  {
   "cell_type": "code",
   "execution_count": 10,
   "metadata": {},
   "outputs": [
    {
     "data": {
      "text/plain": [
       "'NEVER'"
      ]
     },
     "execution_count": 10,
     "metadata": {},
     "output_type": "execute_result"
    }
   ],
   "source": [
    "True and \"NEVER\""
   ]
  },
  {
   "cell_type": "code",
   "execution_count": 28,
   "metadata": {},
   "outputs": [],
   "source": [
    "def num_add(max,add):\n",
    "    i = 0\n",
    "    nums = []\n",
    "    while i<max:\n",
    "        print (\"%d\" % i)\n",
    "        nums.append(i)\n",
    "    \n",
    "        i = i + add\n",
    "        print(\"number:\",nums)\n",
    "        print(\"%d\" % i)\n",
    "    for num in nums:\n",
    "        print (num)"
   ]
  },
  {
   "cell_type": "code",
   "execution_count": 29,
   "metadata": {},
   "outputs": [
    {
     "name": "stdout",
     "output_type": "stream",
     "text": [
      "0\n",
      "number: [0]\n",
      "2\n",
      "2\n",
      "number: [0, 2]\n",
      "4\n",
      "4\n",
      "number: [0, 2, 4]\n",
      "6\n",
      "0\n",
      "2\n",
      "4\n"
     ]
    }
   ],
   "source": [
    "num_add(5,2)"
   ]
  },
  {
   "cell_type": "code",
   "execution_count": 35,
   "metadata": {},
   "outputs": [
    {
     "name": "stdout",
     "output_type": "stream",
     "text": [
      "0\n",
      "number: [0]\n",
      "1\n",
      "1\n",
      "number: [0, 1]\n",
      "2\n",
      "2\n",
      "number: [0, 1, 2]\n",
      "3\n",
      "3\n",
      "number: [0, 1, 2, 3]\n",
      "4\n",
      "4\n",
      "number: [0, 1, 2, 3, 4]\n",
      "5\n",
      "5\n",
      "number: [0, 1, 2, 3, 4, 5]\n",
      "6\n",
      "0\n",
      "1\n",
      "2\n",
      "3\n",
      "4\n",
      "5\n"
     ]
    }
   ],
   "source": [
    "nums = []\n",
    "for i in range(0,6):\n",
    "    print (\"%d\" % i)\n",
    "    nums.append(i)\n",
    "    \n",
    "    i = i + 1\n",
    "    print(\"number:\",nums)\n",
    "    print(\"%d\" % i)\n",
    "for num in nums:\n",
    "    print (num)"
   ]
  },
  {
   "cell_type": "code",
   "execution_count": 20,
   "metadata": {},
   "outputs": [
    {
     "name": "stdout",
     "output_type": "stream",
     "text": [
      ">1\n",
      "is num\n"
     ]
    }
   ],
   "source": [
    "from sys import exit\n",
    "def ifnum(n):\n",
    "    while True:\n",
    "        if \"1\" in n or \"0\" in n:\n",
    "            print(\"is num\")\n",
    "            break\n",
    "        else:\n",
    "            print(\"is not num\")\n",
    "            break\n",
    "n=input(\">\")\n",
    "ifnum(n)"
   ]
  },
  {
   "cell_type": "code",
   "execution_count": 21,
   "metadata": {},
   "outputs": [
    {
     "name": "stdout",
     "output_type": "stream",
     "text": [
      ">1\n",
      "is num\n",
      "num\n"
     ]
    }
   ],
   "source": [
    "n=input(\">\")\n",
    "ifnum(n)\n",
    "if n.isdigit():\n",
    "    print(\"num\")\n",
    "else:\n",
    "    print(\"not\")"
   ]
  },
  {
   "cell_type": "code",
   "execution_count": 22,
   "metadata": {},
   "outputs": [
    {
     "data": {
      "text/plain": [
       "1152"
      ]
     },
     "execution_count": 22,
     "metadata": {},
     "output_type": "execute_result"
    }
   ],
   "source": [
    "open(\"e:\\\\0928.TXTBAK\",'w').write(open(\"e:\\\\0928.TXT\").read())"
   ]
  },
  {
   "cell_type": "code",
   "execution_count": 23,
   "metadata": {},
   "outputs": [
    {
     "data": {
      "text/plain": [
       "\"'T_ECM_EXCHMSGBOOK'\\n,'T_BUE,'T_HANDLECHECKBOOK'\\n,'T_BEPS_INVOICEPRINTBOOK'\\n,'T_BEPS_CHARGELEXTBOOK'\\n,'T_CPM_ACCPAYBOOK'\\n,'T_CPM_ACCQUERYBOOK'\\n,'T_POP_CNAPSDIGITALCERBOOK'\\n,'T_POP_RETURNBOOK'\\n,'T_POP_RETURNRSPLISTBOOK'\\n,'T_POP_REPLYBOOK'\\n,'T_POP_STOPPAYBOOK'\\n,'T_POP_STOPPAYRSPLISTBOOK'\\n,'T_POP_HEYAQUERYBOOK'\\n,'T_POP_CANCELBOOK'\\n,'T_POP_RETURNRSPBOOK'\\n,'T_POP_STOPPAYLISTBOOK'\\n,'T_POP_STOPPAYRSPBOOK'\\n,'T_POP_GENERALRSPINFOBOOK'\\n,'T_POP_GENERALINFOBOOK'\\n,'T_POP_QUERYSTATUSBOOK'\\n,'T_POP_LOGINOUTFLOW\\n,'T_POP_FREEBOOK'\\n\\nselect table_name,COLUMN_NAME,DATA_LENGTH from user_tab_cols where COLUMN_NAME='CUSMATTRIBUTE1' and table_name in ('T_ECM_EXCHMSGBOOK'\\n,'T_BUET_HANDLECHECKBOOK'\\n,'T_BEPS_INVOICEPRINTBOOK'\\n,'T_BEPS_CHARGELEXTBOOK'\\n,'T_CPM_ACCPAYBOOK'\\n,'T_CPM_ACCQUERYBOOK'\\n,'T_POP_CNAPSDIGITALCERBOOK'\\n,'T_POP_RETURNBOOK'\\n,'T_POP_RETURNRSPLISTBOOK'\\n,'T_POP_REPLYBOOK'\\n,'T_POP_STOPPAYBOOK'\\n,'T_POP_STOPPAYRSPLISTBOOK'\\n,'T_POP_HEYAQUERYBOOK'\\n,'T_POP_CANCELBOOK'\\n,'T_POP_RETURNRSPBOOK'\\n,'T_POP_STOPPAYLISTBOOK'\\n,'T_POP_STOPPAYRSPBOOK'\\n,'T_POP_GENERALRSPINFOBOOK'\\n,'T_POP_GENERALINFOBOOK'\\n,'T_POP_QUERYSTATUSBOOK'\\n,'T_POP_LOGINOUTFLOW'\\n,'T_POP_FREEBOOK');\""
      ]
     },
     "execution_count": 23,
     "metadata": {},
     "output_type": "execute_result"
    }
   ],
   "source": [
    "open(\"e:\\\\0928.TXT\").read()\n"
   ]
  },
  {
   "cell_type": "code",
   "execution_count": 24,
   "metadata": {},
   "outputs": [
    {
     "data": {
      "text/plain": [
       "\"'T_ECM_EXCHMSGBOOK'\\n,'T_BUE,'T_HANDLECHECKBOOK'\\n,'T_BEPS_INVOICEPRINTBOOK'\\n,'T_BEPS_CHARGELEXTBOOK'\\n,'T_CPM_ACCPAYBOOK'\\n,'T_CPM_ACCQUERYBOOK'\\n,'T_POP_CNAPSDIGITALCERBOOK'\\n,'T_POP_RETURNBOOK'\\n,'T_POP_RETURNRSPLISTBOOK'\\n,'T_POP_REPLYBOOK'\\n,'T_POP_STOPPAYBOOK'\\n,'T_POP_STOPPAYRSPLISTBOOK'\\n,'T_POP_HEYAQUERYBOOK'\\n,'T_POP_CANCELBOOK'\\n,'T_POP_RETURNRSPBOOK'\\n,'T_POP_STOPPAYLISTBOOK'\\n,'T_POP_STOPPAYRSPBOOK'\\n,'T_POP_GENERALRSPINFOBOOK'\\n,'T_POP_GENERALINFOBOOK'\\n,'T_POP_QUERYSTATUSBOOK'\\n,'T_POP_LOGINOUTFLOW\\n,'T_POP_FREEBOOK'\\n\\nselect table_name,COLUMN_NAME,DATA_LENGTH from user_tab_cols where COLUMN_NAME='CUSMATTRIBUTE1' and table_name in ('T_ECM_EXCHMSGBOOK'\\n,'T_BUET_HANDLECHECKBOOK'\\n,'T_BEPS_INVOICEPRINTBOOK'\\n,'T_BEPS_CHARGELEXTBOOK'\\n,'T_CPM_ACCPAYBOOK'\\n,'T_CPM_ACCQUERYBOOK'\\n,'T_POP_CNAPSDIGITALCERBOOK'\\n,'T_POP_RETURNBOOK'\\n,'T_POP_RETURNRSPLISTBOOK'\\n,'T_POP_REPLYBOOK'\\n,'T_POP_STOPPAYBOOK'\\n,'T_POP_STOPPAYRSPLISTBOOK'\\n,'T_POP_HEYAQUERYBOOK'\\n,'T_POP_CANCELBOOK'\\n,'T_POP_RETURNRSPBOOK'\\n,'T_POP_STOPPAYLISTBOOK'\\n,'T_POP_STOPPAYRSPBOOK'\\n,'T_POP_GENERALRSPINFOBOOK'\\n,'T_POP_GENERALINFOBOOK'\\n,'T_POP_QUERYSTATUSBOOK'\\n,'T_POP_LOGINOUTFLOW'\\n,'T_POP_FREEBOOK');\""
      ]
     },
     "execution_count": 24,
     "metadata": {},
     "output_type": "execute_result"
    }
   ],
   "source": [
    "open(\"e:\\\\0928.TXTBAK\").read()"
   ]
  },
  {
   "cell_type": "code",
   "execution_count": 56,
   "metadata": {},
   "outputs": [
    {
     "name": "stdout",
     "output_type": "stream",
     "text": [
      "<class 'str'>\n"
     ]
    },
    {
     "ename": "SyntaxError",
     "evalue": "invalid syntax (<string>, line 1)",
     "output_type": "error",
     "traceback": [
      "Traceback \u001b[1;36m(most recent call last)\u001b[0m:\n",
      "  File \u001b[0;32m\"C:\\ProgramData\\Anaconda3\\lib\\site-packages\\IPython\\core\\interactiveshell.py\"\u001b[0m, line \u001b[0;32m2910\u001b[0m, in \u001b[0;35mrun_code\u001b[0m\n    exec(code_obj, self.user_global_ns, self.user_ns)\n",
      "\u001b[1;36m  File \u001b[1;32m\"<ipython-input-56-6c1d2c20d28f>\"\u001b[1;36m, line \u001b[1;32m43\u001b[1;36m, in \u001b[1;35m<module>\u001b[1;36m\u001b[0m\n\u001b[1;33m    exec (pyexec)\u001b[0m\n",
      "\u001b[1;36m  File \u001b[1;32m\"<string>\"\u001b[1;36m, line \u001b[1;32m1\u001b[0m\n\u001b[1;33m    python e:\\test.py text.txt\u001b[0m\n\u001b[1;37m           ^\u001b[0m\n\u001b[1;31mSyntaxError\u001b[0m\u001b[1;31m:\u001b[0m invalid syntax\n"
     ]
    }
   ],
   "source": [
    "a=\"\"\"\n",
    "from sys import argv \n",
    "\n",
    "script,input_file = argv\n",
    "\n",
    "def print_all(f):\n",
    "    print (f.read())\n",
    "\n",
    "def rewind(f):\n",
    "    f.seek(0)\n",
    "\n",
    "def print_a_line(line_count,f):\n",
    "    print(line_count,f.readline())\n",
    "current_file = open(input_file)\n",
    "\n",
    "print (\"First let's print the whole file:\\n\")\n",
    "\n",
    "print_all(current_file)\n",
    "\n",
    "print (\"Now let's rewind, kind of like a tape.\")\n",
    "\n",
    "rewind(current_file)\n",
    "\n",
    "print(\"let's print there lines:\")\n",
    "\n",
    "current_line = 1\n",
    "\n",
    "print_a_line(current_line,current_file)\n",
    "current_line = current_line +1\n",
    "\n",
    "print_a_line(current_line,current_file)\n",
    "current_line = current_line +1\n",
    "\n",
    "print_a_line(current_line,current_file)\n",
    "\"\"\"\n",
    "b=\"print('ok')\"\n",
    "open(\"e:\\\\test.py\",\"w\").write(a)\n",
    "\n",
    "script=open(\"e:\\\\test.py\").read()\n",
    "print(type(script))\n",
    "#print(script)\n",
    "pyexec=\"python e:\\\\test.py text.txt\"\n",
    "exec (pyexec)\n"
   ]
  },
  {
   "cell_type": "code",
   "execution_count": 47,
   "metadata": {},
   "outputs": [
    {
     "name": "stdout",
     "output_type": "stream",
     "text": [
      "60\n"
     ]
    }
   ],
   "source": [
    "x = 10\n",
    "expr = \"\"\"\n",
    "z = 30\n",
    "sum = x + y + z   #一大包代码\n",
    "print(sum)\n",
    "\"\"\"\n",
    "def func():\n",
    "    y = 20\n",
    "    exec(expr) \n",
    "    #exec(expr,{'x':1,'y':2}) 30+1+2\n",
    "    #exec(expr,{'x':1,'y':2},{'y':3,'z':4}) #30+1+3，x是定义全局变量1，y是局部变量\n",
    "\n",
    "func()"
   ]
  },
  {
   "cell_type": "code",
   "execution_count": 57,
   "metadata": {},
   "outputs": [
    {
     "name": "stdout",
     "output_type": "stream",
     "text": [
      "(Cmd) python e:\\test.py text.txt\n",
      "*** Unknown syntax: python e:\\test.py text.txt\n",
      "(Cmd) e:\\test.py text.txt\n",
      "*** Unknown syntax: e:\\test.py text.txt\n",
      "(Cmd) dir\n",
      "*** Unknown syntax: dir\n",
      "(Cmd) baby\n",
      "*** Unknown syntax: baby\n",
      "(Cmd) \n",
      "*** Unknown syntax: baby\n",
      "(Cmd) \n",
      "*** Unknown syntax: baby\n",
      "(Cmd) do_hellp()\n",
      "*** Unknown syntax: do_hellp()\n",
      "(Cmd) do_hello()\n",
      "*** Unknown syntax: do_hello()\n",
      "(Cmd) do_hello(\"baby\")\n",
      "*** Unknown syntax: do_hello(\"baby\")\n",
      "(Cmd) hello baby\n",
      "Hello baby\n",
      "(Cmd) hello\n",
      "Hello \n",
      "(Cmd) exit\n",
      "*** Unknown syntax: exit\n",
      "(Cmd) exit()\n",
      "*** Unknown syntax: exit()\n",
      "(Cmd) exit\n"
     ]
    },
    {
     "ename": "KeyboardInterrupt",
     "evalue": "",
     "output_type": "error",
     "traceback": [
      "\u001b[1;31m---------------------------------------------------------------------------\u001b[0m",
      "\u001b[1;31mKeyboardInterrupt\u001b[0m                         Traceback (most recent call last)",
      "\u001b[1;32mC:\\ProgramData\\Anaconda3\\lib\\site-packages\\ipykernel\\kernelbase.py\u001b[0m in \u001b[0;36m_input_request\u001b[1;34m(self, prompt, ident, parent, password)\u001b[0m\n\u001b[0;32m    728\u001b[0m             \u001b[1;32mtry\u001b[0m\u001b[1;33m:\u001b[0m\u001b[1;33m\u001b[0m\u001b[0m\n\u001b[1;32m--> 729\u001b[1;33m                 \u001b[0mident\u001b[0m\u001b[1;33m,\u001b[0m \u001b[0mreply\u001b[0m \u001b[1;33m=\u001b[0m \u001b[0mself\u001b[0m\u001b[1;33m.\u001b[0m\u001b[0msession\u001b[0m\u001b[1;33m.\u001b[0m\u001b[0mrecv\u001b[0m\u001b[1;33m(\u001b[0m\u001b[0mself\u001b[0m\u001b[1;33m.\u001b[0m\u001b[0mstdin_socket\u001b[0m\u001b[1;33m,\u001b[0m \u001b[1;36m0\u001b[0m\u001b[1;33m)\u001b[0m\u001b[1;33m\u001b[0m\u001b[0m\n\u001b[0m\u001b[0;32m    730\u001b[0m             \u001b[1;32mexcept\u001b[0m \u001b[0mException\u001b[0m\u001b[1;33m:\u001b[0m\u001b[1;33m\u001b[0m\u001b[0m\n",
      "\u001b[1;32mC:\\ProgramData\\Anaconda3\\lib\\site-packages\\jupyter_client\\session.py\u001b[0m in \u001b[0;36mrecv\u001b[1;34m(self, socket, mode, content, copy)\u001b[0m\n\u001b[0;32m    802\u001b[0m         \u001b[1;32mtry\u001b[0m\u001b[1;33m:\u001b[0m\u001b[1;33m\u001b[0m\u001b[0m\n\u001b[1;32m--> 803\u001b[1;33m             \u001b[0mmsg_list\u001b[0m \u001b[1;33m=\u001b[0m \u001b[0msocket\u001b[0m\u001b[1;33m.\u001b[0m\u001b[0mrecv_multipart\u001b[0m\u001b[1;33m(\u001b[0m\u001b[0mmode\u001b[0m\u001b[1;33m,\u001b[0m \u001b[0mcopy\u001b[0m\u001b[1;33m=\u001b[0m\u001b[0mcopy\u001b[0m\u001b[1;33m)\u001b[0m\u001b[1;33m\u001b[0m\u001b[0m\n\u001b[0m\u001b[0;32m    804\u001b[0m         \u001b[1;32mexcept\u001b[0m \u001b[0mzmq\u001b[0m\u001b[1;33m.\u001b[0m\u001b[0mZMQError\u001b[0m \u001b[1;32mas\u001b[0m \u001b[0me\u001b[0m\u001b[1;33m:\u001b[0m\u001b[1;33m\u001b[0m\u001b[0m\n",
      "\u001b[1;32mC:\\ProgramData\\Anaconda3\\lib\\site-packages\\zmq\\sugar\\socket.py\u001b[0m in \u001b[0;36mrecv_multipart\u001b[1;34m(self, flags, copy, track)\u001b[0m\n\u001b[0;32m    394\u001b[0m         \"\"\"\n\u001b[1;32m--> 395\u001b[1;33m         \u001b[0mparts\u001b[0m \u001b[1;33m=\u001b[0m \u001b[1;33m[\u001b[0m\u001b[0mself\u001b[0m\u001b[1;33m.\u001b[0m\u001b[0mrecv\u001b[0m\u001b[1;33m(\u001b[0m\u001b[0mflags\u001b[0m\u001b[1;33m,\u001b[0m \u001b[0mcopy\u001b[0m\u001b[1;33m=\u001b[0m\u001b[0mcopy\u001b[0m\u001b[1;33m,\u001b[0m \u001b[0mtrack\u001b[0m\u001b[1;33m=\u001b[0m\u001b[0mtrack\u001b[0m\u001b[1;33m)\u001b[0m\u001b[1;33m]\u001b[0m\u001b[1;33m\u001b[0m\u001b[0m\n\u001b[0m\u001b[0;32m    396\u001b[0m         \u001b[1;31m# have first part already, only loop while more to receive\u001b[0m\u001b[1;33m\u001b[0m\u001b[1;33m\u001b[0m\u001b[0m\n",
      "\u001b[1;32mzmq/backend/cython/socket.pyx\u001b[0m in \u001b[0;36mzmq.backend.cython.socket.Socket.recv\u001b[1;34m()\u001b[0m\n",
      "\u001b[1;32mzmq/backend/cython/socket.pyx\u001b[0m in \u001b[0;36mzmq.backend.cython.socket.Socket.recv\u001b[1;34m()\u001b[0m\n",
      "\u001b[1;32mzmq/backend/cython/socket.pyx\u001b[0m in \u001b[0;36mzmq.backend.cython.socket._recv_copy\u001b[1;34m()\u001b[0m\n",
      "\u001b[1;32mC:\\ProgramData\\Anaconda3\\lib\\site-packages\\zmq\\backend\\cython\\checkrc.pxd\u001b[0m in \u001b[0;36mzmq.backend.cython.checkrc._check_rc\u001b[1;34m()\u001b[0m\n",
      "\u001b[1;31mKeyboardInterrupt\u001b[0m: ",
      "\nDuring handling of the above exception, another exception occurred:\n",
      "\u001b[1;31mKeyboardInterrupt\u001b[0m                         Traceback (most recent call last)",
      "\u001b[1;32m<ipython-input-57-a817849665cb>\u001b[0m in \u001b[0;36m<module>\u001b[1;34m()\u001b[0m\n\u001b[0;32m     12\u001b[0m \u001b[1;32mif\u001b[0m \u001b[0m__name__\u001b[0m \u001b[1;33m==\u001b[0m \u001b[1;34m'__main__'\u001b[0m\u001b[1;33m:\u001b[0m\u001b[1;33m\u001b[0m\u001b[0m\n\u001b[0;32m     13\u001b[0m     \u001b[0mcli\u001b[0m \u001b[1;33m=\u001b[0m \u001b[0mCli\u001b[0m\u001b[1;33m(\u001b[0m\u001b[1;33m)\u001b[0m\u001b[1;33m\u001b[0m\u001b[0m\n\u001b[1;32m---> 14\u001b[1;33m     \u001b[0mcli\u001b[0m\u001b[1;33m.\u001b[0m\u001b[0mcmdloop\u001b[0m\u001b[1;33m(\u001b[0m\u001b[1;33m)\u001b[0m\u001b[1;33m\u001b[0m\u001b[0m\n\u001b[0m",
      "\u001b[1;32mC:\\ProgramData\\Anaconda3\\lib\\cmd.py\u001b[0m in \u001b[0;36mcmdloop\u001b[1;34m(self, intro)\u001b[0m\n\u001b[0;32m    124\u001b[0m                     \u001b[1;32mif\u001b[0m \u001b[0mself\u001b[0m\u001b[1;33m.\u001b[0m\u001b[0muse_rawinput\u001b[0m\u001b[1;33m:\u001b[0m\u001b[1;33m\u001b[0m\u001b[0m\n\u001b[0;32m    125\u001b[0m                         \u001b[1;32mtry\u001b[0m\u001b[1;33m:\u001b[0m\u001b[1;33m\u001b[0m\u001b[0m\n\u001b[1;32m--> 126\u001b[1;33m                             \u001b[0mline\u001b[0m \u001b[1;33m=\u001b[0m \u001b[0minput\u001b[0m\u001b[1;33m(\u001b[0m\u001b[0mself\u001b[0m\u001b[1;33m.\u001b[0m\u001b[0mprompt\u001b[0m\u001b[1;33m)\u001b[0m\u001b[1;33m\u001b[0m\u001b[0m\n\u001b[0m\u001b[0;32m    127\u001b[0m                         \u001b[1;32mexcept\u001b[0m \u001b[0mEOFError\u001b[0m\u001b[1;33m:\u001b[0m\u001b[1;33m\u001b[0m\u001b[0m\n\u001b[0;32m    128\u001b[0m                             \u001b[0mline\u001b[0m \u001b[1;33m=\u001b[0m \u001b[1;34m'EOF'\u001b[0m\u001b[1;33m\u001b[0m\u001b[0m\n",
      "\u001b[1;32mC:\\ProgramData\\Anaconda3\\lib\\site-packages\\ipykernel\\kernelbase.py\u001b[0m in \u001b[0;36mraw_input\u001b[1;34m(self, prompt)\u001b[0m\n\u001b[0;32m    702\u001b[0m             \u001b[0mself\u001b[0m\u001b[1;33m.\u001b[0m\u001b[0m_parent_ident\u001b[0m\u001b[1;33m,\u001b[0m\u001b[1;33m\u001b[0m\u001b[0m\n\u001b[0;32m    703\u001b[0m             \u001b[0mself\u001b[0m\u001b[1;33m.\u001b[0m\u001b[0m_parent_header\u001b[0m\u001b[1;33m,\u001b[0m\u001b[1;33m\u001b[0m\u001b[0m\n\u001b[1;32m--> 704\u001b[1;33m             \u001b[0mpassword\u001b[0m\u001b[1;33m=\u001b[0m\u001b[1;32mFalse\u001b[0m\u001b[1;33m,\u001b[0m\u001b[1;33m\u001b[0m\u001b[0m\n\u001b[0m\u001b[0;32m    705\u001b[0m         )\n\u001b[0;32m    706\u001b[0m \u001b[1;33m\u001b[0m\u001b[0m\n",
      "\u001b[1;32mC:\\ProgramData\\Anaconda3\\lib\\site-packages\\ipykernel\\kernelbase.py\u001b[0m in \u001b[0;36m_input_request\u001b[1;34m(self, prompt, ident, parent, password)\u001b[0m\n\u001b[0;32m    732\u001b[0m             \u001b[1;32mexcept\u001b[0m \u001b[0mKeyboardInterrupt\u001b[0m\u001b[1;33m:\u001b[0m\u001b[1;33m\u001b[0m\u001b[0m\n\u001b[0;32m    733\u001b[0m                 \u001b[1;31m# re-raise KeyboardInterrupt, to truncate traceback\u001b[0m\u001b[1;33m\u001b[0m\u001b[1;33m\u001b[0m\u001b[0m\n\u001b[1;32m--> 734\u001b[1;33m                 \u001b[1;32mraise\u001b[0m \u001b[0mKeyboardInterrupt\u001b[0m\u001b[1;33m\u001b[0m\u001b[0m\n\u001b[0m\u001b[0;32m    735\u001b[0m             \u001b[1;32melse\u001b[0m\u001b[1;33m:\u001b[0m\u001b[1;33m\u001b[0m\u001b[0m\n\u001b[0;32m    736\u001b[0m                 \u001b[1;32mbreak\u001b[0m\u001b[1;33m\u001b[0m\u001b[0m\n",
      "\u001b[1;31mKeyboardInterrupt\u001b[0m: "
     ]
    }
   ],
   "source": [
    "from cmd import Cmd\n",
    "import os\n",
    "import sys\n",
    "\n",
    "class Cli(Cmd):\n",
    "    def __init(self):\n",
    "        Cmd.__init__(self)\n",
    "\n",
    "    def do_hello(self,line):\n",
    "        print (\"Hello\",line)\n",
    "\n",
    "if __name__ == '__main__':\n",
    "    cli = Cli()\n",
    "    cli.cmdloop()"
   ]
  },
  {
   "cell_type": "code",
   "execution_count": 70,
   "metadata": {},
   "outputs": [
    {
     "ename": "SyntaxError",
     "evalue": "'return' outside function (<ipython-input-70-6d194ee57886>, line 8)",
     "output_type": "error",
     "traceback": [
      "\u001b[1;36m  File \u001b[1;32m\"<ipython-input-70-6d194ee57886>\"\u001b[1;36m, line \u001b[1;32m8\u001b[0m\n\u001b[1;33m    return -1\u001b[0m\n\u001b[1;37m    ^\u001b[0m\n\u001b[1;31mSyntaxError\u001b[0m\u001b[1;31m:\u001b[0m 'return' outside function\n"
     ]
    }
   ],
   "source": [
    "p = Popen(\"dir\", shell=True)  \n",
    "p.wait()  \n",
    "\n",
    "if p.returncode != 0:  \n",
    "\n",
    "    print (\"Error.\")  \n",
    "\n",
    "    return -1  \n"
   ]
  },
  {
   "cell_type": "code",
   "execution_count": 83,
   "metadata": {},
   "outputs": [
    {
     "name": "stdout",
     "output_type": "stream",
     "text": [
      "A.add<__main__.A object at 0x00000000057B4CF8>\n"
     ]
    }
   ],
   "source": [
    "class A:\n",
    "    def add(self, x):\n",
    "        print(\"A.add%s\" %x)\n",
    "    pass\n",
    "class B(A):\n",
    "    def add(self, x):\n",
    "        super().add(x)\n",
    "oa=A()\n",
    "ob=B()\n",
    "ob.add(oa)\n",
    "# super() 函数是用于调用父类(超类)的一个方法。"
   ]
  },
  {
   "cell_type": "code",
   "execution_count": null,
   "metadata": {},
   "outputs": [],
   "source": []
  },
  {
   "cell_type": "code",
   "execution_count": null,
   "metadata": {},
   "outputs": [],
   "source": []
  },
  {
   "cell_type": "code",
   "execution_count": null,
   "metadata": {},
   "outputs": [],
   "source": []
  },
  {
   "cell_type": "code",
   "execution_count": null,
   "metadata": {},
   "outputs": [],
   "source": []
  },
  {
   "cell_type": "code",
   "execution_count": null,
   "metadata": {},
   "outputs": [],
   "source": []
  }
 ],
 "metadata": {
  "kernelspec": {
   "display_name": "Python 3",
   "language": "python",
   "name": "python3"
  },
  "language_info": {
   "codemirror_mode": {
    "name": "ipython",
    "version": 3
   },
   "file_extension": ".py",
   "mimetype": "text/x-python",
   "name": "python",
   "nbconvert_exporter": "python",
   "pygments_lexer": "ipython3",
   "version": "3.6.4"
  }
 },
 "nbformat": 4,
 "nbformat_minor": 2
}
