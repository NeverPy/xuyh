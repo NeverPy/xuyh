{
 "cells": [
  {
   "cell_type": "code",
   "execution_count": 1,
   "metadata": {},
   "outputs": [],
   "source": [
    "from selenium import webdriver\n",
    "from selenium.webdriver.chrome.options import Options\n",
    "from selenium.webdriver.chrome.service import Service\n",
    "import csv\n",
    "url='https://music.163.com/#/discover/playlist/?order=hot&cat=%E5%85%A8%E9%83%A8&limit=35&offset=0'\n",
    "#用chrome接口创建一个Selenium的WebDriver\n",
    "chrome_options = Options()\n",
    "chrome_options.add_argument('--disable-gpu')\n",
    "chrome_options.add_argument('--headless')\n",
    "driver = webdriver.Chrome(options=chrome_options)\n",
    "#准备好存储歌单的csv文件\n",
    "csv_file = open(\"playlist.csv\",\"w\",newline = '',encoding='gb18030')\n",
    "writer = csv.writer(csv_file)\n",
    "writer.writerow(['标题','播放数','链接'])\n",
    "#解析每一页，直到‘下一页’为空\n",
    "while url != 'javascript:void(0)':\n",
    "    #用webdriver加载页面\n",
    "    driver.get(url)\n",
    "    #切换到内容的iframe\n",
    "    driver.switch_to.frame(\"contentFrame\")\n",
    "    #定位歌单标签\n",
    "    data = driver.find_element_by_id(\"m-pl-container\").find_elements_by_tag_name(\"li\")\n",
    "    #print(data[0],data[1])\n",
    "    #nbt = data[0].find_element_by_class_name(\"nb\").text\n",
    "    #print(nbt)\n",
    "    #解析一页中的所有歌单\n",
    "    for i in range(len(data)):\n",
    "        #获取播放数\n",
    "        nb = data[i].find_element_by_class_name(\"nb\").text\n",
    "        if '万' in nb and int(nb.split(\"万\")[0]) > 500:\n",
    "            #获取播放数大于500万的歌单封面\n",
    "            msk = data[i].find_element_by_css_selector(\"a.msk\")\n",
    "            #把封面上的标题和链接连同播放数一起写到文件中\n",
    "            writer.writerow([msk.get_attribute('title'),\n",
    "                            nb,msk.get_attribute('href')])\n",
    "    #定位‘下一页’的url\n",
    "    url = driver.find_element_by_css_selector(\"a.zbtn.znxt\").\\\n",
    "        get_attribute('href')\n",
    "csv_file.close()\n",
    "driver.close()\n",
    "driver.quit()"
   ]
  },
  {
   "cell_type": "code",
   "execution_count": null,
   "metadata": {},
   "outputs": [],
   "source": [
    "# input = browser.find_elements_by_id('q') 返回的是一个列表，把s去掉就可以了"
   ]
  },
  {
   "cell_type": "code",
   "execution_count": 26,
   "metadata": {},
   "outputs": [],
   "source": [
    "\n",
    "csv_file.close()\n",
    "driver.close()\n",
    "driver.quit()"
   ]
  },
  {
   "cell_type": "code",
   "execution_count": 35,
   "metadata": {},
   "outputs": [
    {
     "name": "stdout",
     "output_type": "stream",
     "text": [
      "\\u2022\n",
      "•\n"
     ]
    }
   ],
   "source": [
    "print(b'\\u2022'.decode('utf-8'))\n",
    "print('\\u2022')"
   ]
  },
  {
   "cell_type": "code",
   "execution_count": 3,
   "metadata": {},
   "outputs": [
    {
     "name": "stdout",
     "output_type": "stream",
     "text": [
      "[]\n",
      "{1: 0, 2: 0}\n"
     ]
    }
   ],
   "source": [
    "class UrlTable:\n",
    "    def __init__(self,urls):\n",
    "        self.todo_list=[]\n",
    "        self.all_urls={}\n",
    "        for url in urls:\n",
    "            self.all_urls[url]=0\n",
    "urls=[1,2]\n",
    "ut=UrlTable(urls)\n",
    "print(ut.todo_list)\n",
    "print(ut.all_urls)"
   ]
  },
  {
   "cell_type": "code",
   "execution_count": 4,
   "metadata": {},
   "outputs": [],
   "source": [
    "import urllib"
   ]
  },
  {
   "cell_type": "code",
   "execution_count": 6,
   "metadata": {},
   "outputs": [],
   "source": [
    "rawdata=urllib.request.urlopen('https://music.163.com/#/discover/playlist/?order=hot&cat=%E5%85%A8%E9%83%A8&limit=35&offset=0').read()"
   ]
  },
  {
   "cell_type": "code",
   "execution_count": 7,
   "metadata": {},
   "outputs": [],
   "source": [
    "import chardet"
   ]
  },
  {
   "cell_type": "code",
   "execution_count": 9,
   "metadata": {},
   "outputs": [
    {
     "data": {
      "text/plain": [
       "'utf-8'"
      ]
     },
     "execution_count": 9,
     "metadata": {},
     "output_type": "execute_result"
    }
   ],
   "source": [
    "chardet.detect(rawdata)['encoding']"
   ]
  },
  {
   "cell_type": "code",
   "execution_count": null,
   "metadata": {},
   "outputs": [],
   "source": []
  }
 ],
 "metadata": {
  "kernelspec": {
   "display_name": "Python 3",
   "language": "python",
   "name": "python3"
  },
  "language_info": {
   "codemirror_mode": {
    "name": "ipython",
    "version": 3
   },
   "file_extension": ".py",
   "mimetype": "text/x-python",
   "name": "python",
   "nbconvert_exporter": "python",
   "pygments_lexer": "ipython3",
   "version": "3.6.4"
  }
 },
 "nbformat": 4,
 "nbformat_minor": 2
}
