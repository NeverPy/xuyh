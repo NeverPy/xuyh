{
 "cells": [
  {
   "cell_type": "code",
   "execution_count": 2,
   "metadata": {},
   "outputs": [
    {
     "name": "stdout",
     "output_type": "stream",
     "text": [
      "信息：People 对象 ac6a52f67d40195117f83f7e85b2bd54 (<ZhihuVAPI.content.People.People object at 0x00000000077913C8>)初始化\n",
      "我的名字叫徐宇弘,目前获得了0个赞同,0个收藏,有0个粉丝.提出了0个问题,撰写了0个答案,0篇文章,拥有0个专栏.\n"
     ]
    }
   ],
   "source": [
    "import ZhihuVAPI as zhihu\n",
    "self=zhihu.self\n",
    "print(f'我的名字叫{self.name},目前获得了{self.voteup_count}个赞同,{self.favorited_count}个收藏,有{self.followers_count}个粉丝.提出了{self.question_count}个问题,撰写了{self.answer_count}个答案,{self.articles_count}篇文章,拥有{self.columns_count}个专栏.')\n",
    "#公滨路479号，预存2400，每月98，赠宽带，20g流量，移动客户，赠华为nove3i手机1999"
   ]
  },
  {
   "cell_type": "code",
   "execution_count": 3,
   "metadata": {},
   "outputs": [
    {
     "name": "stdout",
     "output_type": "stream",
     "text": [
      "信息：传入 URL 得到['token', 'iCheez']  用户\n",
      "信息：People 对象 iCheez (<ZhihuVAPI.content.People.People object at 0x00000000057A55C0>)初始化\n",
      "信息：People 对象 e4f87c3476a926c1e2ef51b4fcd18fa3 (<ZhihuVAPI.content.People.People object at 0x00000000057A55C0>)初始化\n"
     ]
    },
    {
     "data": {
      "text/plain": [
       "<ZhihuVAPI.content.People.People at 0x57a55c0>"
      ]
     },
     "execution_count": 3,
     "metadata": {},
     "output_type": "execute_result"
    }
   ],
   "source": [
    "zhihu.People('https://www.zhihu.com/people/iCheez/activities')"
   ]
  },
  {
   "cell_type": "code",
   "execution_count": 4,
   "metadata": {},
   "outputs": [
    {
     "name": "stdout",
     "output_type": "stream",
     "text": [
      "信息：People 对象 e4f87c3476a926c1e2ef51b4fcd18fa3 (<ZhihuVAPI.content.People.People object at 0x0000000005A344A8>)初始化\n",
      "信息：People 对象 e4f87c3476a926c1e2ef51b4fcd18fa3 (<ZhihuVAPI.content.People.People object at 0x0000000005A344A8>)初始化\n"
     ]
    },
    {
     "data": {
      "text/plain": [
       "<ZhihuVAPI.content.People.People at 0x5a344a8>"
      ]
     },
     "execution_count": 4,
     "metadata": {},
     "output_type": "execute_result"
    }
   ],
   "source": [
    "zhihu.People('e4f87c3476a926c1e2ef51b4fcd18fa3')"
   ]
  },
  {
   "cell_type": "code",
   "execution_count": 5,
   "metadata": {},
   "outputs": [
    {
     "name": "stdout",
     "output_type": "stream",
     "text": [
      "信息：People 对象 iCheez (<ZhihuVAPI.content.People.People object at 0x0000000005A344E0>)初始化\n",
      "信息：People 对象 e4f87c3476a926c1e2ef51b4fcd18fa3 (<ZhihuVAPI.content.People.People object at 0x0000000005A344E0>)初始化\n"
     ]
    },
    {
     "data": {
      "text/plain": [
       "<ZhihuVAPI.content.People.People at 0x5a344e0>"
      ]
     },
     "execution_count": 5,
     "metadata": {},
     "output_type": "execute_result"
    }
   ],
   "source": [
    "zhihu.People('iCheez')"
   ]
  },
  {
   "cell_type": "code",
   "execution_count": 7,
   "metadata": {},
   "outputs": [
    {
     "name": "stdout",
     "output_type": "stream",
     "text": [
      "信息：People 对象 iCheez (<ZhihuVAPI.content.People.People object at 0x00000000079AB160>)初始化\n",
      "日志：返回以茄之名的答案 \n",
      "谁说是mix3？\n",
      "谁说是mix3了？ [图片]\n",
      "华为出现了什么黑科技？ 黑科技：远超越现今人类科技或知识所能及的范畴的科技。\n",
      "\n",
      "呵呵，华为误导消费者又怎么样，你没看到小米爆炸了还没上热搜吗？ 什么？小米现在上热搜了，华为造假的热搜被撤了？ 咳咳，至少华为不爆炸。。。 什么？华为也爆炸过，还没上过热搜？https://www.zhihu.com/question/60858549 咳咳，谁家都会爆炸的嘛，最重要的是态度。。。。\n",
      "买银环蛇？被咬之后贴创可贴？ 你确定她真的是被咬之后才脑死亡的吗？\n",
      "问一下，为什么gai套词你们没有什么反应，现在满舒克套词反应这么大？\n",
      "可能是因为华为的粉丝太跳了？\n",
      "——我cctv就是死，死外面，也绝对要禁掉这些动漫。 ——已追番。 [图片]\n",
      "大概是因为他很厉害，听说唱只看音色？\n",
      "道理我都懂，为什么bl锁解开就一定要刷机，我只是想root而已\n",
      "感觉策划完全是用脚做游戏，除了打怪就是机器人。不如换成这样，开局一张自由的5v5地图，大家都在同一阵营，等到凑够人后再进入地图。 初始选的英雄都只有被动，然后可以捡各种技能，这样才好玩。\n",
      "[视频] 如何看待低电量时黑鲨依然坚挺，没有ppt情况？\n",
      "@结弦而奏 的高票答案真的看得我很尴尬。 1、女人的家庭地位比男人更高吗？ 我地处沿海小县城，小说里经常调侃的妻管严，在我的生活中从未出现。我的母亲负责每天用自己的钱买菜做饭——除了晚饭——因为她晚上回来会很晚。 我爸爸的银行卡并没有交到妈妈手里，而是用来买烟和炒股。他也完全没有大事小事让着妈妈的意识。相反，他很讨厌别人逆反他的想法，如果我和妈妈说的话不合他胃口，他就会大声斥责。 至于这位高票答主说的…\n",
      "可以，这很微博。\n",
      "恕我直言，整个十一期几乎都是垃圾。 pg一开头就忘词，还套词，我知道他发烧，但依然掩盖不了整首歌都是垃圾的事实； 艾福杰尼我还期待他秀一场，结果呢，呵呵，比起他以前的歌也就只能说是垃圾了； 至于gai，还真有够自信的，还真以为自己不唱方言有多吊？可惜，其他人太烂，让他得了第一。 vava我觉得是最水的一个，要淘汰请随意。 然后就是pg的中二病，只能说，pg终于能够让我再炸死一次了，改编得不错，但是气息不稳的问题依…\n",
      "感觉打了某些说其他人不能 DISS Back 的人的脸（滑稽\n",
      "1、大乔：我本命 2、王昭君：前本命 3、貂蝉：有点僵\n",
      "其实我一直很喜欢吴亦凡！我想选吴亦凡！吴亦凡好帅啊！吴亦凡是我的偶像！ 所以你选谁？ 潘玮柏！\n",
      "至今我都不知道怎么举报知乎上与问题无关的回答，那么多个选项，就是没有个与问题无关。\n",
      "不是，有时候在上面，有时候在下面。\n",
      "在做饭的时候打人机。\n",
      "花木兰、宫本、高渐离、庄周、孙尚香 开局宫本和高渐离去反红，剩下的去反蓝，反完就跑，能一血就一血，跑了就别追，拿兵线。 花木兰或宫本4级就开团，上去杀对面射手和中单。 带节奏，千万要抱团反野。 最后，在15分钟内解决游戏。\n",
      "第一轮 吴亦凡组： 不过：节拍。 过：黑脸，恩，然后走人 张震岳组： 不过：太普通了！ 过：okok，先让他过好不好？ 潘玮柏组： 不过：对不起对不起 过：抱一下~ 第二轮 吴亦凡： pass：恩 fail：我听到第一句就知道了，这个选手他不是我想要的人 张震岳： pass：一个可可爱爱男生，唱这种很凶的东西，会让我有一种反差感和期待感 fail：词不错，就是拍子，拍子没有找好 潘玮柏： pass：墨镜太黑，没看到时间啊 fail：加油\n",
      "祂\n",
      "[图片] 猫猫笑笑不说话\n",
      "微软＞谷歌＞苹果 微软：①、推广了个人电脑，让每个人都能用上电脑（默许盗版）；②、开创了软件行业，制定了游戏规则；③、Office 和 VS 的普及，增强了人类的生产力；（④、协助人类探索火星；⑤、Kinect。）Google：①、推动了软件行业的互联网化；②、整合互联网上的信息；（③、收购并保持开源 Android；④、证明了互联网公司是可以靠广告活下去的。） 苹果：咳咳，你们聊，我先走了 相关标语微软的使命和价值观是“帮助全…\n",
      "1、大乔可以一边用二技能回城，一边点大招回来。 2、韩信可以点二技能，开大，然后开完大会迅速地后跳。 3、张良是有被动的（滑稽），被动是技能和第三下普攻会叠加咒印，四层爆炸，造成真实伤害。 4、闪现可以穿过看起来不能穿的墙。 5、在你快打完红的时候，玩鲁班的话可以一个二技能飞过去，一定几率拿到一个红。 6、只要拿到一个人头，不挂机，不骂人，你怎么坑都不会被举报成功。 7、碾压局中，死一次可以抵消掉好几个人头…\n",
      "可能是因为粉丝退博的速度，跟不上微博广告数量的增长。\n",
      "1、大乔 大招一键叫五人，目前没见到一样的设定。 光法只能一个，瑞兹不是叫五人是送五人，医疗兵需要进飞艇。 2、李白 （双无敌＋）a四下解锁大招＋第三下一技能回到原地，目前没见到一样的设定。有人说剑姬，可惜第三下没回原地，大招也不是靠解锁。 3、钟无艳 被动石化，目前没见到一样的设定。 4、哪吒 大招开狗眼＋飞行收割。崔斯特只是开了个狗眼，在周围传送。 （貌似大招是伊利丹，还是白牛？） 5、庄周 大招群体解控，…\n",
      "百度很友善，大家别用百度，所以现在我可以骂谷歌了吗？(被举报不友善了.......) 谷歌：\n",
      "1、假药；\n",
      "2、卖隐私；\n",
      "3、屏蔽压制对手（yelp等）；http://www.zhihu.com/question/39590868 其中的一次压制（那个http://Zagat.com 是被谷歌收购的）: [图片] \n",
      "4、街景车窃听沿路wifi数据中的密码和邮件等隐私；http://m.tech2ipo.com/58350 （建议看英文后续报道）香港私隐专员：谷歌已在香港停用街景拍摄车_网易科技 \n",
      "5、在中国时卖假药；\n",
      "6、搜三点透视等出色情。\n",
      "7、将…\n",
      "刘备不禁，下一个轮到选的也不是嗨氏。刘备只是在嘲讽嗨氏的智商而已。\n",
      "垄断。 以移动搜索的市场占比来说，暂时不会。 还是等待另外一家能垄断的公司吧。\n",
      "长生界\n",
      "About | Google 搜索结果屏蔽 安装这个脚本 [图片] 点击屏蔽该网站 完成\n",
      "因为它已经洗白了。\n",
      "是。\n",
      "世界上最简单的十道题！ 来源：网络 作者：未找到原作者 [图片] 1、1337年至1453年，所以实际上是116年 2、厄瓜多尔 3、羊 4、11月。十月革命里的十月指的是俄历里的十月 5、松鼠毛 6、加纳利犬，Canary是金丝雀，Canary Dog是加纳利犬 7、Albert Frederick Arthur George 8、深红色 9、俄国（这个是错的，中国醋栗就是在中国出产的。） 10、橘黄色。其实最早是黑色的，但是为了更加鲜艳，搜寻起来更加方便，才改成了橘黄色。 大家也可…\n",
      "高票答案贴的那个故事是不全的，我在这里把他贴完整了吧。 作者：多人创作 能找到的最早的来源（转载）：【转载】【微小说】上帝VS科学家 人类一开始思考，上帝就开始忙活了。。。。 “妈的！一个叫伽利略的傻B发明了望远镜！旧的恒星天2D贴图不能用了！3D太阳系今晚黄昏前必须上线！米迦勒！木星的贴图画好了吗？！” “还没有！我还在做土星，土星环的模具有问题！内外环缝隙太大装不上去啊！” “那就把环分成几个凑活一下，…\n",
      "Google Video、Google Code、Gtalk、iGoogle、Google Wave、Symbian Search App、Google Tal、Picasa 、Google Uncle Sam、Adsense for Feeds、Google Knol、Orkut、Buzz、Google Health、Boutiques、Google TV、Google Gears、Google Glass、Google Desktop、Google Answers、Google SearchWiki、Google Web Accelerator、Dodgeball、Google Sidewiki、Google Notebook、Jaiku、Lively、Google Reader 、Snapseed for Desktop、…\n",
      "@vczh 轮子哥，给你看几张图吧 [图片] https://www.zhihu.com/question/39826446/answer/83356649 （2016 年 1 月） [图片] 再看看 2010 年的时候的 Google 搜索结果。 [图片] （2015 年 8 月） [图片] Brilliant Samsung PPC ad on Google. [1438x1258] （2015 年 5 月） [图片] （2013 年 8 月） [图片] [图片] （2010 年 ） 这种东西明显不是个例，谷歌而且还甚至因为这个惹了官司..... [图片] 按时间排序： 不满广告误导客户 瑞安要告谷歌和eDreams （2015.10） 北京兄弟搬家公司状告谷歌帮李鬼 （2011.12） 谷歌被指提供竞…\n",
      "设置 Chrome 开机启动。\n",
      "嗉囊。\n",
      "我来教大家一个实用的方法，用我这个方法，能继续聊下去的几率为99.99%！ 我：妹子啊你喜欢看什么书 妹子：好看的都想看 我：你喜欢什么作者 妹子：没什么喜欢的作者 我：那你喜欢听什么歌 妹子：我不怎么听歌 我：那你总喜欢那首歌把 妹子：宠爱 我：那是什么歌啊没听过 妹子：自己百度 （过了三分钟） 我：原来是掏粪的歌啊，你怎么喜欢掏粪啊 妹子：我没有喜欢的歌手 我：那你喜欢什么 妹子：我的爱好很广泛 妹子：我去洗澡了…\n",
      "缺月梧桐。（反武侠小说，后期超神，成功只是悲剧的开始） 赤色黎明。（人民党占领中国） 问镜。（一直在超神） 鬼吹灯。（可读性很强） 疯巫妖的实验日志。（穿越到没有玩家的网游世界里，被灭国，被谋杀，被杀得转世了四次！就问你怕不怕！） 网游三部曲，盗版神话、纵横天下、天下无双。（质量很高） 将夜。（质量不错） 英雄联盟之谁与争锋。（质量很高） 长生界。（后期超神） 我的女友是丧尸。（爽文，幽默） 我才不会被女…\n",
      "反对最高票。 封神志这款游戏由 上海怡游网络科技有限公司 制作，发布于腾讯旗下的朋友网的页游平台，后被其下架，非腾讯所制作。\n",
      "1。写篇小说给他～(￣▽￣～)~ 2。送小说给他，比如修仙的诛仙、凡人修仙传，至于耽美的。。。抱歉，我不熟悉。 3。送笔，最好是钢笔，或者是转笔用的那种笔。 4。其他的，就去十元店送一些小礼物啦，最好买一些动漫角色的小人像什么的，几十块钱的质量应该就过得去额。\n",
      "对 @咕嘟的美食家 的回答的简单反驳(http://www.zhihu.com/question/34961452/answer/60602768 ) \"做了一个半拉可几的渣玩意没人用就妄图把别的公司已经成型的好的产品垄断\" 一、网络文学 在UP2015腾讯互动娱乐年度发布会上，腾讯的阅文集团首次对外亮相。这个新成立的集团整合了腾讯文学旗下的创世中文网、云起书院、QQ阅读，盛大文学旗下的起点中文网、潇湘书院、红袖添香、小说阅读网、中智博文、言情小说吧、聚石文华、悦读网、天方听书网、华文天下、榕树下等子…\n",
      "如果有鬼的话，为什么我们会八年抗战？南京大屠杀呢？那死去的三十万百姓为什么没能杀了日军？还有鬼魂比家破人亡被奸淫屠杀的他们更惨的吗？他们都没有变成鬼，凭什么其他人会？\n",
      "(我们最早发明并且西方没有独立发明) 青蒿素 人工合成结晶胰岛素 面条 丝绸 蹴鞠 关于火药的武器与应用 豆腐 纸牌 班疹伤寒疫苗 围棋 象棋 地雷 牙刷 磁悬浮风力发电机(影响力较弱) 麻将 人工牛黄 杂交水稻 杂交玉米 反舰弹道导弹 CVD VCD播放器(不是VCD) (我们最早发明) U盘 合成钢 天花接种疗法 卡瓦列里原理 磨车 桨 高尔夫球的类似品 菜单 风扇 治疗甲状腺肿 非摩擦火柴 马鞅 厕纸 漆 纸币 透光镜 油墨 鼓 镜 水力风箱 传动…\n",
      "当然是因为他做得好啊 自带手势操作 可使用右键或双击关闭标签 自带翻译 可使标签自动刷新 可使用滚轮滚动标签 可使用侧边栏 自带截图 原生支持360云盘收藏图片网址文字 收藏夹文件夹头部有 \"添加到本文件夹\" 自带内存缓存数据管理 可一键静音 部分扩展可储存在\"更多\"中 可保存网页为图片 原生支持拖拽 默认新标签页打开可设置为本页面打开 自带广告过滤 自带360识图 网页回收站 右键可设置编码 右键可使用多引擎搜索 自带标签管…\n",
      "360极速，，，，不要安全的那种，，又或者用他们的国际版 以下是与chrome相比的优点。 自带手势操作 可使用右键或双击关闭标签 自带翻译 可使标签自动刷新 可使用滚轮滚动标签 可使用侧边栏 自带截图 原生支持360云盘收藏图片网址文字 收藏夹文件夹头部有 \"添加到本文件夹\" 自带内存缓存数据管理 可一键静音 部分扩展可储存在\"更多\"中 可保存网页为图片 原生支持拖拽 默认新标签页打开可设置为本页面打开 自带广告过滤 自带360识…\n",
      "是的，都是我们发明的，但对于我们对他们影响多大，目前部分还有一定的争议\n",
      "相关 : http://club.kdnet.net/dispbbs.asp?boardid=1&id=747104 关于中国古代的四大发明，有一些朋友可能会看到飞虎队 （即FHD）的四大发明系列：《戳穿中国古代所谓四大发明的谎言！！！！！！！》、《所谓“四大发明”的无稽之谈》、《全面解析所谓“四大发明”神话的谎言》 ，王晓阳的《是谁炮制了“四大发明”的谎言》他振振有词地说四大发明是一个彻头彻尾的谎言，那么，他到底说的对不对呢？ 在《全面解析所谓“四大发明”神话的谎言》 中，飞虎队说： 还在我…\n"
     ]
    }
   ],
   "source": [
    "import ZhihuVAPI as zhihu\n",
    "self=zhihu.People('iCheez')\n",
    "for a in self.answers():\n",
    "    a:zhihu.Answer # 让 IDE 智能提示\n",
    "    print(a.excerpt)"
   ]
  },
  {
   "cell_type": "code",
   "execution_count": 9,
   "metadata": {},
   "outputs": [
    {
     "name": "stdout",
     "output_type": "stream",
     "text": [
      "信息：People 对象 iCheez (<ZhihuVAPI.content.People.People object at 0x00000000079ABDD8>)初始化\n",
      "日志：返回以茄之名的答案 \n",
      "谁说是mix3？\n",
      "谁说是mix3了？ [图片]\n",
      "华为出现了什么黑科技？ 黑科技：远超越现今人类科技或知识所能及的范畴的科技。\n",
      "\n",
      "呵呵，华为误导消费者又怎么样，你没看到小米爆炸了还没上热搜吗？ 什么？小米现在上热搜了，华为造假的热搜被撤了？ 咳咳，至少华为不爆炸。。。 什么？华为也爆炸过，还没上过热搜？https://www.zhihu.com/question/60858549 咳咳，谁家都会爆炸的嘛，最重要的是态度。。。。\n"
     ]
    }
   ],
   "source": [
    "import ZhihuVAPI as zhihu\n",
    "self=zhihu.People('iCheez')\n",
    "for a in self.answers(5):\n",
    "    a:zhihu.Answer # 让 IDE 智能提示\n",
    "    print(a.excerpt)"
   ]
  },
  {
   "cell_type": "code",
   "execution_count": 10,
   "metadata": {},
   "outputs": [
    {
     "name": "stdout",
     "output_type": "stream",
     "text": [
      "信息：传入 URL 得到58763430  答案\n",
      "日志：获取以茄之名的点赞列表\n",
      "Accelerator\n",
      "信息：People 对象 a886df6fcd531f9a25f6f80cdb0c7c2f (<ZhihuVAPI.content.People.People object at 0x0000000007C03E48>)初始化\n",
      "村前的小花\n",
      "信息：People 对象 98317b46640efe84584ac0606e708f0f (<ZhihuVAPI.content.People.People object at 0x0000000007C036A0>)初始化\n",
      "午夜\n",
      "信息：People 对象 d17b97144df517afef755b43d5d6fd45 (<ZhihuVAPI.content.People.People object at 0x0000000007C03400>)初始化\n",
      "斗战胜佛\n",
      "信息：People 对象 507f45d6bc825d9742f2a00f28b68289 (<ZhihuVAPI.content.People.People object at 0x0000000007C03CC0>)初始化\n",
      "Chern\n",
      "信息：People 对象 4ecbc5f5e73e500da9d7b74572e90b00 (<ZhihuVAPI.content.People.People object at 0x0000000007C03E48>)初始化\n",
      "这个在 \"以下这篇文章关于「四大发明」的观点是否客观、准确？\" 下的回答得到了203个赞同,我还没有赞同\n",
      "日志：获取以茄之名的评论列表\n",
      "这么长没多少人看吧\n",
      "写得好棒（≧∇≦）\n",
      "司南这种东西确实只能算是发现，因为至今都无法复制出来，更没有归纳出有效制作方法，也没有民间大量使用的记录，根本不可能像某些穿越小说中那样的YY的说什么航海得益于这个。只能说历史上可能曾经有过这东西，那这种肯定没法说是发明。其实要成为发明那就必须要有经验归纳总结，并且证明依据这种经验总结可以简单复制制作，那这种才能叫发明，搞了一套出来却根本无法复制，那肯定没办法说是发明，不然小保方晴子的STAP细胞早得诺贝尔奖了，而不是沦为学术造假，因为她实验中确实制造出了STAP细胞，而且是多次制作出来，所以，她才会坚信自己确实取得了重大科学研究成就成果，并兴奋的要跑《自然》《科学》去发稿，但是之后验证实验中重复同样的过程却无法复制了，而调查结果是她之前的实验中，可能被人刻意的混入了大量的ES细胞，所以使得STAP细胞可以简单的被制造出来，简单来说，小保方晴子是被人坑了。\n",
      "干货赞一个。\n",
      "炼丹家就是古代的化学家。其实我觉得儒家关注的全是文科，而实用技术，理工科的东西和道家（墨家？）相关。比如中医，主要思想就是起源于道家，黄老不分家。还有这个炼丹。\n",
      "也就是说否定四大发明作用的连高中也没上过咯？马克思的那句话属于高中历史考点。\n",
      "补充一个，我觉得各种兵法也和道家有点关系。“以正治国，以奇用兵”。儒家堂堂正正的不适合研究兵法。\n",
      "Jean Bodin感觉应该音译成让博丹\n",
      "干货评论总是寥寥\n",
      "我之前比较感兴趣看了越王勾践剑，这是有出土实物的吧，目前科技也无法来一个复刻版，你给解释解释？发现镭还得了诺贝尔奖，这只是发现，就没技术了？\n",
      "一些软骨头就是认为中国人啥都不行，非要否定自己的一切，除了拿了cia等组织的资金以外真的很难有其他符合逻辑的解释。\n",
      "可怜了我的宋朝，不然。。。\n",
      "答主辛苦，火药西方蔑视主要还是因为辫子自康熙后就几乎零创新\n",
      "全看完，感谢如此认真。\n",
      "<p>你曾经发现过，使用过，和别人靠你的发明创造继续发展壮大是完全两回事。不知道能否证明后来的发展都是根据中国的四大发明而产生的，中国的所谓的四大发明确实启迪了世界？</p><p>简单来说，曾经不是有那什么鸡汤吗？他祖母也发现过很多东西，但是后来提出理论并推动世界的都是牛顿之类的科学家。为什么不说他的祖母推动了世界？因为真的没有的事啊</p>\n",
      "<p>就算答主说的全都对，中国领先于欧洲人发明了指南针造纸术火药印刷术，并且西方人是学咱的。他们的文明和财富都是我们的祖先赐予的。咱祖上曾经阔过。于您脸上又有何荣光呢？<br><br>我敢说您不好好学英语绝对上不了好大学。<br><br>请知道康熙爷亲近西方传教士所以有大炮大杀四方，建圆明园供各位缅怀。<br>道光帝克勤克俭吃个鸡蛋要三十两银子，惊问英吉利到回疆有无旱路可通。<br><br>您不用证明您祖先比谁强。<br>您证明您比人强就行了。</p>\n",
      "<p>大明朝有神机营有弗朗机有红衣大炮，岂止火药而已，然而干不过大清国的骑射手。</p><p>大明朝文学技能爆棚出现了四大名著之三三言二拍金瓶梅为人津津乐道印刷出书很是不差，然而干不过大清国的骑射手。</p><p>大明朝造纸已有千年历史各总完爆大清国，然而干不过大清国的骑射手。</p><p>大明朝会用指南针，，，然而大清国也没怎么迷过路，还是干不过大清国的骑射手。</p><p><br></p><p>有啥用啊。</p><p>不如鲁迅先生讲的拿来主义。</p>\n",
      "那么讲讲指南针和印刷术吧？\n",
      "日志：反对以茄之名的答案\n",
      "日志：取消对以茄之名的答案的反对\n",
      "日志：赞同了以茄之名的答案\n",
      "日志：感谢以茄之名的答案\n"
     ]
    }
   ],
   "source": [
    "import ZhihuVAPI as zhihu\n",
    "a=zhihu.Answer('https://www.zhihu.com/question/31343133/answer/58763430')\n",
    "for p in a.voters(count=5):\n",
    "    p:zhihu.People # 让 IDE 智能提示\n",
    "    print(p.name)\n",
    "    if p.is_waterman():\n",
    "        print(f'{p.name} 是水军')\n",
    "print(f'这个在 \"{a.question.title}\" 下的回答得到了{a.voteup_count}个赞同,我{\"已经赞同了\"if a.is_voting else \"还没有赞同\" }')\n",
    "\n",
    "for c in a.comments():\n",
    "    c:zhihu.Comment\n",
    "    print(c.content)\n",
    "a.down() #反对\n",
    "a.undown() #取消反对(以此类推)\n",
    "a.vote() # 赞同\n",
    "a.thank() # 感谢\n",
    "# a.collect([zhihu.Collection('你自己的收藏夹 ID'),])"
   ]
  },
  {
   "cell_type": "code",
   "execution_count": 25,
   "metadata": {},
   "outputs": [
    {
     "name": "stdout",
     "output_type": "stream",
     "text": [
      "信息：People 对象 zhihuadmin (<ZhihuVAPI.content.People.People object at 0x0000000007E8BDD8>)初始化\n",
      "日志：获取用户 知乎小管家粉丝列表\n",
      "知乎机构号团队\n",
      "知乎市场团队\n",
      "知乎版权\n",
      "知乎大学小管家\n",
      "知一声\n",
      "日志：返回知乎小管家的答案 \n",
      "77\n",
      "121\n",
      "41\n",
      "57\n",
      "244\n",
      "日志：返回知乎小管家的文章 \n",
      "30\n",
      "50\n",
      "65\n",
      "43\n",
      "53\n",
      "日志：返回知乎小管家的想法 \n",
      "61\n",
      "74\n",
      "306\n",
      "139\n",
      "343\n",
      "日志：屏蔽知乎小管家 \n",
      "日志：取消屏蔽知乎小管家 \n",
      "日志：给知乎小管家发送私信 \n",
      "信息：People 对象 3d198a56310c02c4a83efb9f4a4c027e (<ZhihuVAPI.content.People.People object at 0x0000000007E8BDD8>)初始化\n"
     ]
    },
    {
     "data": {
      "text/plain": [
       "<ZhihuVAPI.content.People.People at 0x7e8bdd8>"
      ]
     },
     "execution_count": 25,
     "metadata": {},
     "output_type": "execute_result"
    }
   ],
   "source": [
    "import ZhihuVAPI as zhihu\n",
    "person = zhihu.People('zhihuadmin')\n",
    "for p in person.followers(count=5): # 粉丝\n",
    "    p: zhihu.People  # 让 IDE 智能提示\n",
    "    print(p.name)\n",
    "\n",
    "for a in person.answers(count=5): # 答案\n",
    "    a: zhihu.Answer  # 让 IDE 智能提示\n",
    "    print(a.voteup_count)\n",
    "\n",
    "for ar in person.articles(count=5): #文章\n",
    "    ar: zhihu.Article  # 让 IDE 智能提示\n",
    "    print(ar.voteup_count)\n",
    "#count=5\n",
    "#for m in person.msgs(count=5): #私信\n",
    " #   print(m)\n",
    "\n",
    "for pin in person.pins(count=5): #想法\n",
    "    pin: zhihu.Pin  # 让 IDE 智能提示\n",
    "    print(pin.voteup_count)\n",
    "\n",
    "\n",
    "person.block() # 屏蔽\n",
    "person.unblock() # 取消屏蔽(以此类推)\n",
    "person.send('你好,我是{zhihu.self.name}') # 发送私信"
   ]
  },
  {
   "cell_type": "code",
   "execution_count": 27,
   "metadata": {},
   "outputs": [
    {
     "name": "stdout",
     "output_type": "stream",
     "text": [
      "信息：Column 对象 cheezpython (<ZhihuVAPI.content.Column.Column object at 0x0000000007E7F7F0>)初始化\n",
      "{'updated': 1533800365, 'description': '我关于 Python 的一些文章', 'title': '茄子的 Python 学习之路', 'url': 'https://api.zhihu.com/columns/cheezpython', 'comment_permission': 'all', 'topics': [{'url': 'https://api.zhihu.com/topics/19550517', 'avatar_url': 'https://pic2.zhimg.com/f07808da5625fef3607f8b75b770349f_is.jpg', 'name': '互联网', 'introduction': '互联网（英语：Internet），又称网际网络，或音译因特网(Internet)、英特网，互联网始于1969年美国的阿帕网。是网络与网络之间所串连成的庞大网络，这些网络以一组通用的协议相连，形成逻辑上的单一巨大国际网络。通常internet泛指互联网，而Internet则特指因特网。这种将计算机网络互相联接在一起的方法可称作“网络互联”，在这基础上发展出覆盖全世界的全球性互联网络称互联网，即是互相连接一起的网络结构。互联网并不等同万维网，万维网只是一建基于超文本相互链接而成的全球性系统，且是互联网所能提供的服务其中之一。', 'type': 'topic', 'excerpt': '互联网（英语：Internet），又称网际网络，或音译因特网(Internet)、英特网，互联网始于1969年美国的阿帕网。是网络与网络之间所串连成的庞大网络，这些网络以一组通用的协议相连，形成逻辑上的单一巨大国际网络。通常internet泛指互联网，而Internet则特指因特网。这种将计算机网络互相联接在一起的方法可称作“网络互联”，在这基础上发展出覆盖全世界的全球性互联网络称互联网，即是互相连接一起的网络结构。互联网并不等同万…', 'id': '19550517'}], 'author': {'is_followed': False, 'avatar_url_template': 'https://pic4.zhimg.com/v2-8560440c136c746730a63813ed701f52_{size}.jpg', 'badge': [], 'name': '以茄之名', 'url': 'https://api.zhihu.com/people/e4f87c3476a926c1e2ef51b4fcd18fa3', 'gender': 1, 'user_type': 'people', 'url_token': 'iCheez', 'is_advertiser': False, 'avatar_url': 'https://pic4.zhimg.com/v2-8560440c136c746730a63813ed701f52_s.jpg', 'is_following': False, 'is_org': False, 'headline': '为什么不能理性的讨论呢？', 'type': 'people', 'id': 'e4f87c3476a926c1e2ef51b4fcd18fa3'}, 'accept_submission': True, 'intro': 'Python 的一些方法', 'image_url': 'https://pic3.zhimg.com/4b70deef7_l.jpg', 'coauthors_count': 1, 'followers': 161, 'type': 'column', 'id': 'cheezpython', 'articles_count': 7}\n",
      "茄子的 Python 学习之路\n",
      "一键开启老司机模式：知乎看图脚本1.0发布 一共有 4 个赞\n",
      "ZhihuVAPI:用Python优雅地玩知乎 一共有 133 个赞\n",
      "ssr 一直没有反应的问题 一共有 0 个赞\n",
      "Python 知乎爬虫乱码解决 一共有 0 个赞\n",
      "茄子详解 Python qrcode 二维码模块 一共有 4 个赞\n",
      "解决Python print输出文本显示 gbk 编码错误 一共有 7 个赞\n",
      "用 Python 实现简单的 Markdown 转换器 一共有 5 个赞\n",
      "日志：关注了专栏 茄子的 Python 学习之路\n"
     ]
    },
    {
     "ename": "AssertionError",
     "evalue": "动作 follow不存在",
     "output_type": "error",
     "traceback": [
      "\u001b[1;31m---------------------------------------------------------------------------\u001b[0m",
      "\u001b[1;31mAssertionError\u001b[0m                            Traceback (most recent call last)",
      "\u001b[1;32m<ipython-input-27-03d2d3be307e>\u001b[0m in \u001b[0;36m<module>\u001b[1;34m()\u001b[0m\n\u001b[0;32m     11\u001b[0m \u001b[1;31m#    print(f'{p.name} 他有 {p.voteup_count} 个赞')\u001b[0m\u001b[1;33m\u001b[0m\u001b[1;33m\u001b[0m\u001b[0m\n\u001b[0;32m     12\u001b[0m \u001b[1;33m\u001b[0m\u001b[0m\n\u001b[1;32m---> 13\u001b[1;33m \u001b[0mcolumn\u001b[0m\u001b[1;33m.\u001b[0m\u001b[0mfollow\u001b[0m\u001b[1;33m(\u001b[0m\u001b[1;33m)\u001b[0m \u001b[1;31m#关注\u001b[0m\u001b[1;33m\u001b[0m\u001b[0m\n\u001b[0m",
      "\u001b[1;32mC:\\ProgramData\\Anaconda3\\lib\\site-packages\\ZhihuVAPI\\util\\zhihu.py\u001b[0m in \u001b[0;36mwarpper\u001b[1;34m(self, *args, **kwargs)\u001b[0m\n\u001b[0;32m    289\u001b[0m                 \u001b[0mdata\u001b[0m\u001b[1;33m.\u001b[0m\u001b[0mupdate\u001b[0m\u001b[1;33m(\u001b[0m\u001b[1;33m{\u001b[0m\u001b[1;34m'name'\u001b[0m\u001b[1;33m:\u001b[0m \u001b[0mself\u001b[0m\u001b[1;33m.\u001b[0m\u001b[0mauthor\u001b[0m\u001b[1;33m.\u001b[0m\u001b[0mname\u001b[0m\u001b[1;33m}\u001b[0m\u001b[1;33m)\u001b[0m\u001b[1;33m\u001b[0m\u001b[0m\n\u001b[0;32m    290\u001b[0m             \u001b[0mlog\u001b[0m\u001b[1;33m(\u001b[0m\u001b[0mdoc\u001b[0m\u001b[1;33m.\u001b[0m\u001b[0mformat\u001b[0m\u001b[1;33m(\u001b[0m\u001b[1;33m**\u001b[0m\u001b[0mdata\u001b[0m\u001b[1;33m)\u001b[0m\u001b[1;33m)\u001b[0m\u001b[1;33m\u001b[0m\u001b[0m\n\u001b[1;32m--> 291\u001b[1;33m             \u001b[1;32mreturn\u001b[0m \u001b[0mfunc\u001b[0m\u001b[1;33m(\u001b[0m\u001b[0mself\u001b[0m\u001b[1;33m,\u001b[0m \u001b[1;33m*\u001b[0m\u001b[0margs\u001b[0m\u001b[1;33m,\u001b[0m \u001b[1;33m**\u001b[0m\u001b[0mkwargs\u001b[0m\u001b[1;33m)\u001b[0m\u001b[1;33m\u001b[0m\u001b[0m\n\u001b[0m\u001b[0;32m    292\u001b[0m         \u001b[1;32mreturn\u001b[0m \u001b[0mwarpper\u001b[0m\u001b[1;33m\u001b[0m\u001b[0m\n",
      "\u001b[1;32mC:\\ProgramData\\Anaconda3\\lib\\site-packages\\ZhihuVAPI\\content\\Ancestry.py\u001b[0m in \u001b[0;36mfollow\u001b[1;34m(self)\u001b[0m\n\u001b[0;32m     90\u001b[0m     \u001b[1;32mdef\u001b[0m \u001b[0mfollow\u001b[0m\u001b[1;33m(\u001b[0m\u001b[0mself\u001b[0m\u001b[1;33m)\u001b[0m\u001b[1;33m:\u001b[0m\u001b[1;33m\u001b[0m\u001b[0m\n\u001b[0;32m     91\u001b[0m         \u001b[1;34m'''关注了{type_name} {name}'''\u001b[0m\u001b[1;33m\u001b[0m\u001b[0m\n\u001b[1;32m---> 92\u001b[1;33m         \u001b[0murl\u001b[0m \u001b[1;33m=\u001b[0m \u001b[0murls\u001b[0m\u001b[1;33m.\u001b[0m\u001b[0murls\u001b[0m\u001b[1;33m(\u001b[0m\u001b[0mself\u001b[0m\u001b[1;33m,\u001b[0m \u001b[1;34m'follow'\u001b[0m\u001b[1;33m)\u001b[0m\u001b[1;33m\u001b[0m\u001b[0m\n\u001b[0m\u001b[0;32m     93\u001b[0m         \u001b[0mzhihu\u001b[0m\u001b[1;33m.\u001b[0m\u001b[0mjsonp\u001b[0m\u001b[1;33m(\u001b[0m\u001b[0murl\u001b[0m\u001b[1;33m)\u001b[0m\u001b[1;33m\u001b[0m\u001b[0m\n\u001b[0;32m     94\u001b[0m         \u001b[1;32mreturn\u001b[0m \u001b[0mself\u001b[0m\u001b[1;33m\u001b[0m\u001b[0m\n",
      "\u001b[1;32mC:\\ProgramData\\Anaconda3\\lib\\site-packages\\ZhihuVAPI\\util\\urls.py\u001b[0m in \u001b[0;36murls\u001b[1;34m(content_obj, type_name)\u001b[0m\n\u001b[0;32m    172\u001b[0m \u001b[1;33m\u001b[0m\u001b[0m\n\u001b[0;32m    173\u001b[0m     \u001b[1;32massert\u001b[0m \u001b[0mclass_name\u001b[0m \u001b[1;32min\u001b[0m \u001b[0murls_contents\u001b[0m\u001b[1;33m,\u001b[0m \u001b[1;34mf'类名 {class_name} 不存在'\u001b[0m\u001b[1;33m\u001b[0m\u001b[0m\n\u001b[1;32m--> 174\u001b[1;33m     \u001b[1;32massert\u001b[0m \u001b[0mtype_name\u001b[0m \u001b[1;32min\u001b[0m \u001b[0murls_contents\u001b[0m\u001b[1;33m[\u001b[0m\u001b[0mclass_name\u001b[0m\u001b[1;33m]\u001b[0m\u001b[1;33m,\u001b[0m \u001b[1;34mf'动作 {type_name}不存在'\u001b[0m\u001b[1;33m\u001b[0m\u001b[0m\n\u001b[0m\u001b[0;32m    175\u001b[0m     \u001b[1;32mreturn\u001b[0m \u001b[0murls_contents\u001b[0m\u001b[1;33m[\u001b[0m\u001b[0mclass_name\u001b[0m\u001b[1;33m]\u001b[0m\u001b[1;33m[\u001b[0m\u001b[0mtype_name\u001b[0m\u001b[1;33m]\u001b[0m\u001b[1;33m\u001b[0m\u001b[0m\n\u001b[0;32m    176\u001b[0m \u001b[1;33m\u001b[0m\u001b[0m\n",
      "\u001b[1;31mAssertionError\u001b[0m: 动作 follow不存在"
     ]
    }
   ],
   "source": [
    "import ZhihuVAPI as zhihu\n",
    "column = zhihu.Column('cheezpython')\n",
    "print(column.title)\n",
    "for ar in column.articles():\n",
    "    ar: zhihu.Article  # 让 IDE 智能提示\n",
    "    print(f'{ar.title} 一共有 {ar.voteup_count} 个赞')\n",
    "\n",
    "\n",
    "for p in column.coauthors():\n",
    "    p: zhihu.People  # 让 IDE 智能提示\n",
    "#    print(f'{p.name} 他有 {p.voteup_count} 个赞')\n",
    "\n",
    "column.follow() #关注"
   ]
  },
  {
   "cell_type": "code",
   "execution_count": 31,
   "metadata": {},
   "outputs": [
    {
     "name": "stdout",
     "output_type": "stream",
     "text": [
      "信息：传入 URL 得到39747259  文章\n",
      "日志：获取以茄之名的点赞列表\n",
      "徐宇弘\n",
      "信息：People 对象 ac6a52f67d40195117f83f7e85b2bd54 (<ZhihuVAPI.content.People.People object at 0x0000000007E8DF28>)初始化\n",
      "龐建強\n",
      "信息：People 对象 e054c3a42b0113dbad2d8017b9a8c42e (<ZhihuVAPI.content.People.People object at 0x0000000007C15DD8>)初始化\n",
      "迩东昊\n",
      "信息：People 对象 e2d60018881c32875bf0315f22a2f0a7 (<ZhihuVAPI.content.People.People object at 0x0000000007E8DDA0>)初始化\n",
      "Wang\n",
      "信息：People 对象 c90eaef67257d1282a922d18ffe275d3 (<ZhihuVAPI.content.People.People object at 0x0000000007E8DAC8>)初始化\n",
      "某财\n",
      "信息：People 对象 226e3fdb6847718c3b6c760881c96367 (<ZhihuVAPI.content.People.People object at 0x0000000007E8D8D0>)初始化\n",
      "这篇文章 \"解决Python print输出文本显示 gbk 编码错误\" 得到了8个赞同,我已经赞同了\n",
      "日志：赞同了以茄之名的文章\n",
      "错误代码(4033)： 您已经投过票了（^_^）(https://www.zhihu.com/api/v4/articles/39747259/voters) \n"
     ]
    },
    {
     "data": {
      "text/plain": [
       "<ZhihuVAPI.content.Article.Article at 0x79abb70>"
      ]
     },
     "execution_count": 31,
     "metadata": {},
     "output_type": "execute_result"
    }
   ],
   "source": [
    "import ZhihuVAPI as zhihu\n",
    "ar=zhihu.Article('https://zhuanlan.zhihu.com/p/39747259')\n",
    "for p in ar.voters(count=5):\n",
    "    p:zhihu.People # 让 IDE 智能提示\n",
    "    print(p.name)\n",
    "    if p.is_waterman():\n",
    "        print(f'{p.name} 是水军')\n",
    "print(f'这篇文章 \"{ar.title}\" 得到了{ar.voteup_count}个赞同,我{\"已经赞同了\"if ar.is_voting else \"还没有赞同\" }')\n",
    "\n",
    "#ar.down() #反对\n",
    "#ar.undown() #取消反对(以此类推)\n",
    "ar.vote() # 赞同\n",
    "#ar.thank() # 感谢\n",
    "# ar.collect([zhihu.Collection('你自己的收藏夹 ID'),])"
   ]
  },
  {
   "cell_type": "code",
   "execution_count": 34,
   "metadata": {},
   "outputs": [
    {
     "name": "stdout",
     "output_type": "stream",
     "text": [
      "信息：传入 URL 得到266777189  收藏夹\n",
      "信息：Collection 对象 266777189 (<ZhihuVAPI.content.Collection.Collection object at 0x0000000007C06C88>)初始化\n",
      "这个收藏夹的名字是育儿\n",
      "[视频] 小时候爱哭的不愿练钢琴的小男孩如今已长大，毕业于俄罗斯柴可夫斯基音乐学院。孩子潜力真是无穷大的，只要你逼逼，孩子就给你一个大惊喜！ 从一开始觉得学琴好累，练琴好辛苦，过渡到慢慢习惯做这件事，弹出了一首曲子，自己还会陶醉的再去琴上过下瘾。所以只要付出，弹钢琴真的没有那么难的！ [图片] 其实学习钢琴也没有那么难，看完下面这个视频，用4个和弦就可以弹奏风风吹麦浪！ [视频]\n",
      "\n"
     ]
    }
   ],
   "source": [
    "import ZhihuVAPI as zhihu \n",
    "co = zhihu.Collection('https://www.zhihu.com/collection/266777189')\n",
    "print(f'这个收藏夹的名字是{co.title}')\n",
    "for ct in co.contents(count=10):\n",
    "    if ct.type == 'answer':\n",
    "        print(f'{ct.content.excerpt}\\n')"
   ]
  },
  {
   "cell_type": "code",
   "execution_count": null,
   "metadata": {},
   "outputs": [],
   "source": []
  },
  {
   "cell_type": "code",
   "execution_count": null,
   "metadata": {},
   "outputs": [],
   "source": []
  }
 ],
 "metadata": {
  "kernelspec": {
   "display_name": "Python 3",
   "language": "python",
   "name": "python3"
  },
  "language_info": {
   "codemirror_mode": {
    "name": "ipython",
    "version": 3
   },
   "file_extension": ".py",
   "mimetype": "text/x-python",
   "name": "python",
   "nbconvert_exporter": "python",
   "pygments_lexer": "ipython3",
   "version": "3.6.4"
  }
 },
 "nbformat": 4,
 "nbformat_minor": 2
}
