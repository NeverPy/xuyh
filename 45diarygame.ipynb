{
 "cells": [
  {
   "cell_type": "markdown",
   "metadata": {},
   "source": [
    "### 随便写个小程序，通过不同房间做不同的事，写下一天的日记\n",
    "\n",
    "    "
   ]
  },
  {
   "cell_type": "markdown",
   "metadata": {},
   "source": [
    "diary-write；room--do，bathroom，，bedroom，living-room，studyroom，\n",
    "kitchen，toilet， dining room， guest room  ，balcony；time；person\n"
   ]
  },
  {
   "cell_type": "code",
   "execution_count": 1,
   "metadata": {},
   "outputs": [
    {
     "name": "stdout",
     "output_type": "stream",
     "text": [
      "I'am in bedroom.Wake up and go to bathroom.time is 8\n",
      "I'am in bathroom.Go back from the bathroom then go to bedroom,time is 21\n",
      "I'am in bedroom.Go to sleep.time is 21 \n"
     ]
    },
    {
     "ename": "SystemExit",
     "evalue": "0",
     "output_type": "error",
     "traceback": [
      "An exception has occurred, use %tb to see the full traceback.\n",
      "\u001b[1;31mSystemExit\u001b[0m\u001b[1;31m:\u001b[0m 0\n"
     ]
    },
    {
     "name": "stderr",
     "output_type": "stream",
     "text": [
      "C:\\ProgramData\\Anaconda3\\lib\\site-packages\\IPython\\core\\interactiveshell.py:2918: UserWarning: To exit: use 'exit', 'quit', or Ctrl-D.\n",
      "  warn(\"To exit: use 'exit', 'quit', or Ctrl-D.\", stacklevel=1)\n"
     ]
    }
   ],
   "source": [
    "#main.py\n",
    "from sys import exit\n",
    "time = 7\n",
    "class Room:\n",
    "    def do(self):\n",
    "        print(\"This is parent\")\n",
    "        exit(1)\n",
    "# 通过room_map参数传入实例化的Map映射类，初始化PersonDo,通过实例化的Map，找到对应的实例化的Room\n",
    "class PersonDo:\n",
    "    def __init__(self,room_map):\n",
    "        self.room_map = room_map\n",
    "    def goto(self):\n",
    "        current_room = self.room_map.open_room()\n",
    "        global time\n",
    "        time=8\n",
    "        while time < 22:\n",
    "            next_room_name=current_room.do()\n",
    "            current_room = self.room_map.next_room(next_room_name)\n",
    "        current_room.enter()\n",
    "class BathRoom(Room):\n",
    "    def do(self):\n",
    "        global time\n",
    "        time = 21\n",
    "        print(\"I'am in bathroom.Go back from the bathroom then go to bedroom,time is %d\" %time)\n",
    "        return \"bedroom\"\n",
    "class BedRoom(Room):\n",
    "    def do(self):\n",
    "        global time\n",
    "        if time < 9:\n",
    "            print(\"I'am in bedroom.Wake up and go to bathroom.time is %d\" %time)\n",
    "            return \"bathroom\"\n",
    "        elif time>20:\n",
    "            print(\"I'am in bedroom.Go to sleep.time is %d \"%time)\n",
    "            exit(0)\n",
    "        else:\n",
    "            print(\"wrong time\")\n",
    "        \n",
    "# 通过map_dic字典，将对应房间名实例化。通过实例化Map时传入的第一个参数，确定人物初始房间为bathroom        \n",
    "class Map:\n",
    "    map_dic = {\n",
    "        \"bedroom\":BedRoom(),\n",
    "        \"bathroom\":BathRoom()\n",
    "    }\n",
    "    def __init__(self,firstroom):\n",
    "        self.firstroom = firstroom\n",
    "    def next_room(self,nextroom):\n",
    "        val = Map.map_dic.get(nextroom)\n",
    "        return val\n",
    "    def open_room(self):\n",
    "        return self.next_room(self.firstroom)\n",
    "a_map=Map(\"bedroom\")\n",
    "a_persondo=PersonDo(a_map)\n",
    "a_persondo.goto()    \n",
    "    \n",
    "    \n"
   ]
  },
  {
   "cell_type": "code",
   "execution_count": null,
   "metadata": {},
   "outputs": [],
   "source": [
    "#play.py\n",
    "def play():\n",
    "    print(\"This is a file named play.py\")"
   ]
  },
  {
   "cell_type": "code",
   "execution_count": 1,
   "metadata": {},
   "outputs": [
    {
     "ename": "SystemExit",
     "evalue": "usage: ipykernel_launcher.py [global_opts] cmd1 [cmd1_opts] [cmd2 [cmd2_opts] ...]\n   or: ipykernel_launcher.py --help [cmd1 cmd2 ...]\n   or: ipykernel_launcher.py --help-commands\n   or: ipykernel_launcher.py cmd --help\n\nerror: option -f not recognized",
     "output_type": "error",
     "traceback": [
      "An exception has occurred, use %tb to see the full traceback.\n",
      "\u001b[1;31mSystemExit\u001b[0m\u001b[1;31m:\u001b[0m usage: ipykernel_launcher.py [global_opts] cmd1 [cmd1_opts] [cmd2 [cmd2_opts] ...]\n   or: ipykernel_launcher.py --help [cmd1 cmd2 ...]\n   or: ipykernel_launcher.py --help-commands\n   or: ipykernel_launcher.py cmd --help\n\nerror: option -f not recognized\n"
     ]
    },
    {
     "name": "stderr",
     "output_type": "stream",
     "text": [
      "C:\\ProgramData\\Anaconda3\\lib\\site-packages\\IPython\\core\\interactiveshell.py:2918: UserWarning: To exit: use 'exit', 'quit', or Ctrl-D.\n",
      "  warn(\"To exit: use 'exit', 'quit', or Ctrl-D.\", stacklevel=1)\n"
     ]
    }
   ],
   "source": [
    "try:\n",
    "    from setuptools import setup\n",
    "except ImportError:\n",
    "    from distutils.core import setup\n",
    "\n",
    "config = {\n",
    "    'description': 'My Project',\n",
    "    'author': 'My Name',\n",
    "    'url': 'URL to get it at.',\n",
    "    'download_url': 'Where to download it.',\n",
    "    'author_email': 'My email.',\n",
    "    'version': '0.1',\n",
    "    'install_requires': ['nose'],\n",
    "    'packages': ['NAME'],\n",
    "    'scripts': [],\n",
    "    'name': 'projectname'\n",
    "}\n",
    "\n",
    "setup(**config)"
   ]
  },
  {
   "cell_type": "code",
   "execution_count": 4,
   "metadata": {},
   "outputs": [],
   "source": [
    "try:\n",
    "    from setuptools import setup\n",
    "except ImportError:\n",
    "    from distutils.core import setup"
   ]
  },
  {
   "cell_type": "code",
   "execution_count": null,
   "metadata": {},
   "outputs": [],
   "source": [
    "class Room:\n",
    "    \n",
    "    def __init__(self, name, description):\n",
    "        self.name = name\n",
    "        self.description = description\n",
    "        self.paths = {}\n",
    "\n",
    "    def go(self, direction):\n",
    "        return self.paths.get(direction, None)\n",
    "\n",
    "    def add_paths(self, paths):\n",
    "        self.paths.update(paths)"
   ]
  },
  {
   "cell_type": "code",
   "execution_count": null,
   "metadata": {},
   "outputs": [],
   "source": [
    "from nose.tools import *\n",
    "from ex47.game import Room\n",
    "\n",
    "def test_room():\n",
    "    gold = Room(\"GoldRoom\",\n",
    "               \"\"\"This room has gold in it you can grab.There's a\n",
    "               dor to the north.\"\"\")\n",
    "    assert_equal(gold.name,\"GoldRoom\")\n",
    "    assert_equal(gold.paths,{})\n",
    "\n",
    "def test_room_paths():\n",
    "    center = Room(\"Center\",\"Test room in the center\")\n",
    "    north = Room(\"North\",\"Test room in the north\")\n",
    "    south = Room(\"South\",\"Test room in the south\")\n",
    "    \n",
    "    center.add_paths({'north':north,'south':south})\n",
    "    assert_equal(center.go('north'),north)\n",
    "    assert_equal(center.go('south'),south)\n",
    "    \n",
    "def test_map():\n",
    "    start = Room(\"Start\", \"You can go west and down a hole.\")\n",
    "    west = Room(\"Trees\", \"There are trees here, you can go east.\")\n",
    "    down = Room(\"Dungeon\", \"It's dark down here, you can go up.\")\n",
    "\n",
    "    start.add_paths({'west': west, 'down': down})\n",
    "    west.add_paths({'east': start})\n",
    "    down.add_paths({'up': start})\n",
    "\n",
    "    assert_equal(start.go('west'), west)\n",
    "    assert_equal(start.go('west').go('east'), start)\n",
    "    assert_equal(start.go('down').go('up'), start)\n"
   ]
  },
  {
   "cell_type": "code",
   "execution_count": null,
   "metadata": {},
   "outputs": [],
   "source": []
  },
  {
   "cell_type": "code",
   "execution_count": null,
   "metadata": {},
   "outputs": [],
   "source": []
  },
  {
   "cell_type": "code",
   "execution_count": null,
   "metadata": {},
   "outputs": [],
   "source": []
  },
  {
   "cell_type": "code",
   "execution_count": null,
   "metadata": {},
   "outputs": [],
   "source": []
  },
  {
   "cell_type": "code",
   "execution_count": null,
   "metadata": {},
   "outputs": [],
   "source": []
  },
  {
   "cell_type": "code",
   "execution_count": null,
   "metadata": {},
   "outputs": [],
   "source": []
  },
  {
   "cell_type": "code",
   "execution_count": null,
   "metadata": {},
   "outputs": [],
   "source": []
  }
 ],
 "metadata": {
  "kernelspec": {
   "display_name": "Python 3",
   "language": "python",
   "name": "python3"
  },
  "language_info": {
   "codemirror_mode": {
    "name": "ipython",
    "version": 3
   },
   "file_extension": ".py",
   "mimetype": "text/x-python",
   "name": "python",
   "nbconvert_exporter": "python",
   "pygments_lexer": "ipython3",
   "version": "3.6.4"
  }
 },
 "nbformat": 4,
 "nbformat_minor": 2
}
