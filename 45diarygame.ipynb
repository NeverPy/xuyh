{
 "cells": [
  {
   "cell_type": "markdown",
   "metadata": {},
   "source": [
    "### 随便写个小程序，通过不同房间做不同的事，写下一天的日记\n",
    "\n",
    "    "
   ]
  },
  {
   "cell_type": "markdown",
   "metadata": {},
   "source": [
    "diary-write；room--do，bathroom，，bedroom，living-room，studyroom，\n",
    "kitchen，toilet， dining room， guest room  ，balcony；time；person\n"
   ]
  },
  {
   "cell_type": "code",
   "execution_count": 1,
   "metadata": {},
   "outputs": [
    {
     "name": "stdout",
     "output_type": "stream",
     "text": [
      "I'am in bedroom.Wake up and go to bathroom.time is 8\n",
      "I'am in bathroom.Go back from the bathroom then go to bedroom,time is 21\n",
      "I'am in bedroom.Go to sleep.time is 21 \n"
     ]
    },
    {
     "ename": "SystemExit",
     "evalue": "0",
     "output_type": "error",
     "traceback": [
      "An exception has occurred, use %tb to see the full traceback.\n",
      "\u001b[1;31mSystemExit\u001b[0m\u001b[1;31m:\u001b[0m 0\n"
     ]
    },
    {
     "name": "stderr",
     "output_type": "stream",
     "text": [
      "C:\\ProgramData\\Anaconda3\\lib\\site-packages\\IPython\\core\\interactiveshell.py:2918: UserWarning: To exit: use 'exit', 'quit', or Ctrl-D.\n",
      "  warn(\"To exit: use 'exit', 'quit', or Ctrl-D.\", stacklevel=1)\n"
     ]
    }
   ],
   "source": [
    "from sys import exit\n",
    "time = 7\n",
    "class Room:\n",
    "    def do(self):\n",
    "        print(\"This is parent\")\n",
    "        exit(1)\n",
    "# 通过room_map参数传入实例化的Map映射类，初始化PersonDo,通过实例化的Map，找到对应的实例化的Room\n",
    "class PersonDo:\n",
    "    def __init__(self,room_map):\n",
    "        self.room_map = room_map\n",
    "    def goto(self):\n",
    "        current_room = self.room_map.open_room()\n",
    "        global time\n",
    "        time=8\n",
    "        while time < 22:\n",
    "            next_room_name=current_room.do()\n",
    "            current_room = self.room_map.next_room(next_room_name)\n",
    "        current_room.enter()\n",
    "class BathRoom(Room):\n",
    "    def do(self):\n",
    "        global time\n",
    "        time = 21\n",
    "        print(\"I'am in bathroom.Go back from the bathroom then go to bedroom,time is %d\" %time)\n",
    "        return \"bedroom\"\n",
    "class BedRoom(Room):\n",
    "    def do(self):\n",
    "        global time\n",
    "        if time < 9:\n",
    "            print(\"I'am in bedroom.Wake up and go to bathroom.time is %d\" %time)\n",
    "            return \"bathroom\"\n",
    "        elif time>20:\n",
    "            print(\"I'am in bedroom.Go to sleep.time is %d \"%time)\n",
    "            exit(0)\n",
    "        else:\n",
    "            print(\"wrong time\")\n",
    "        \n",
    "# 通过map_dic字典，将对应房间名实例化。通过实例化Map时传入的第一个参数，确定人物初始房间为bathroom        \n",
    "class Map:\n",
    "    map_dic = {\n",
    "        \"bedroom\":BedRoom(),\n",
    "        \"bathroom\":BathRoom()\n",
    "    }\n",
    "    def __init__(self,firstroom):\n",
    "        self.firstroom = firstroom\n",
    "    def next_room(self,nextroom):\n",
    "        val = Map.map_dic.get(nextroom)\n",
    "        return val\n",
    "    def open_room(self):\n",
    "        return self.next_room(self.firstroom)\n",
    "a_map=Map(\"bedroom\")\n",
    "a_persondo=PersonDo(a_map)\n",
    "a_persondo.goto()    \n",
    "    \n",
    "    \n"
   ]
  },
  {
   "cell_type": "code",
   "execution_count": null,
   "metadata": {},
   "outputs": [],
   "source": []
  },
  {
   "cell_type": "code",
   "execution_count": null,
   "metadata": {},
   "outputs": [],
   "source": []
  },
  {
   "cell_type": "code",
   "execution_count": null,
   "metadata": {},
   "outputs": [],
   "source": []
  },
  {
   "cell_type": "code",
   "execution_count": null,
   "metadata": {},
   "outputs": [],
   "source": []
  },
  {
   "cell_type": "code",
   "execution_count": null,
   "metadata": {},
   "outputs": [],
   "source": []
  },
  {
   "cell_type": "code",
   "execution_count": null,
   "metadata": {},
   "outputs": [],
   "source": []
  },
  {
   "cell_type": "code",
   "execution_count": null,
   "metadata": {},
   "outputs": [],
   "source": []
  },
  {
   "cell_type": "code",
   "execution_count": null,
   "metadata": {},
   "outputs": [],
   "source": []
  },
  {
   "cell_type": "code",
   "execution_count": null,
   "metadata": {},
   "outputs": [],
   "source": []
  },
  {
   "cell_type": "code",
   "execution_count": null,
   "metadata": {},
   "outputs": [],
   "source": []
  },
  {
   "cell_type": "code",
   "execution_count": null,
   "metadata": {},
   "outputs": [],
   "source": []
  }
 ],
 "metadata": {
  "kernelspec": {
   "display_name": "Python 3",
   "language": "python",
   "name": "python3"
  },
  "language_info": {
   "codemirror_mode": {
    "name": "ipython",
    "version": 3
   },
   "file_extension": ".py",
   "mimetype": "text/x-python",
   "name": "python",
   "nbconvert_exporter": "python",
   "pygments_lexer": "ipython3",
   "version": "3.6.4"
  }
 },
 "nbformat": 4,
 "nbformat_minor": 2
}
