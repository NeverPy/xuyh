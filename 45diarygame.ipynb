{
 "cells": [
  {
   "cell_type": "markdown",
   "metadata": {},
   "source": [
    "### 随便写个小程序，通过不同房间做不同的事，写下一天的日记\n",
    "\n",
    "    "
   ]
  },
  {
   "cell_type": "markdown",
   "metadata": {},
   "source": [
    "diary-write；room--do，bathroom，，bedroom，living-room，studyroom，\n",
    "kitchen，toilet， dining room， guest room  ，balcony；time；person\n"
   ]
  },
  {
   "cell_type": "code",
   "execution_count": 1,
   "metadata": {},
   "outputs": [
    {
     "name": "stdout",
     "output_type": "stream",
     "text": [
      "I'am in bedroom.Wake up and go to bathroom.time is 8\n",
      "I'am in bathroom.Go back from the bathroom then go to bedroom,time is 21\n",
      "I'am in bedroom.Go to sleep.time is 21 \n"
     ]
    },
    {
     "ename": "SystemExit",
     "evalue": "0",
     "output_type": "error",
     "traceback": [
      "An exception has occurred, use %tb to see the full traceback.\n",
      "\u001b[1;31mSystemExit\u001b[0m\u001b[1;31m:\u001b[0m 0\n"
     ]
    },
    {
     "name": "stderr",
     "output_type": "stream",
     "text": [
      "C:\\ProgramData\\Anaconda3\\lib\\site-packages\\IPython\\core\\interactiveshell.py:2918: UserWarning: To exit: use 'exit', 'quit', or Ctrl-D.\n",
      "  warn(\"To exit: use 'exit', 'quit', or Ctrl-D.\", stacklevel=1)\n"
     ]
    }
   ],
   "source": [
    "#main.py\n",
    "from sys import exit\n",
    "time = 7\n",
    "class Room:\n",
    "    def do(self):\n",
    "        print(\"This is parent\")\n",
    "        exit(1)\n",
    "# 通过room_map参数传入实例化的Map映射类，初始化PersonDo,通过实例化的Map，找到对应的实例化的Room\n",
    "class PersonDo:\n",
    "    def __init__(self,room_map):\n",
    "        self.room_map = room_map\n",
    "    def goto(self):\n",
    "        current_room = self.room_map.open_room()\n",
    "        global time\n",
    "        time=8\n",
    "        while time < 22:\n",
    "            next_room_name=current_room.do()\n",
    "            current_room = self.room_map.next_room(next_room_name)\n",
    "        current_room.enter()\n",
    "class BathRoom(Room):\n",
    "    def do(self):\n",
    "        global time\n",
    "        time = 21\n",
    "        print(\"I'am in bathroom.Go back from the bathroom then go to bedroom,time is %d\" %time)\n",
    "        return \"bedroom\"\n",
    "class BedRoom(Room):\n",
    "    def do(self):\n",
    "        global time\n",
    "        if time < 9:\n",
    "            print(\"I'am in bedroom.Wake up and go to bathroom.time is %d\" %time)\n",
    "            return \"bathroom\"\n",
    "        elif time>20:\n",
    "            print(\"I'am in bedroom.Go to sleep.time is %d \"%time)\n",
    "            exit(0)\n",
    "        else:\n",
    "            print(\"wrong time\")\n",
    "        \n",
    "# 通过map_dic字典，将对应房间名实例化。通过实例化Map时传入的第一个参数，确定人物初始房间为bathroom        \n",
    "class Map:\n",
    "    map_dic = {\n",
    "        \"bedroom\":BedRoom(),\n",
    "        \"bathroom\":BathRoom()\n",
    "    }\n",
    "    def __init__(self,firstroom):\n",
    "        self.firstroom = firstroom\n",
    "    def next_room(self,nextroom):\n",
    "        val = Map.map_dic.get(nextroom)\n",
    "        return val\n",
    "    def open_room(self):\n",
    "        return self.next_room(self.firstroom)\n",
    "a_map=Map(\"bedroom\")\n",
    "a_persondo=PersonDo(a_map)\n",
    "a_persondo.goto()    \n",
    "    \n",
    "    \n"
   ]
  },
  {
   "cell_type": "code",
   "execution_count": null,
   "metadata": {},
   "outputs": [],
   "source": [
    "#play.py\n",
    "def play():\n",
    "    print(\"This is a file named play.py\")"
   ]
  },
  {
   "cell_type": "code",
   "execution_count": 1,
   "metadata": {},
   "outputs": [
    {
     "ename": "SystemExit",
     "evalue": "usage: ipykernel_launcher.py [global_opts] cmd1 [cmd1_opts] [cmd2 [cmd2_opts] ...]\n   or: ipykernel_launcher.py --help [cmd1 cmd2 ...]\n   or: ipykernel_launcher.py --help-commands\n   or: ipykernel_launcher.py cmd --help\n\nerror: option -f not recognized",
     "output_type": "error",
     "traceback": [
      "An exception has occurred, use %tb to see the full traceback.\n",
      "\u001b[1;31mSystemExit\u001b[0m\u001b[1;31m:\u001b[0m usage: ipykernel_launcher.py [global_opts] cmd1 [cmd1_opts] [cmd2 [cmd2_opts] ...]\n   or: ipykernel_launcher.py --help [cmd1 cmd2 ...]\n   or: ipykernel_launcher.py --help-commands\n   or: ipykernel_launcher.py cmd --help\n\nerror: option -f not recognized\n"
     ]
    },
    {
     "name": "stderr",
     "output_type": "stream",
     "text": [
      "C:\\ProgramData\\Anaconda3\\lib\\site-packages\\IPython\\core\\interactiveshell.py:2918: UserWarning: To exit: use 'exit', 'quit', or Ctrl-D.\n",
      "  warn(\"To exit: use 'exit', 'quit', or Ctrl-D.\", stacklevel=1)\n"
     ]
    }
   ],
   "source": [
    "try:\n",
    "    from setuptools import setup\n",
    "except ImportError:\n",
    "    from distutils.core import setup\n",
    "\n",
    "config = {\n",
    "    'description': 'My Project',\n",
    "    'author': 'My Name',\n",
    "    'url': 'URL to get it at.',\n",
    "    'download_url': 'Where to download it.',\n",
    "    'author_email': 'My email.',\n",
    "    'version': '0.1',\n",
    "    'install_requires': ['nose'],\n",
    "    'packages': ['NAME'],\n",
    "    'scripts': [],\n",
    "    'name': 'projectname'\n",
    "}\n",
    "\n",
    "setup(**config)"
   ]
  },
  {
   "cell_type": "code",
   "execution_count": 4,
   "metadata": {},
   "outputs": [],
   "source": [
    "try:\n",
    "    from setuptools import setup\n",
    "except ImportError:\n",
    "    from distutils.core import setup"
   ]
  },
  {
   "cell_type": "code",
   "execution_count": null,
   "metadata": {},
   "outputs": [],
   "source": [
    "class Room:\n",
    "    \n",
    "    def __init__(self, name, description):\n",
    "        self.name = name\n",
    "        self.description = description\n",
    "        self.paths = {}\n",
    "\n",
    "    def go(self, direction):\n",
    "        return self.paths.get(direction, None)\n",
    "\n",
    "    def add_paths(self, paths):\n",
    "        self.paths.update(paths)"
   ]
  },
  {
   "cell_type": "code",
   "execution_count": null,
   "metadata": {},
   "outputs": [],
   "source": [
    "from nose.tools import *\n",
    "from ex47.game import Room\n",
    "\n",
    "def test_room():\n",
    "    gold = Room(\"GoldRoom\",\n",
    "               \"\"\"This room has gold in it you can grab.There's a\n",
    "               dor to the north.\"\"\")\n",
    "    assert_equal(gold.name,\"GoldRoom\")\n",
    "    assert_equal(gold.paths,{})\n",
    "\n",
    "def test_room_paths():\n",
    "    center = Room(\"Center\",\"Test room in the center\")\n",
    "    north = Room(\"North\",\"Test room in the north\")\n",
    "    south = Room(\"South\",\"Test room in the south\")\n",
    "    \n",
    "    center.add_paths({'north':north,'south':south})\n",
    "    assert_equal(center.go('north'),north)\n",
    "    assert_equal(center.go('south'),south)\n",
    "    \n",
    "def test_map():\n",
    "    start = Room(\"Start\", \"You can go west and down a hole.\")\n",
    "    west = Room(\"Trees\", \"There are trees here, you can go east.\")\n",
    "    down = Room(\"Dungeon\", \"It's dark down here, you can go up.\")\n",
    "\n",
    "    start.add_paths({'west': west, 'down': down})\n",
    "    west.add_paths({'east': start})\n",
    "    down.add_paths({'up': start})\n",
    "\n",
    "    assert_equal(start.go('west'), west)\n",
    "    assert_equal(start.go('west').go('east'), start)\n",
    "    assert_equal(start.go('down').go('up'), start)\n"
   ]
  },
  {
   "cell_type": "code",
   "execution_count": 32,
   "metadata": {},
   "outputs": [
    {
     "name": "stdout",
     "output_type": "stream",
     "text": [
      "[('direction', 'north'), ('direction', 'south'), ('direction', 'east')]\n"
     ]
    }
   ],
   "source": [
    "def scan(direc):\n",
    "    #通过direc参数，获取对应列表[direction,direc],通过方向参数，得到方向列表，创建字典map，使direc一一对应\n",
    "    #direc=(\"north south east\"),将direc切片，direc.split\n",
    "    d_split=direc.split()\n",
    "    map={\"north\":(\"direction\",\"north\"),\"south\":(\"direction\",\"south\"),\"east\":(\"direction\",\"east\")}\n",
    "    res=[]\n",
    "    for word in d_split:\n",
    "        res.append(map.get(word))\n",
    "    return res\n",
    "scan_L = scan(\"north south east\")\n",
    "print(scan_L)"
   ]
  },
  {
   "cell_type": "code",
   "execution_count": 9,
   "metadata": {},
   "outputs": [],
   "source": [
    "map = {\"north\":[(\"direction\",\"north\")]}"
   ]
  },
  {
   "cell_type": "code",
   "execution_count": 15,
   "metadata": {},
   "outputs": [
    {
     "name": "stdout",
     "output_type": "stream",
     "text": [
      "['north', 'south', 'east']\n"
     ]
    }
   ],
   "source": [
    "direc=(\"north south east\")\n",
    "d_split = direc.split()\n",
    "print(d_split)"
   ]
  },
  {
   "cell_type": "code",
   "execution_count": 40,
   "metadata": {},
   "outputs": [
    {
     "name": "stdout",
     "output_type": "stream",
     "text": [
      "{'north': ('direction', 'north'), 'south': ('direction', 'south'), 'east': ('direction', 'east'), 'go': ('verb', 'go'), 'kill': ('verb', 'kill'), 'eat': ('verb', 'eat')}\n",
      "{'north': ('direction', 'north'), 'south': ('direction', 'south'), 'east': ('direction', 'east'), 'go': ('verb', 'go'), 'kill': ('verb', 'kill'), 'eat': ('verb', 'eat'), 3: ('number', 3), 91234: ('number', 91234)}\n"
     ]
    }
   ],
   "source": [
    "map={'north':('direction','north'),'south':('direction','south'),'east':('direction','east')}\n",
    "\n",
    "map_verbs={'go':('verb', 'go'), 'kill':('verb', 'kill'),'eat':('verb', 'eat')}\n",
    "map_numbers = {3:('number', 3),91234:('number', 91234)}\n",
    "map.update(map_verbs)\n",
    "print (map)\n",
    "map.update(map_numbers)\n",
    "print (map)"
   ]
  },
  {
   "cell_type": "markdown",
   "metadata": {},
   "source": [
    "scan方法"
   ]
  },
  {
   "cell_type": "code",
   "execution_count": 63,
   "metadata": {},
   "outputs": [
    {
     "data": {
      "text/plain": [
       "[('number', 1), ('verb', 'eat'), ('error', 'kk')]"
      ]
     },
     "execution_count": 63,
     "metadata": {},
     "output_type": "execute_result"
    }
   ],
   "source": [
    "def convert_number(s):\n",
    "    try:\n",
    "        return int(s)\n",
    "    except ValueError:\n",
    "        return None\n",
    "def scan(direc):\n",
    "    #通过direc参数，获取对应列表[direction,direc],通过方向参数，得到方向列表，创建字典map，使direc一一对应\n",
    "    #direc=(\"north south east\"),将direc切片，direc.split,返回结果res列表\n",
    "    d_split = direc.split()\n",
    "    map = {'north':('direction','north'),'south':('direction','south'),'east':('direction','east')}\n",
    "\n",
    "    map_verbs = {'go':('verb', 'go'), 'kill':('verb', 'kill'),'eat':('verb', 'eat')}\n",
    "    map_stops = {'the':('stop', 'the'),'in':('stop', 'in'),'of':('stop', 'of')}\n",
    "    map_nouns = {'bear':('noun', 'bear'),'princess':('noun', 'princess')}\n",
    "    map.update(map_verbs)\n",
    "    map.update(map_stops)\n",
    "    map.update(map_nouns)\n",
    "    res = []\n",
    "    for word in d_split:\n",
    "        if convert_number(word) is None and word in map.keys():\n",
    "            res.append(map.get(word))\n",
    "        elif convert_number(word) is None and word not in map.keys():\n",
    "            res.append((\"error\",word))\n",
    "        else:\n",
    "            res.append((\"number\",int(word)))\n",
    "    return res\n",
    "scan(\"1 eat kk\")"
   ]
  },
  {
   "cell_type": "code",
   "execution_count": 55,
   "metadata": {},
   "outputs": [],
   "source": [
    "def convert_number(s):\n",
    "    try:\n",
    "        return int(s)\n",
    "    except ValueError:\n",
    "        return None\n",
    "def scan(direc):\n",
    "    #通过direc参数，获取对应列表[direction,direc],通过方向参数，得到方向列表，创建字典map，使direc一一对应\n",
    "    #direc=(\"north south east\"),将direc切片，direc.split,返回结果res列表\n",
    "    d_split = direc.split()\n",
    "    map = {'north':('direction','north'),'south':('direction','south'),'east':('direction','east')}\n",
    "\n",
    "    map_verbs = {'go':('verb', 'go'), 'kill':('verb', 'kill'),'eat':('verb', 'eat')}\n",
    "    map_stops = {'the':('stop', 'the'),'in':('stop', 'in'),'of':('stop', 'of')}\n",
    "    map_nouns = {'bear':('noun', 'bear'),'princess':('noun', 'princess')} \n",
    "    map.update(map_verbs)\n",
    "    map.update(map_stops)\n",
    "    map.update(map_nouns)\n",
    "    res = []\n",
    "    for word in d_split:\n",
    "        if convert_number(word) is None and word in map.keys():\n",
    "            res.append(map.get(word))\n",
    "        elif convert_number(word) is None and word not in map.keys():\n",
    "            res.append((\"error\",word))\n",
    "        else:\n",
    "            res.append((\"number\",int(word)))\n",
    "    return res"
   ]
  },
  {
   "cell_type": "markdown",
   "metadata": {},
   "source": [
    "测试用例"
   ]
  },
  {
   "cell_type": "code",
   "execution_count": null,
   "metadata": {},
   "outputs": [],
   "source": [
    "from nose.tools import *\n",
    "from ex48 import lexicon\n",
    "\n",
    "def test_directions():\n",
    "    assert_equal(lexicon.scan(\"north\"), [('direction', 'north')])\n",
    "    result = lexicon.scan(\"north south east\")\n",
    "    assert_equal(result, [('direction', 'north'),\n",
    "                          ('direction', 'south'),\n",
    "                          ('direction', 'east')])\n",
    " \n",
    " \n",
    "            \n",
    "def test_verbs():\n",
    "    assert_equal(lexicon.scan(\"go\"), [('verb', 'go')])\n",
    "    result = lexicon.scan(\"go kill eat\")\n",
    "    assert_equal(result, [('verb', 'go'),\n",
    "                          ('verb', 'kill'),\n",
    "                          ('verb', 'eat')])\n",
    "                          \n",
    "def test_stops():\n",
    "    assert_equal(lexicon.scan(\"the\"), [('stop', 'the')])\n",
    "    result = lexicon.scan(\"the in of\")\n",
    "    assert_equal(result, [('stop', 'the'),\n",
    "                          ('stop', 'in'),\n",
    "                          ('stop', 'of')])\n",
    "\n",
    "def test_nouns():\n",
    "    assert_equal(lexicon.scan(\"bear\"), [('noun', 'bear')])\n",
    "    result = lexicon.scan(\"bear princess\")\n",
    "    assert_equal(result, [('noun', 'bear'),\n",
    "                          ('noun', 'princess')])\n",
    "def test_numbers():\n",
    "    assert_equal(lexicon.scan(\"1234\"), [('number', 1234)])\n",
    "    result = lexicon.scan(\"3 91234\")\n",
    "    assert_equal(result, [('number', 3),\n",
    "                          ('number', 91234)])\n",
    "def test_errors():\n",
    "    assert_equal(lexicon.scan(\"ASDFADFASDF\"), [('error', 'ASDFADFASDF')])\n",
    "    result = lexicon.scan(\"bear IAS princess\")\n",
    "    assert_equal(result, [('noun', 'bear'),\n",
    "                          ('error', 'IAS'),\n",
    "                          ('noun', 'princess')])"
   ]
  },
  {
   "cell_type": "markdown",
   "metadata": {},
   "source": [
    "用元组实现"
   ]
  },
  {
   "cell_type": "code",
   "execution_count": 66,
   "metadata": {},
   "outputs": [
    {
     "data": {
      "text/plain": [
       "[('number', 1), ('direction', 'east'), ('error', 'aaa')]"
      ]
     },
     "execution_count": 66,
     "metadata": {},
     "output_type": "execute_result"
    }
   ],
   "source": [
    "def convert_number(s):\n",
    "    try:\n",
    "        return int(s)\n",
    "    except ValueError:\n",
    "        return None\n",
    "def scan(direc):\n",
    "    #通过direc参数，获取对应列表[direction,direc],通过方向参数，得到方向列表，创建字典map，使direc一一对应\n",
    "    #direc=(\"north south east\"),将direc切片，direc.split,返回结果res列表\n",
    "    d_split = direc.split()\n",
    "    map = {'north':'direction','south':'direction','east':'direction'}\n",
    "    res = []\n",
    "    for word in d_split:\n",
    "        if convert_number(word) is None and word in map.keys():\n",
    "            res.append((map.get(word),word))\n",
    "        elif convert_number(word) is None and word not in map.keys():\n",
    "            res.append((\"error\",word))\n",
    "        else:\n",
    "            res.append((\"number\",int(word)))\n",
    "    return res\n",
    "scan(\"1 east aaa\" )"
   ]
  },
  {
   "cell_type": "code",
   "execution_count": null,
   "metadata": {},
   "outputs": [],
   "source": []
  },
  {
   "cell_type": "code",
   "execution_count": null,
   "metadata": {},
   "outputs": [],
   "source": []
  },
  {
   "cell_type": "code",
   "execution_count": null,
   "metadata": {},
   "outputs": [],
   "source": []
  },
  {
   "cell_type": "code",
   "execution_count": null,
   "metadata": {},
   "outputs": [],
   "source": []
  },
  {
   "cell_type": "code",
   "execution_count": null,
   "metadata": {},
   "outputs": [],
   "source": []
  },
  {
   "cell_type": "code",
   "execution_count": null,
   "metadata": {},
   "outputs": [],
   "source": []
  },
  {
   "cell_type": "code",
   "execution_count": null,
   "metadata": {},
   "outputs": [],
   "source": []
  }
 ],
 "metadata": {
  "kernelspec": {
   "display_name": "Python 3",
   "language": "python",
   "name": "python3"
  },
  "language_info": {
   "codemirror_mode": {
    "name": "ipython",
    "version": 3
   },
   "file_extension": ".py",
   "mimetype": "text/x-python",
   "name": "python",
   "nbconvert_exporter": "python",
   "pygments_lexer": "ipython3",
   "version": "3.6.4"
  }
 },
 "nbformat": 4,
 "nbformat_minor": 2
}
