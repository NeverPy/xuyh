{
 "cells": [
  {
   "cell_type": "markdown",
   "metadata": {},
   "source": [
    "#                                           爬虫"
   ]
  },
  {
   "cell_type": "markdown",
   "metadata": {},
   "source": [
    "### python库"
   ]
  },
  {
   "cell_type": "markdown",
   "metadata": {},
   "source": [
    " 1、requests 用来获取页面内容\n",
    " 2、beautiful soup"
   ]
  },
  {
   "cell_type": "code",
   "execution_count": 6,
   "metadata": {},
   "outputs": [],
   "source": [
    "import time\n",
    "import MySQLdb\n",
    "import requests\n",
    "from  bs4 import BeautifulSoup"
   ]
  },
  {
   "cell_type": "code",
   "execution_count": 12,
   "metadata": {},
   "outputs": [],
   "source": [
    "url=\"https://bj.lianjia.com/zufang/\"\n",
    "responce=requests.get(url)\n",
    "soup=BeautifulSoup(responce.text,'lxml')"
   ]
  },
  {
   "cell_type": "code",
   "execution_count": 15,
   "metadata": {},
   "outputs": [
    {
     "name": "stdout",
     "output_type": "stream",
     "text": [
      "<class 'bs4.element.ResultSet'>\n",
      "[<div class=\"pic-panel\"><a href=\"https://bj.lianjia.com/zufang/101102483196.html\" target=\"_blank\"><img alt=\"东二环 7号线 冠城名敦道 西向开间\" data-apart-layout=\"https://s1.ljcdn.com/feroot/pc/asset/img/new-version/default_block.png?_v=20180913164531875\" data-img=\"https://image1.ljcdn.com/110000-inspection/24f9bfc5-fa7f-4472-825f-55036fcabd61.jpg.280x210.jpg\" src=\"https://s1.ljcdn.com/feroot/pc/asset/img/new-version/default_block.png?_v=20180913164531875\"/></a></div>, <div class=\"pic-panel\"><a href=\"https://bj.lianjia.com/zufang/101102512882.html\" target=\"_blank\"><img alt=\"远洋沁山水 两居室 家具家电齐全自如装修风格\" data-apart-layout=\"https://s1.ljcdn.com/feroot/pc/asset/img/new-version/default_block.png?_v=20180913164531875\" data-img=\"https://image1.ljcdn.com/110000-inspection/rsp_pic_uploadff359236-c570-42bd-957d-972a138cb446.jpg.280x210.jpg\" src=\"https://s1.ljcdn.com/feroot/pc/asset/img/new-version/default_block.png?_v=20180913164531875\"/></a></div>, <div class=\"pic-panel\"><a href=\"https://bj.lianjia.com/zufang/101102462014.html\" target=\"_blank\"><img alt=\"西三环盛今佳园 一梯一户 5居室\" data-apart-layout=\"https://s1.ljcdn.com/feroot/pc/asset/img/new-version/default_block.png?_v=20180913164531875\" data-img=\"https://image1.ljcdn.com/110000-inspection/cef3bc45-8dd3-4191-a7b5-0bdc93c441a64.JPG.280x210.jpg\" src=\"https://s1.ljcdn.com/feroot/pc/asset/img/new-version/default_block.png?_v=20180913164531875\"/></a></div>, <div class=\"pic-panel\"><a href=\"https://bj.lianjia.com/zufang/101102464311.html\" target=\"_blank\"><img alt=\"上地佳园大四居看房提前约可办公可居家\" data-apart-layout=\"https://image1.ljcdn.com/x-se/hdic-frame/77ebd931-cd30-4a0f-a7ab-2d7de4b80a56.png.280x210.jpg\" data-img=\"https://s1.ljcdn.com/feroot/pc/asset/img/new-version/default_block.png?_v=20180913164531875\" src=\"https://s1.ljcdn.com/feroot/pc/asset/img/new-version/default_block.png?_v=20180913164531875\"/></a></div>, <div class=\"pic-panel\"><a href=\"https://bj.lianjia.com/zufang/101102524277.html\" target=\"_blank\"><img alt=\"崇文门磁器口兴隆都市馨园特殊户型复式\" data-apart-layout=\"https://s1.ljcdn.com/feroot/pc/asset/img/new-version/default_block.png?_v=20180913164531875\" data-img=\"https://image1.ljcdn.com/110000-inspection/rsp_pic_uploada7d14fe4-173b-4d5b-8251-577c30f3d392.JPG.280x210.jpg\" src=\"https://s1.ljcdn.com/feroot/pc/asset/img/new-version/default_block.png?_v=20180913164531875\"/></a></div>, <div class=\"pic-panel\"><a href=\"https://bj.lianjia.com/zufang/101102553993.html\" target=\"_blank\"><img alt=\"合生世界村南向的两居，家具家电都有\" data-apart-layout=\"https://image1.ljcdn.com/x-se/hdic-frame/81f7ba33-9632-4e85-bbf3-b39f9b19bf94.png.280x210.jpg\" data-img=\"https://image1.ljcdn.com/110000-inspection/rsp_pic_upload56a6c8a5-387e-458d-8598-62981ae84653.jpg.280x210.jpg\" src=\"https://s1.ljcdn.com/feroot/pc/asset/img/new-version/default_block.png?_v=20180913164531875\"/></a></div>, <div class=\"pic-panel\"><a href=\"https://bj.lianjia.com/zufang/101102523601.html\" target=\"_blank\"><img alt=\"半岛金街 3房间0卫 2800元\" data-apart-layout=\"https://image1.ljcdn.com/x-se/hdic-frame/9a1e58c5-24de-459b-8ef9-0e635a9c0e98.png.280x210.jpg\" data-img=\"https://image1.ljcdn.com/x-se/hdic-frame/9a1e58c5-24de-459b-8ef9-0e635a9c0e98.png.280x210.jpg\" src=\"https://s1.ljcdn.com/feroot/pc/asset/img/new-version/default_block.png?_v=20180913164531875\"/></a></div>, <div class=\"pic-panel\"><a href=\"https://bj.lianjia.com/zufang/101102509245.html\" target=\"_blank\"><img alt=\"远洋万和公馆 3室1厅 40000元\" data-apart-layout=\"https://image1.ljcdn.com/x-se/hdic-frame/300b14b1-842a-4c08-b86f-bb6c0f9ad8b0.png.280x210.jpg\" data-img=\"https://image1.ljcdn.com/110000-inspection/rsp_pic_upload21978daa-4851-4f1f-a3f3-280e8e9f8642.jpg.280x210.jpg\" src=\"https://s1.ljcdn.com/feroot/pc/asset/img/new-version/default_block.png?_v=20180913164531875\"/></a></div>, <div class=\"pic-panel\"><a href=\"https://bj.lianjia.com/zufang/101102529964.html\" target=\"_blank\"><img alt=\"顺义城 建新北区 精装修 大一居 看房随时\" data-apart-layout=\"https://image1.ljcdn.com/x-se/hdic-frame/74dfac09-1d5e-4aa0-9249-79a354ecdf37.png.280x210.jpg\" data-img=\"https://image1.ljcdn.com/110000-inspection/b881abcb-14e4-479d-802d-439bb44b27ac.JPG.280x210.jpg\" src=\"https://s1.ljcdn.com/feroot/pc/asset/img/new-version/default_block.png?_v=20180913164531875\"/></a></div>, <div class=\"pic-panel\"><a href=\"https://bj.lianjia.com/zufang/101102546321.html\" target=\"_blank\"><img alt=\"椿树园 四居室 央产房 办公居住均可 宽敞明亮\" data-apart-layout=\"https://s1.ljcdn.com/feroot/pc/asset/img/new-version/default_block.png?_v=20180913164531875\" data-img=\"https://image1.ljcdn.com/110000-inspection/rsp_pic_uploadcddb1bcb-cf8f-4f04-9807-afcbcf3119b2.jpg.280x210.jpg\" src=\"https://s1.ljcdn.com/feroot/pc/asset/img/new-version/default_block.png?_v=20180913164531875\"/></a></div>, <div class=\"pic-panel\"><a href=\"https://bj.lianjia.com/zufang/101102538279.html\" target=\"_blank\"><img alt=\"天通苑东一区 精装修大三居 适合一家人居住\" data-apart-layout=\"https://image1.ljcdn.com/x-se/hdic-frame/7c3e68f6-ac09-4628-b2ff-f5b5ff740eef.png.280x210.jpg\" data-img=\"https://image1.ljcdn.com/110000-inspection/e652d009-cbd9-400b-8b07-0852655521ab.JPG.280x210.jpg\" src=\"https://s1.ljcdn.com/feroot/pc/asset/img/new-version/default_block.png?_v=20180913164531875\"/></a></div>, <div class=\"pic-panel\"><a href=\"https://bj.lianjia.com/zufang/101102538941.html\" target=\"_blank\"><img alt=\"小西天文慧园北路甲6号院精装西南大三居可当二居室\" data-apart-layout=\"https://image1.ljcdn.com/x-se/hdic-frame/747c5870-0e61-45f6-bf7f-5d9f25904080.png.280x210.jpg\" data-img=\"https://image1.ljcdn.com/110000-inspection/rsp_pic_uploadc454c5bf-6c55-4623-9bfb-b575e576a396.jpg.280x210.jpg\" src=\"https://s1.ljcdn.com/feroot/pc/asset/img/new-version/default_block.png?_v=20180913164531875\"/></a></div>, <div class=\"pic-panel\"><a href=\"https://bj.lianjia.com/zufang/101102541894.html\" target=\"_blank\"><img alt=\"通州北关v7九间堂别墅出租 上叠带院子\" data-apart-layout=\"https://image1.ljcdn.com/x-se/hdic-frame/b67178b3-e2ae-4f18-a72f-9e71d1e2a9a6.png.280x210.jpg\" data-img=\"https://image1.ljcdn.com/110000-inspection/rsp_pic_uploadc76f36c9-366f-435b-92d1-e1ada587419d.jpg.280x210.jpg\" src=\"https://s1.ljcdn.com/feroot/pc/asset/img/new-version/default_block.png?_v=20180913164531875\"/></a></div>, <div class=\"pic-panel\"><a href=\"https://bj.lianjia.com/zufang/101102544648.html\" target=\"_blank\"><img alt=\"南礼士路  国务院宿舍  简装三室一厅\" data-apart-layout=\"https://image1.ljcdn.com/x-se/hdic-frame/test-6d131abc-1303-497c-b0e4-de2b2cbd6d30.png.280x210.jpg\" data-img=\"https://image1.ljcdn.com/110000-inspection/test-384e567b-96fb-485b-bd6a-6ae5aec4fc5b.png.280x210.jpg\" src=\"https://s1.ljcdn.com/feroot/pc/asset/img/new-version/default_block.png?_v=20180913164531875\"/></a></div>, <div class=\"pic-panel\"><a href=\"https://bj.lianjia.com/zufang/101102527494.html\" target=\"_blank\"><img alt=\"燕华苑两套打通一起租 带花园两套总计340平米45000\" data-apart-layout=\"https://s1.ljcdn.com/feroot/pc/asset/img/new-version/default_block.png?_v=20180913164531875\" data-img=\"https://image1.ljcdn.com/110000-inspection/rsp_pic_uploadc3f65137-f270-48ad-b42e-70f595c9cd67.jpg.280x210.jpg\" src=\"https://s1.ljcdn.com/feroot/pc/asset/img/new-version/default_block.png?_v=20180913164531875\"/></a></div>, <div class=\"pic-panel\"><a href=\"https://bj.lianjia.com/zufang/101102520036.html\" target=\"_blank\"><img alt=\"世方豪庭顶层复式带露台可办公可居住\" data-apart-layout=\"https://s1.ljcdn.com/feroot/pc/asset/img/new-version/default_block.png?_v=20180913164531875\" data-img=\"https://image1.ljcdn.com/110000-inspection/rsp_pic_uploadee7ceae1-4b29-439d-9e32-ff78f41f78e8.jpg.280x210.jpg\" src=\"https://s1.ljcdn.com/feroot/pc/asset/img/new-version/default_block.png?_v=20180913164531875\"/></a></div>, <div class=\"pic-panel\"><a href=\"https://bj.lianjia.com/zufang/101102553464.html\" target=\"_blank\"><img alt=\"SOHO现代城南区南向大三室 低楼层办公方便随时起租\" data-apart-layout=\"https://image1.ljcdn.com/x-se/hdic-frame/a1eeebe7-30a2-456b-94a1-7efe02cdb955.png.280x210.jpg\" data-img=\"https://image1.ljcdn.com/110000-inspection/rsp_pic_uploade8a291fc-5dd5-4f79-a574-b862e824d8ed.jpg.280x210.jpg\" src=\"https://s1.ljcdn.com/feroot/pc/asset/img/new-version/default_block.png?_v=20180913164531875\"/></a></div>, <div class=\"pic-panel\"><a href=\"https://bj.lianjia.com/zufang/101102545838.html\" target=\"_blank\"><img alt=\"太阳宫 芍药居 大三居 可办公 随时看房，环境安静\" data-apart-layout=\"https://image1.ljcdn.com/x-se/hdic-frame/c097f685-a7a3-40f0-87d6-f08edf612859.png.280x210.jpg\" data-img=\"https://image1.ljcdn.com/110000-inspection/257a7308-7e49-47bd-89ac-862959b59a70.jpg.280x210.jpg\" src=\"https://s1.ljcdn.com/feroot/pc/asset/img/new-version/default_block.png?_v=20180913164531875\"/></a></div>, <div class=\"pic-panel\"><a href=\"https://bj.lianjia.com/zufang/101102549874.html\" target=\"_blank\"><img alt=\"精装独栋别墅 看房方便 长期出租\" data-apart-layout=\"https://image1.ljcdn.com/x-se/hdic-frame/6e38b94a-15f3-421a-8833-73bff9329dc1.png.280x210.jpg\" data-img=\"https://image1.ljcdn.com/110000-inspection/rsp_pic_uploadadef395b-396d-4c46-80c5-45cd59f15119.jpg.280x210.jpg\" src=\"https://s1.ljcdn.com/feroot/pc/asset/img/new-version/default_block.png?_v=20180913164531875\"/></a></div>, <div class=\"pic-panel\"><a href=\"https://bj.lianjia.com/zufang/101102567786.html\" target=\"_blank\"><img alt=\"富力十号 4室2厅 69000元\" data-apart-layout=\"https://image1.ljcdn.com/x-se/hdic-frame/2089e381-3ecf-4c04-b992-c97eaef00d69.png.280x210.jpg\" data-img=\"https://image1.ljcdn.com/110000-inspection/52fb00e1-96f2-45cb-b381-fd107a82fc0c.jpg.280x210.jpg\" src=\"https://s1.ljcdn.com/feroot/pc/asset/img/new-version/default_block.png?_v=20180913164531875\"/></a></div>, <div class=\"pic-panel\"><a href=\"https://bj.lianjia.com/zufang/101102538406.html\" target=\"_blank\"><img alt=\"国际花园南北通透三居室靠谱出租\" data-apart-layout=\"https://s1.ljcdn.com/feroot/pc/asset/img/new-version/default_block.png?_v=20180913164531875\" data-img=\"https://image1.ljcdn.com/110000-inspection/b140293f-bd60-4d71-abe5-f5db3f7f1d94.jpg.280x210.jpg\" src=\"https://s1.ljcdn.com/feroot/pc/asset/img/new-version/default_block.png?_v=20180913164531875\"/></a></div>, <div class=\"pic-panel\"><a href=\"https://bj.lianjia.com/zufang/101102543743.html\" target=\"_blank\"><img alt=\"大兴华润翡翠城独栋别墅 精装修 花园300㎡ 交通便利\" data-apart-layout=\"https://s1.ljcdn.com/feroot/pc/asset/img/new-version/default_block.png?_v=20180913164531875\" data-img=\"https://image1.ljcdn.com/110000-inspection/2883dd35-8b7d-47cc-8c91-569793eaf072.jpg.280x210.jpg\" src=\"https://s1.ljcdn.com/feroot/pc/asset/img/new-version/default_block.png?_v=20180913164531875\"/></a></div>, <div class=\"pic-panel\"><a href=\"https://bj.lianjia.com/zufang/101102531074.html\" target=\"_blank\"><img alt=\"航天桥 可注册办公精装开间，随时起租。\" data-apart-layout=\"https://image1.ljcdn.com/x-se/hdic-frame/7aab3222-36f1-4969-bd94-db0994bb466a.png.280x210.jpg\" data-img=\"https://image1.ljcdn.com/x-se/hdic-frame/7aab3222-36f1-4969-bd94-db0994bb466a.png.280x210.jpg\" src=\"https://s1.ljcdn.com/feroot/pc/asset/img/new-version/default_block.png?_v=20180913164531875\"/></a></div>, <div class=\"pic-panel\"><a href=\"https://bj.lianjia.com/zufang/101102532288.html\" target=\"_blank\"><img alt=\"西二旗领秀新硅谷自住型联排别墅\" data-apart-layout=\"https://s1.ljcdn.com/feroot/pc/asset/img/new-version/default_block.png?_v=20180913164531875\" data-img=\"https://image1.ljcdn.com/110000-inspection/rsp_pic_upload67d27a09-fac4-4509-95e2-42ccd37287ad.jpg.280x210.jpg\" src=\"https://s1.ljcdn.com/feroot/pc/asset/img/new-version/default_block.png?_v=20180913164531875\"/></a></div>, <div class=\"pic-panel\"><a href=\"https://bj.lianjia.com/zufang/101102528932.html\" target=\"_blank\"><img alt=\"浩思家园南北通透四居室靠谱出租\" data-apart-layout=\"https://s1.ljcdn.com/feroot/pc/asset/img/new-version/default_block.png?_v=20180913164531875\" data-img=\"https://image1.ljcdn.com/110000-inspection/rsp_pic_upload16e42e28-0c16-4bd0-accd-f7f5a40d6b46.jpg.280x210.jpg\" src=\"https://s1.ljcdn.com/feroot/pc/asset/img/new-version/default_block.png?_v=20180913164531875\"/></a></div>, <div class=\"pic-panel\"><a href=\"https://bj.lianjia.com/zufang/101102604645.html\" target=\"_blank\"><img alt=\"天通中苑 毛坯大三居 带电梯适合做仓库\" data-apart-layout=\"https://image1.ljcdn.com/x-se/hdic-frame/6cf48455-5024-4dfb-8b33-d9abe6799148.png.280x210.jpg\" data-img=\"https://image1.ljcdn.com/110000-inspection/rsp_pic_uploadbd63dfb8-7e3b-4ced-aaba-4f22bc6b2de5.JPG.280x210.jpg\" src=\"https://s1.ljcdn.com/feroot/pc/asset/img/new-version/default_block.png?_v=20180913164531875\"/></a></div>, <div class=\"pic-panel\"><a href=\"https://bj.lianjia.com/zufang/101102616521.html\" target=\"_blank\"><img alt=\"贡院九号 2室2厅 27000元\" data-apart-layout=\"https://s1.ljcdn.com/feroot/pc/asset/img/new-version/default_block.png?_v=20180913164531875\" data-img=\"https://image1.ljcdn.com/110000-inspection/rsp_pic_upload37bcc2d3-7437-4031-b568-d424375dff99.jpg.280x210.jpg\" src=\"https://s1.ljcdn.com/feroot/pc/asset/img/new-version/default_block.png?_v=20180913164531875\"/></a></div>, <div class=\"pic-panel\"><a href=\"https://bj.lianjia.com/zufang/101102593127.html\" target=\"_blank\"><img alt=\"大西洋新城大三居稳定出租 业主自住 随时搬家\" data-apart-layout=\"https://image1.ljcdn.com/x-se/hdic-frame/ea2dd5b6-5e31-47cd-a1b9-be4d72f030c1.png.280x210.jpg\" data-img=\"https://image1.ljcdn.com/110000-inspection/rsp_pic_upload9393727c-5b6b-4952-8d71-875777d9ccd4.jpg.280x210.jpg\" src=\"https://s1.ljcdn.com/feroot/pc/asset/img/new-version/default_block.png?_v=20180913164531875\"/></a></div>, <div class=\"pic-panel\"><a href=\"https://bj.lianjia.com/zufang/101102601709.html\" target=\"_blank\"><img src=\"https://s1.ljcdn.com/feroot/pc/asset/img/new-version/default_block.png?_v=20180913164531875\"/></a></div>, <div class=\"pic-panel\"><a href=\"https://bj.lianjia.com/zufang/101102597802.html\" target=\"_blank\"><img alt=\"金成建国5号 西向精装一居室 采光好\" data-apart-layout=\"https://s1.ljcdn.com/feroot/pc/asset/img/new-version/default_block.png?_v=20180913164531875\" data-img=\"https://image1.ljcdn.com/110000-inspection/rsp_pic_uploadad3276a9-992e-4221-a1cb-cfccfd8dbc5b.jpg.280x210.jpg\" src=\"https://s1.ljcdn.com/feroot/pc/asset/img/new-version/default_block.png?_v=20180913164531875\"/></a></div>]\n"
     ]
    }
   ],
   "source": [
    "links_div=soup.find_all('div',class_='pic-panel')\n",
    "print(type(links_div))\n",
    "print(links_div)\n",
    "#links=[div.a.get('href') for div in links_div]"
   ]
  },
  {
   "cell_type": "code",
   "execution_count": 14,
   "metadata": {},
   "outputs": [
    {
     "data": {
      "text/plain": [
       "'https://bj.lianjia.com/zufang/101102512882.html'"
      ]
     },
     "execution_count": 14,
     "metadata": {},
     "output_type": "execute_result"
    }
   ],
   "source": [
    "links_div[1].a.get('href')"
   ]
  },
  {
   "cell_type": "code",
   "execution_count": 6,
   "metadata": {},
   "outputs": [],
   "source": [
    "def get_page(url):\n",
    "    responce=requests.get(url)\n",
    "    soup=BeautifulSoup(responce.text,'lxml')\n",
    "    return soup"
   ]
  },
  {
   "cell_type": "code",
   "execution_count": 7,
   "metadata": {},
   "outputs": [],
   "source": [
    "# 封装成函数，作用是获取列表页下面的所有租房页面的链接，返回一个链接列表\n",
    "def get_links(link_url):\n",
    "    soup=get_page(link_url)\n",
    "    links_div=soup.find_all('div',class_='pic-panel')\n",
    "    links=[div.a.get('href') for div in links_div]\n",
    "    return links"
   ]
  },
  {
   "cell_type": "code",
   "execution_count": 44,
   "metadata": {
    "scrolled": true
   },
   "outputs": [],
   "source": [
    "def get_house_info(house_url):\n",
    "   # house_url='https://bj.lianjia.com/zufang/101102691478.html'\n",
    "    soup=get_page(house_url)\n",
    "    price = soup.find('span',class_='total').text\n",
    "    unit = soup.find('span',class_='unit').text.strip()\n",
    "    house_info = soup.find_all('p')\n",
    "    area=house_info[0].text[3:]\n",
    "    area_n=house_info[0].text[:2]\n",
    "    layout=house_info[1].text[5:]\n",
    "    layout_n=house_info[1].text[:4]\n",
    "    floor=house_info[2].text[3:]\n",
    "    floor_n=house_info[2].text[:2]\n",
    "    direction=house_info[3].text[5:]\n",
    "    direction_n=house_info[3].text[:4]\n",
    "    subway=house_info[4].text[3:]\n",
    "    subway_n=house_info[4].text[:2]\n",
    "    info={\n",
    "        '价格':price,\n",
    "        '单位':unit,\n",
    "        area_n:area,\n",
    "        layout_n:layout,\n",
    "        floor_n:floor,\n",
    "        direction_n:direction,\n",
    "        subway_n:subway\n",
    "    }\n",
    "    return info"
   ]
  },
  {
   "cell_type": "code",
   "execution_count": 48,
   "metadata": {},
   "outputs": [],
   "source": [
    "DATABASE = {\n",
    "    'host':'127.0.0.1',\n",
    "    'database':'Examination',\n",
    "    'user':'root',\n",
    "    'password':'123456',\n",
    "    'charset':'utf8'\n",
    "}\n",
    "def get_db(setting):\n",
    "    return MySQLdb.Connect(**setting)\n",
    "def insert(db,house):\n",
    "    values=\"'{}',\"*6+\"'{}'\"\n",
    "    sql_values=values.format(house['价格'],house['单位'],house['面积'],house['房屋户型'],house['楼层'],house['房屋朝向'],house['地铁'])\n",
    "    sql=\"\"\"insert into house(price,unit,area,layout,floor,direction,subway)\n",
    "           values({})\n",
    "    \"\"\".format(sql_values)\n",
    "    try:\n",
    "        print(sql)\n",
    "        cursor=db.cursor()\n",
    "        cursor.execute(sql)\n",
    "        db.commit()\n",
    "    except Exception as e:\n",
    "        print(e)"
   ]
  },
  {
   "cell_type": "code",
   "execution_count": 45,
   "metadata": {},
   "outputs": [
    {
     "data": {
      "text/plain": [
       "{'价格': '8000',\n",
       " '单位': '元/月',\n",
       " '地铁': '暂无数据',\n",
       " '房屋户型': '2室1厅1卫  整租',\n",
       " '房屋朝向': '南',\n",
       " '楼层': '中楼层 (共24层)',\n",
       " '面积': '88平米 (套内70平米)'}"
      ]
     },
     "execution_count": 45,
     "metadata": {},
     "output_type": "execute_result"
    }
   ],
   "source": [
    "house_url='https://bj.lianjia.com/zufang/101102691478.html'\n",
    "house_info=get_house_info(house_url)\n",
    "house_info"
   ]
  },
  {
   "cell_type": "code",
   "execution_count": 14,
   "metadata": {},
   "outputs": [],
   "source": [
    "db=get_db(DATABASE)"
   ]
  },
  {
   "cell_type": "code",
   "execution_count": 43,
   "metadata": {},
   "outputs": [],
   "source": [
    "insert(db,house_info)"
   ]
  },
  {
   "cell_type": "code",
   "execution_count": 49,
   "metadata": {},
   "outputs": [
    {
     "name": "stdout",
     "output_type": "stream",
     "text": [
      "获取一个房子信息成功\n",
      "insert into house(price,unit,area,layout,floor,direction,subway)\n",
      "           values('6500','元/月','59平米 (套内59平米)','2室1厅1卫  整租','中楼层 (共6层)','南 北','距地铁10号线团结湖878米')\n",
      "    \n",
      "获取一个房子信息成功\n",
      "insert into house(price,unit,area,layout,floor,direction,subway)\n",
      "           values('13500','元/月','104平米 (套内81平米)','2室1厅2卫  整租','高楼层 (共9层)','南 北','距地铁10号线双井821米')\n",
      "    \n",
      "获取一个房子信息成功\n",
      "insert into house(price,unit,area,layout,floor,direction,subway)\n",
      "           values('6200','元/月','63平米 (套内44平米)','2室1厅1卫  ','中楼层 (共18层)','西南','距地铁10号线潘家园374米')\n",
      "    \n",
      "获取一个房子信息成功\n",
      "insert into house(price,unit,area,layout,floor,direction,subway)\n",
      "           values('8200','元/月','66平米 (套内46平米)','2室1厅1卫  整租','低楼层 (共12层)','南','距地铁2号线车公庄277米')\n",
      "    \n",
      "获取一个房子信息成功\n",
      "insert into house(price,unit,area,layout,floor,direction,subway)\n",
      "           values('9300','元/月','75平米 (套内50平米)','2室1厅1卫  ','高楼层 (共6层)','南 北','距地铁6号线北海北663米')\n",
      "    \n",
      "获取一个房子信息成功\n",
      "insert into house(price,unit,area,layout,floor,direction,subway)\n",
      "           values('6200','元/月','76平米 (套内67平米)','2室1厅1卫  整租','中楼层 (共6层)','南 北','距地铁16号线西北旺838米')\n",
      "    \n"
     ]
    },
    {
     "ename": "KeyboardInterrupt",
     "evalue": "",
     "output_type": "error",
     "traceback": [
      "\u001b[1;31m---------------------------------------------------------------------------\u001b[0m",
      "\u001b[1;31mKeyboardInterrupt\u001b[0m                         Traceback (most recent call last)",
      "\u001b[1;32m<ipython-input-49-b6a63691987e>\u001b[0m in \u001b[0;36m<module>\u001b[1;34m()\u001b[0m\n\u001b[0;32m      2\u001b[0m \u001b[0mlinks\u001b[0m \u001b[1;33m=\u001b[0m \u001b[0mget_links\u001b[0m\u001b[1;33m(\u001b[0m\u001b[1;34m\"https://bj.lianjia.com/zufang/\"\u001b[0m\u001b[1;33m)\u001b[0m\u001b[1;33m\u001b[0m\u001b[0m\n\u001b[0;32m      3\u001b[0m \u001b[1;32mfor\u001b[0m \u001b[0mlink\u001b[0m \u001b[1;32min\u001b[0m \u001b[0mlinks\u001b[0m\u001b[1;33m:\u001b[0m\u001b[1;33m\u001b[0m\u001b[0m\n\u001b[1;32m----> 4\u001b[1;33m     \u001b[0mtime\u001b[0m\u001b[1;33m.\u001b[0m\u001b[0msleep\u001b[0m\u001b[1;33m(\u001b[0m\u001b[1;36m2\u001b[0m\u001b[1;33m)\u001b[0m\u001b[1;33m\u001b[0m\u001b[0m\n\u001b[0m\u001b[0;32m      5\u001b[0m     \u001b[0mprint\u001b[0m\u001b[1;33m(\u001b[0m\u001b[1;34m'获取一个房子信息成功'\u001b[0m\u001b[1;33m)\u001b[0m\u001b[1;33m\u001b[0m\u001b[0m\n\u001b[0;32m      6\u001b[0m     \u001b[0mhouse\u001b[0m\u001b[1;33m=\u001b[0m\u001b[0mget_house_info\u001b[0m\u001b[1;33m(\u001b[0m\u001b[0mlink\u001b[0m\u001b[1;33m)\u001b[0m\u001b[1;33m\u001b[0m\u001b[0m\n",
      "\u001b[1;31mKeyboardInterrupt\u001b[0m: "
     ]
    }
   ],
   "source": [
    "db = get_db(DATABASE)\n",
    "links = get_links(\"https://bj.lianjia.com/zufang/\")\n",
    "for link in links:\n",
    "    time.sleep(2)\n",
    "    print('获取一个房子信息成功')\n",
    "    house=get_house_info(link)\n",
    "    insert(db,house)"
   ]
  },
  {
   "cell_type": "code",
   "execution_count": null,
   "metadata": {},
   "outputs": [],
   "source": []
  },
  {
   "cell_type": "code",
   "execution_count": null,
   "metadata": {},
   "outputs": [],
   "source": []
  },
  {
   "cell_type": "code",
   "execution_count": null,
   "metadata": {},
   "outputs": [],
   "source": []
  },
  {
   "cell_type": "code",
   "execution_count": null,
   "metadata": {},
   "outputs": [],
   "source": []
  },
  {
   "cell_type": "code",
   "execution_count": null,
   "metadata": {},
   "outputs": [],
   "source": []
  },
  {
   "cell_type": "code",
   "execution_count": null,
   "metadata": {},
   "outputs": [],
   "source": []
  },
  {
   "cell_type": "code",
   "execution_count": null,
   "metadata": {},
   "outputs": [],
   "source": []
  },
  {
   "cell_type": "code",
   "execution_count": null,
   "metadata": {},
   "outputs": [],
   "source": []
  },
  {
   "cell_type": "code",
   "execution_count": null,
   "metadata": {},
   "outputs": [],
   "source": []
  },
  {
   "cell_type": "code",
   "execution_count": null,
   "metadata": {},
   "outputs": [],
   "source": []
  },
  {
   "cell_type": "code",
   "execution_count": null,
   "metadata": {},
   "outputs": [],
   "source": []
  },
  {
   "cell_type": "code",
   "execution_count": null,
   "metadata": {},
   "outputs": [],
   "source": []
  },
  {
   "cell_type": "code",
   "execution_count": null,
   "metadata": {},
   "outputs": [],
   "source": []
  },
  {
   "cell_type": "code",
   "execution_count": null,
   "metadata": {},
   "outputs": [],
   "source": []
  },
  {
   "cell_type": "code",
   "execution_count": null,
   "metadata": {},
   "outputs": [],
   "source": []
  },
  {
   "cell_type": "code",
   "execution_count": null,
   "metadata": {},
   "outputs": [],
   "source": []
  }
 ],
 "metadata": {
  "kernelspec": {
   "display_name": "Python 3",
   "language": "python",
   "name": "python3"
  },
  "language_info": {
   "codemirror_mode": {
    "name": "ipython",
    "version": 3
   },
   "file_extension": ".py",
   "mimetype": "text/x-python",
   "name": "python",
   "nbconvert_exporter": "python",
   "pygments_lexer": "ipython3",
   "version": "3.6.4"
  }
 },
 "nbformat": 4,
 "nbformat_minor": 2
}
