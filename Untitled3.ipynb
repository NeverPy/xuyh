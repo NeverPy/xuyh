{
 "cells": [
  {
   "cell_type": "markdown",
   "metadata": {},
   "source": [
    "#                                           爬虫"
   ]
  },
  {
   "cell_type": "markdown",
   "metadata": {},
   "source": [
    "### python库"
   ]
  },
  {
   "cell_type": "markdown",
   "metadata": {},
   "source": [
    " 1、requests 用来获取页面内容\n",
    " 2、beautiful soup"
   ]
  },
  {
   "cell_type": "code",
   "execution_count": 46,
   "metadata": {},
   "outputs": [],
   "source": [
    "import time\n",
    "import MySQLdb\n",
    "import requests\n",
    "from  bs4 import BeautifulSoup"
   ]
  },
  {
   "cell_type": "code",
   "execution_count": 3,
   "metadata": {},
   "outputs": [],
   "source": [
    "url=\"https://bj.lianjia.com/zufang/\"\n",
    "responce=requests.get(url)\n",
    "soup=BeautifulSoup(responce.text,'lxml')"
   ]
  },
  {
   "cell_type": "code",
   "execution_count": 4,
   "metadata": {},
   "outputs": [],
   "source": [
    "links_div=soup.find_all('div',class_='pic-panel')\n",
    "links=[div.a.get('href') for div in links_div]"
   ]
  },
  {
   "cell_type": "code",
   "execution_count": 5,
   "metadata": {},
   "outputs": [
    {
     "data": {
      "text/plain": [
       "'https://bj.lianjia.com/zufang/101102718789.html'"
      ]
     },
     "execution_count": 5,
     "metadata": {},
     "output_type": "execute_result"
    }
   ],
   "source": [
    "links_div[1].a.get('href')"
   ]
  },
  {
   "cell_type": "code",
   "execution_count": 6,
   "metadata": {},
   "outputs": [],
   "source": [
    "def get_page(url):\n",
    "    responce=requests.get(url)\n",
    "    soup=BeautifulSoup(responce.text,'lxml')\n",
    "    return soup"
   ]
  },
  {
   "cell_type": "code",
   "execution_count": 7,
   "metadata": {},
   "outputs": [],
   "source": [
    "# 封装成函数，作用是获取列表页下面的所有租房页面的链接，返回一个链接列表\n",
    "def get_links(link_url):\n",
    "    soup=get_page(link_url)\n",
    "    links_div=soup.find_all('div',class_='pic-panel')\n",
    "    links=[div.a.get('href') for div in links_div]\n",
    "    return links"
   ]
  },
  {
   "cell_type": "code",
   "execution_count": 44,
   "metadata": {
    "scrolled": true
   },
   "outputs": [],
   "source": [
    "def get_house_info(house_url):\n",
    "   # house_url='https://bj.lianjia.com/zufang/101102691478.html'\n",
    "    soup=get_page(house_url)\n",
    "    price = soup.find('span',class_='total').text\n",
    "    unit = soup.find('span',class_='unit').text.strip()\n",
    "    house_info = soup.find_all('p')\n",
    "    area=house_info[0].text[3:]\n",
    "    area_n=house_info[0].text[:2]\n",
    "    layout=house_info[1].text[5:]\n",
    "    layout_n=house_info[1].text[:4]\n",
    "    floor=house_info[2].text[3:]\n",
    "    floor_n=house_info[2].text[:2]\n",
    "    direction=house_info[3].text[5:]\n",
    "    direction_n=house_info[3].text[:4]\n",
    "    subway=house_info[4].text[3:]\n",
    "    subway_n=house_info[4].text[:2]\n",
    "    info={\n",
    "        '价格':price,\n",
    "        '单位':unit,\n",
    "        area_n:area,\n",
    "        layout_n:layout,\n",
    "        floor_n:floor,\n",
    "        direction_n:direction,\n",
    "        subway_n:subway\n",
    "    }\n",
    "    return info"
   ]
  },
  {
   "cell_type": "code",
   "execution_count": 48,
   "metadata": {},
   "outputs": [],
   "source": [
    "DATABASE = {\n",
    "    'host':'127.0.0.1',\n",
    "    'database':'Examination',\n",
    "    'user':'root',\n",
    "    'password':'123456',\n",
    "    'charset':'utf8'\n",
    "}\n",
    "def get_db(setting):\n",
    "    return MySQLdb.Connect(**setting)\n",
    "def insert(db,house):\n",
    "    values=\"'{}',\"*6+\"'{}'\"\n",
    "    sql_values=values.format(house['价格'],house['单位'],house['面积'],house['房屋户型'],house['楼层'],house['房屋朝向'],house['地铁'])\n",
    "    sql=\"\"\"insert into house(price,unit,area,layout,floor,direction,subway)\n",
    "           values({})\n",
    "    \"\"\".format(sql_values)\n",
    "    try:\n",
    "        print(sql)\n",
    "        cursor=db.cursor()\n",
    "        cursor.execute(sql)\n",
    "        db.commit()\n",
    "    except Exception as e:\n",
    "        print(e)"
   ]
  },
  {
   "cell_type": "code",
   "execution_count": 45,
   "metadata": {},
   "outputs": [
    {
     "data": {
      "text/plain": [
       "{'价格': '8000',\n",
       " '单位': '元/月',\n",
       " '地铁': '暂无数据',\n",
       " '房屋户型': '2室1厅1卫  整租',\n",
       " '房屋朝向': '南',\n",
       " '楼层': '中楼层 (共24层)',\n",
       " '面积': '88平米 (套内70平米)'}"
      ]
     },
     "execution_count": 45,
     "metadata": {},
     "output_type": "execute_result"
    }
   ],
   "source": [
    "house_url='https://bj.lianjia.com/zufang/101102691478.html'\n",
    "house_info=get_house_info(house_url)\n",
    "house_info"
   ]
  },
  {
   "cell_type": "code",
   "execution_count": 14,
   "metadata": {},
   "outputs": [],
   "source": [
    "db=get_db(DATABASE)"
   ]
  },
  {
   "cell_type": "code",
   "execution_count": 43,
   "metadata": {},
   "outputs": [],
   "source": [
    "insert(db,house_info)"
   ]
  },
  {
   "cell_type": "code",
   "execution_count": 49,
   "metadata": {},
   "outputs": [
    {
     "name": "stdout",
     "output_type": "stream",
     "text": [
      "获取一个房子信息成功\n",
      "insert into house(price,unit,area,layout,floor,direction,subway)\n",
      "           values('6500','元/月','59平米 (套内59平米)','2室1厅1卫  整租','中楼层 (共6层)','南 北','距地铁10号线团结湖878米')\n",
      "    \n",
      "获取一个房子信息成功\n",
      "insert into house(price,unit,area,layout,floor,direction,subway)\n",
      "           values('13500','元/月','104平米 (套内81平米)','2室1厅2卫  整租','高楼层 (共9层)','南 北','距地铁10号线双井821米')\n",
      "    \n",
      "获取一个房子信息成功\n",
      "insert into house(price,unit,area,layout,floor,direction,subway)\n",
      "           values('6200','元/月','63平米 (套内44平米)','2室1厅1卫  ','中楼层 (共18层)','西南','距地铁10号线潘家园374米')\n",
      "    \n",
      "获取一个房子信息成功\n",
      "insert into house(price,unit,area,layout,floor,direction,subway)\n",
      "           values('8200','元/月','66平米 (套内46平米)','2室1厅1卫  整租','低楼层 (共12层)','南','距地铁2号线车公庄277米')\n",
      "    \n",
      "获取一个房子信息成功\n",
      "insert into house(price,unit,area,layout,floor,direction,subway)\n",
      "           values('9300','元/月','75平米 (套内50平米)','2室1厅1卫  ','高楼层 (共6层)','南 北','距地铁6号线北海北663米')\n",
      "    \n",
      "获取一个房子信息成功\n",
      "insert into house(price,unit,area,layout,floor,direction,subway)\n",
      "           values('6200','元/月','76平米 (套内67平米)','2室1厅1卫  整租','中楼层 (共6层)','南 北','距地铁16号线西北旺838米')\n",
      "    \n"
     ]
    },
    {
     "ename": "KeyboardInterrupt",
     "evalue": "",
     "output_type": "error",
     "traceback": [
      "\u001b[1;31m---------------------------------------------------------------------------\u001b[0m",
      "\u001b[1;31mKeyboardInterrupt\u001b[0m                         Traceback (most recent call last)",
      "\u001b[1;32m<ipython-input-49-b6a63691987e>\u001b[0m in \u001b[0;36m<module>\u001b[1;34m()\u001b[0m\n\u001b[0;32m      2\u001b[0m \u001b[0mlinks\u001b[0m \u001b[1;33m=\u001b[0m \u001b[0mget_links\u001b[0m\u001b[1;33m(\u001b[0m\u001b[1;34m\"https://bj.lianjia.com/zufang/\"\u001b[0m\u001b[1;33m)\u001b[0m\u001b[1;33m\u001b[0m\u001b[0m\n\u001b[0;32m      3\u001b[0m \u001b[1;32mfor\u001b[0m \u001b[0mlink\u001b[0m \u001b[1;32min\u001b[0m \u001b[0mlinks\u001b[0m\u001b[1;33m:\u001b[0m\u001b[1;33m\u001b[0m\u001b[0m\n\u001b[1;32m----> 4\u001b[1;33m     \u001b[0mtime\u001b[0m\u001b[1;33m.\u001b[0m\u001b[0msleep\u001b[0m\u001b[1;33m(\u001b[0m\u001b[1;36m2\u001b[0m\u001b[1;33m)\u001b[0m\u001b[1;33m\u001b[0m\u001b[0m\n\u001b[0m\u001b[0;32m      5\u001b[0m     \u001b[0mprint\u001b[0m\u001b[1;33m(\u001b[0m\u001b[1;34m'获取一个房子信息成功'\u001b[0m\u001b[1;33m)\u001b[0m\u001b[1;33m\u001b[0m\u001b[0m\n\u001b[0;32m      6\u001b[0m     \u001b[0mhouse\u001b[0m\u001b[1;33m=\u001b[0m\u001b[0mget_house_info\u001b[0m\u001b[1;33m(\u001b[0m\u001b[0mlink\u001b[0m\u001b[1;33m)\u001b[0m\u001b[1;33m\u001b[0m\u001b[0m\n",
      "\u001b[1;31mKeyboardInterrupt\u001b[0m: "
     ]
    }
   ],
   "source": [
    "db = get_db(DATABASE)\n",
    "links = get_links(\"https://bj.lianjia.com/zufang/\")\n",
    "for link in links:\n",
    "    time.sleep(2)\n",
    "    print('获取一个房子信息成功')\n",
    "    house=get_house_info(link)\n",
    "    insert(db,house)"
   ]
  },
  {
   "cell_type": "code",
   "execution_count": null,
   "metadata": {},
   "outputs": [],
   "source": []
  },
  {
   "cell_type": "code",
   "execution_count": null,
   "metadata": {},
   "outputs": [],
   "source": []
  },
  {
   "cell_type": "code",
   "execution_count": null,
   "metadata": {},
   "outputs": [],
   "source": []
  },
  {
   "cell_type": "code",
   "execution_count": null,
   "metadata": {},
   "outputs": [],
   "source": []
  },
  {
   "cell_type": "code",
   "execution_count": null,
   "metadata": {},
   "outputs": [],
   "source": []
  },
  {
   "cell_type": "code",
   "execution_count": null,
   "metadata": {},
   "outputs": [],
   "source": []
  },
  {
   "cell_type": "code",
   "execution_count": null,
   "metadata": {},
   "outputs": [],
   "source": []
  },
  {
   "cell_type": "code",
   "execution_count": null,
   "metadata": {},
   "outputs": [],
   "source": []
  },
  {
   "cell_type": "code",
   "execution_count": null,
   "metadata": {},
   "outputs": [],
   "source": []
  },
  {
   "cell_type": "code",
   "execution_count": null,
   "metadata": {},
   "outputs": [],
   "source": []
  },
  {
   "cell_type": "code",
   "execution_count": null,
   "metadata": {},
   "outputs": [],
   "source": []
  },
  {
   "cell_type": "code",
   "execution_count": null,
   "metadata": {},
   "outputs": [],
   "source": []
  },
  {
   "cell_type": "code",
   "execution_count": null,
   "metadata": {},
   "outputs": [],
   "source": []
  },
  {
   "cell_type": "code",
   "execution_count": null,
   "metadata": {},
   "outputs": [],
   "source": []
  },
  {
   "cell_type": "code",
   "execution_count": null,
   "metadata": {},
   "outputs": [],
   "source": []
  },
  {
   "cell_type": "code",
   "execution_count": null,
   "metadata": {},
   "outputs": [],
   "source": []
  }
 ],
 "metadata": {
  "kernelspec": {
   "display_name": "Python 3",
   "language": "python",
   "name": "python3"
  },
  "language_info": {
   "codemirror_mode": {
    "name": "ipython",
    "version": 3
   },
   "file_extension": ".py",
   "mimetype": "text/x-python",
   "name": "python",
   "nbconvert_exporter": "python",
   "pygments_lexer": "ipython3",
   "version": "3.6.4"
  }
 },
 "nbformat": 4,
 "nbformat_minor": 2
}
