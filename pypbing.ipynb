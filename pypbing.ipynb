{
 "cells": [
  {
   "cell_type": "markdown",
   "metadata": {},
   "source": [
    "### 下载必应首页图片,只下载当天的，一张。"
   ]
  },
  {
   "cell_type": "code",
   "execution_count": 11,
   "metadata": {},
   "outputs": [
    {
     "name": "stdout",
     "output_type": "stream",
     "text": [
      "/az/hprichbg/rb/StormyCrater_ZH-CN7380963684_1920x1080.jpg\n",
      "http://s.cn.bing.net/az/hprichbg/rb/StormyCrater_ZH-CN7380963684_1920x1080.jpg\n"
     ]
    }
   ],
   "source": [
    "import requests\n",
    "import re\n",
    "import time\n",
    "local = time.strftime(\"%Y.%m.%d\")\n",
    "url = 'http://cn.bing.com/'\n",
    "con = requests.get(url)\n",
    "content = con.text\n",
    "#reg = r\"(http://s.cn.bing.net/az/hprichbg/rb/.*?.jpg)\"\n",
    "reg = r\"(/az/hprichbg/rb/.*?.jpg)\"\n",
    "a = re.findall(reg, content, re.S)[0]\n",
    "print(a)\n",
    "b='http://s.cn.bing.net'+a\n",
    "print(b)\n",
    "read = requests.get(b)\n",
    "f = open('%s.jpg' % local, 'wb')\n",
    "f.write(read.content)\n",
    "f.close()"
   ]
  },
  {
   "cell_type": "code",
   "execution_count": null,
   "metadata": {},
   "outputs": [],
   "source": []
  },
  {
   "cell_type": "code",
   "execution_count": null,
   "metadata": {},
   "outputs": [],
   "source": []
  },
  {
   "cell_type": "code",
   "execution_count": null,
   "metadata": {},
   "outputs": [],
   "source": []
  },
  {
   "cell_type": "code",
   "execution_count": null,
   "metadata": {},
   "outputs": [],
   "source": []
  },
  {
   "cell_type": "code",
   "execution_count": null,
   "metadata": {},
   "outputs": [],
   "source": []
  }
 ],
 "metadata": {
  "kernelspec": {
   "display_name": "Python 3",
   "language": "python",
   "name": "python3"
  },
  "language_info": {
   "codemirror_mode": {
    "name": "ipython",
    "version": 3
   },
   "file_extension": ".py",
   "mimetype": "text/x-python",
   "name": "python",
   "nbconvert_exporter": "python",
   "pygments_lexer": "ipython3",
   "version": "3.6.4"
  }
 },
 "nbformat": 4,
 "nbformat_minor": 2
}
