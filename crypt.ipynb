{
 "cells": [
  {
   "cell_type": "code",
   "execution_count": 1,
   "metadata": {},
   "outputs": [],
   "source": [
    "#加密相关\n",
    "# coding=utf-8  \n",
    "__author__ = 'pengchong.lee'  \n",
    "  \n",
    "import passlib.hash  \n",
    "import re  \n",
    "  \n",
    "ALGORITHM_MAPPER = {  \n",
    "    1: passlib.hash.md5_crypt,  \n",
    "    5: passlib.hash.sha256_crypt,  \n",
    "    6: passlib.hash.sha512_crypt  \n",
    "}  \n",
    "  \n",
    "  \n",
    "def crypt(word, salt):\n",
    "    standard_salt = re.compile('\\s*\\$(\\d+)\\$([\\w\\./]*)\\$')\n",
    "    match = standard_salt.match(salt)\n",
    "    print('standard_salt:%s,match:%s'%(standard_salt,match))\n",
    "    if not match:  \n",
    "        raise ValueError(\"salt format is not correct, \"  \n",
    "                         \"in D:\\Python27\\Lib\\site-packages\\crypt.py\")  \n",
    "    algorithm_num = match.group(1)\n",
    "    print('algorithm_num:%s'%(algorithm_num))\n",
    "    extra_str = match.group(2)\n",
    "    print('extra_str:%s'%(extra_str))\n",
    "    entryptor = ALGORITHM_MAPPER.get(int(algorithm_num))\n",
    "    print('entryptor:%s'%(entryptor))\n",
    "    if int(algorithm_num) == 1:  \n",
    "        result = entryptor.hash(word, salt=extra_str)  \n",
    "    else:  \n",
    "        result = entryptor.hash(word, salt=extra_str, rounds=5000)  \n",
    "    return result "
   ]
  },
  {
   "cell_type": "code",
   "execution_count": 2,
   "metadata": {},
   "outputs": [
    {
     "name": "stdout",
     "output_type": "stream",
     "text": [
      "standard_salt:re.compile('\\\\s*\\\\$(\\\\d+)\\\\$([\\\\w\\\\./]*)\\\\$'),match:<_sre.SRE_Match object; span=(0, 7), match=' $1$nx$'>\n",
      "algorithm_num:1\n",
      "extra_str:nx\n",
      "entryptor:<class 'passlib.handlers.md5_crypt.md5_crypt'>\n"
     ]
    },
    {
     "data": {
      "text/plain": [
       "'$1$nx$Chw5xtwHnCtI3r6vjDqPx.'"
      ]
     },
     "execution_count": 2,
     "metadata": {},
     "output_type": "execute_result"
    }
   ],
   "source": [
    "crypt('oracle',' $1$nx$')"
   ]
  },
  {
   "cell_type": "code",
   "execution_count": 3,
   "metadata": {},
   "outputs": [
    {
     "data": {
      "text/plain": [
       "'$1$nx$Chw5xtwHnCtI3r6vjDqPx.'"
      ]
     },
     "execution_count": 3,
     "metadata": {},
     "output_type": "execute_result"
    }
   ],
   "source": [
    "import passlib.hash\n",
    "passlib.hash.md5_crypt.hash('oracle',salt='nx')"
   ]
  },
  {
   "cell_type": "code",
   "execution_count": null,
   "metadata": {},
   "outputs": [],
   "source": []
  },
  {
   "cell_type": "code",
   "execution_count": null,
   "metadata": {},
   "outputs": [],
   "source": []
  },
  {
   "cell_type": "code",
   "execution_count": null,
   "metadata": {},
   "outputs": [],
   "source": []
  },
  {
   "cell_type": "code",
   "execution_count": null,
   "metadata": {},
   "outputs": [],
   "source": []
  },
  {
   "cell_type": "code",
   "execution_count": null,
   "metadata": {},
   "outputs": [],
   "source": []
  },
  {
   "cell_type": "code",
   "execution_count": null,
   "metadata": {},
   "outputs": [],
   "source": []
  },
  {
   "cell_type": "code",
   "execution_count": null,
   "metadata": {},
   "outputs": [],
   "source": []
  }
 ],
 "metadata": {
  "kernelspec": {
   "display_name": "Python 3",
   "language": "python",
   "name": "python3"
  },
  "language_info": {
   "codemirror_mode": {
    "name": "ipython",
    "version": 3
   },
   "file_extension": ".py",
   "mimetype": "text/x-python",
   "name": "python",
   "nbconvert_exporter": "python",
   "pygments_lexer": "ipython3",
   "version": "3.6.4"
  }
 },
 "nbformat": 4,
 "nbformat_minor": 2
}
