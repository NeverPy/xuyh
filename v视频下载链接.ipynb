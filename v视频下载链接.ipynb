{
 "cells": [
  {
   "cell_type": "code",
   "execution_count": 1,
   "metadata": {},
   "outputs": [],
   "source": [
    "import time\n",
    "import MySQLdb\n",
    "import requests\n",
    "from  bs4 import BeautifulSoup"
   ]
  },
  {
   "cell_type": "code",
   "execution_count": 2,
   "metadata": {},
   "outputs": [],
   "source": [
    "url=\"http://video.1kejian.com/player/down.php?id=26101-0\"\n",
    "responce=requests.get(url)\n",
    "soup=BeautifulSoup(responce.text,'lxml')"
   ]
  },
  {
   "cell_type": "code",
   "execution_count": 3,
   "metadata": {},
   "outputs": [
    {
     "name": "stdout",
     "output_type": "stream",
     "text": [
      "b'<!DOCTYPE html PUBLIC \"-//W3C//DTD XHTML 1.1//EN\" \"http://www.w3.org/TR/xhtml11/DTD/xhtml11.dtd\">\\n<html xmlns=\"http://www.w3.org/1999/xhtml\">\\n<head>\\n<meta http-equiv=\"Content-Type\" content=\"text/html; charset=gb2312\" />\\n<title>FlV/MP4\\xca\\xd3\\xc6\\xb5\\xcf\\xc2\\xd4\\xd8</title>\\n<script>\\r\\nfunction open_without_referrer(link)  \\r\\n{\\r\\n    document.body.appendChild(document.createElement(\\'iframe\\')).src=\\'javascript:\"<script>top.location.replace(\\\\\\'\\'+link+\\'\\\\\\')<\\\\/script>\"\\';  \\r\\n}\\r\\nfunction open_new_window(full_link)  \\r\\n{   \\r\\n    window.open(\\'javascript:window.name;\\', \\'<script>location.replace(\"\\'+full_link+\\'\")<\\\\/script>\\');\\r\\n}\\r\\n</script>\\n</head>\\n<body>\\n<div style=\"width:728px; margin:50px auto; line-height:150%;font-size:14px; border:#CCC solid 1px; background:#EEE; padding:20px\">\\n<strong>\\xca\\xd3\\xc6\\xb5\\xb9\\xb2\\xb7\\xd6\\xce\\xaa0\\xd0\\xa1\\xb6\\xce\\xa3\\xac\\xcf\\xc2\\xd4\\xd8\\xb5\\xd8\\xd6\\xb7\\xc8\\xe7\\xcf\\xc2\\xa3\\xba</strong><br />\\n<font size=\"-1\" color=\"#666666\">\\xa3\\xa8\\xcc\\xe1\\xca\\xbe\\xa3\\xba\\xc8\\xe7\\xb9\\xfb\\xca\\xd3\\xc6\\xb5\\xb7\\xd6\\xce\\xaa\\xb6\\xe0\\xb8\\xf6\\xd0\\xa1\\xb6\\xce\\xa3\\xac\\xc7\\xeb\\xcf\\xc2\\xd4\\xd8\\xba\\xf3\\xd3\\xc3\\xca\\xd3\\xc6\\xb5\\xba\\xcf\\xb2\\xa2\\xc8\\xed\\xbc\\xfe\\xba\\xcf\\xb2\\xa2\\xa1\\xa3\\xa3\\xa9</font>\\n<br />\\n<script type=\"text/javascript\" src=\"http://bstatic.1kejian.com/vi3a1bc696f1c9f474c51a7a98efaf3cea5febdc0a75e13eef.js\"></script>\\n<br />\\n<table width=\"100%\" border=\"0\" cellspacing=\"0\" cellpadding=\"0\">\\n<tr style=\"font-weight:bold\">\\n<td width=\"49%\">HTTP\\xcf\\xc2\\xd4\\xd8\\xb5\\xd8\\xd6\\xb7(\\xb5\\xe3\\xbb\\xf7\\xcf\\xc2\\xd4\\xd8\\xbb\\xf2\\xc4\\xbf\\xb1\\xea\\xc1\\xed\\xb4\\xe6\\xce\\xaa)</td>\\n<td width=\"49%\"></td>\\n</tr>\\n<tr>\\n<td></td>\\n<td></td>\\n</tr>\\n</table>\\n<br />\\n<br />\\n<strong>\\xca\\xd3\\xc6\\xb5\\xba\\xcf\\xb2\\xa2\\xc8\\xed\\xbc\\xfe\\xcf\\xc2\\xd4\\xd8\\xb5\\xd8\\xd6\\xb7\\xa3\\xba</strong><br />\\n<a href=\"http://video.1kejian.com/player/flvtool.rar\" target=\"_blank\">http://video.1kejian.com/player/flvtool.rar</a> </div>\\n<div style=\"display:none\"><script language=\"javascript\" src=\"http://count9.51yes.com/click.aspx?id=93441788&logo=12\" charset=\"gb2312\"></script>\\n</div>\\n</body>\\n</html>'\n"
     ]
    }
   ],
   "source": [
    "import urllib\n",
    "\n",
    "res = urllib.request.urlopen(\"http://video.1kejian.com/player/down.php?id=26101-0\")\n",
    "print (res.read())"
   ]
  },
  {
   "cell_type": "code",
   "execution_count": 4,
   "metadata": {},
   "outputs": [
    {
     "name": "stdout",
     "output_type": "stream",
     "text": [
      "<!DOCTYPE html PUBLIC \"-//W3C//DTD XHTML 1.1//EN\" \"http://www.w3.org/TR/xhtml11/DTD/xhtml11.dtd\">\n",
      "\n",
      "<html xmlns=\"http://www.w3.org/1999/xhtml\">\n",
      "<head>\n",
      "<meta content=\"text/html; charset=utf-8\" http-equiv=\"Content-Type\"/>\n",
      "<title>FlV/MP4视频下载</title>\n",
      "<script>\r\n",
      "function open_without_referrer(link)  \r\n",
      "{\r\n",
      "    document.body.appendChild(document.createElement('iframe')).src='javascript:\"<script>top.location.replace(\\''+link+'\\')<\\/script>\"';  \r\n",
      "}\r\n",
      "function open_new_window(full_link)  \r\n",
      "{   \r\n",
      "    window.open('javascript:window.name;', '<script>location.replace(\"'+full_link+'\")<\\/script>');\r\n",
      "}\r\n",
      "</script>\n",
      "</head>\n",
      "<body>\n",
      "<div style=\"width:728px; margin:50px auto; line-height:150%;font-size:14px; border:#CCC solid 1px; background:#EEE; padding:20px\">\n",
      "<strong>视频共分为0小段，下载地址如下：</strong><br/>\n",
      "<font color=\"#666666\" size=\"-1\">（提示：如果视频分为多个小段，请下载后用视频合并软件合并。）</font>\n",
      "<br/>\n",
      "<script src=\"http://bstatic.1kejian.com/vi3a1bc696f1c9f474c51a7a98efaf3cea5febdc0a75e13eef.js\" type=\"text/javascript\"></script>\n",
      "<br/>\n",
      "<table border=\"0\" cellpadding=\"0\" cellspacing=\"0\" width=\"100%\">\n",
      "<tr style=\"font-weight:bold\">\n",
      "<td width=\"49%\">HTTP下载地址(点击下载或目标另存为)</td>\n",
      "<td width=\"49%\"></td>\n",
      "</tr>\n",
      "<tr>\n",
      "<td></td>\n",
      "<td></td>\n",
      "</tr>\n",
      "</table>\n",
      "<br/>\n",
      "<br/>\n",
      "<strong>视频合并软件下载地址：</strong><br/>\n",
      "<a href=\"http://video.1kejian.com/player/flvtool.rar\" target=\"_blank\">http://video.1kejian.com/player/flvtool.rar</a> </div>\n",
      "<div style=\"display:none\"><script charset=\"gb2312\" language=\"javascript\" src=\"http://count9.51yes.com/click.aspx?id=93441788&amp;logo=12\"></script>\n",
      "</div>\n",
      "</body>\n",
      "</html>\n"
     ]
    }
   ],
   "source": [
    "from bs4 import BeautifulSoup\n",
    "#helloworld = '<p>Hello World</p>'\n",
    "page = urllib.request.urlopen(\"http://video.1kejian.com/player/down.php?id=26101-0\")\n",
    "soup_string = BeautifulSoup(page, \"html.parser\")\n",
    "print (soup_string)"
   ]
  },
  {
   "cell_type": "code",
   "execution_count": 5,
   "metadata": {},
   "outputs": [
    {
     "name": "stdout",
     "output_type": "stream",
     "text": [
      "<a href=\"http://video.1kejian.com/player/flvtool.rar\" target=\"_blank\">http://video.1kejian.com/player/flvtool.rar</a>\n",
      "' '\n"
     ]
    }
   ],
   "source": [
    "print(soup_string.a)\n",
    "\n",
    "#for child in  soup_string.parents:\n",
    " #   print (child)\n",
    "for sibling in soup_string.a.next_siblings:\n",
    "    print(repr(sibling))"
   ]
  },
  {
   "cell_type": "code",
   "execution_count": 6,
   "metadata": {},
   "outputs": [
    {
     "data": {
      "text/plain": [
       "[<a href=\"http://video.1kejian.com/player/flvtool.rar\" target=\"_blank\">http://video.1kejian.com/player/flvtool.rar</a>]"
      ]
     },
     "execution_count": 6,
     "metadata": {},
     "output_type": "execute_result"
    }
   ],
   "source": [
    "soup_string.find_all('a')"
   ]
  },
  {
   "cell_type": "code",
   "execution_count": 7,
   "metadata": {},
   "outputs": [
    {
     "data": {
      "text/plain": [
       "['html PUBLIC \"-//W3C//DTD XHTML 1.1//EN\" \"http://www.w3.org/TR/xhtml11/DTD/xhtml11.dtd\"',\n",
       " 'http://video.1kejian.com/player/flvtool.rar']"
      ]
     },
     "execution_count": 7,
     "metadata": {},
     "output_type": "execute_result"
    }
   ],
   "source": [
    "import re\n",
    "soup_string.find_all(text=re.compile(\"http:\"))"
   ]
  },
  {
   "cell_type": "code",
   "execution_count": 8,
   "metadata": {},
   "outputs": [
    {
     "data": {
      "text/plain": [
       "[<a href=\"http://video.1kejian.com/player/flvtool.rar\" target=\"_blank\">http://video.1kejian.com/player/flvtool.rar</a>]"
      ]
     },
     "execution_count": 8,
     "metadata": {},
     "output_type": "execute_result"
    }
   ],
   "source": [
    "soup_string.find_all(href=re.compile(\"http:\"))"
   ]
  },
  {
   "cell_type": "code",
   "execution_count": 9,
   "metadata": {},
   "outputs": [
    {
     "name": "stdout",
     "output_type": "stream",
     "text": [
      "<class 'bs4.BeautifulSoup'>\n"
     ]
    }
   ],
   "source": [
    "print(type(soup_string))"
   ]
  },
  {
   "cell_type": "code",
   "execution_count": 10,
   "metadata": {},
   "outputs": [
    {
     "name": "stdout",
     "output_type": "stream",
     "text": [
      "<class 'list'>\n",
      "http://video.1kejian.com/player/flvtool.rar\n"
     ]
    }
   ],
   "source": [
    "print (type(soup_string.select('a')))\n",
    "for a in soup_string.select('a'):\n",
    "    print (a.get_text())"
   ]
  },
  {
   "cell_type": "code",
   "execution_count": 78,
   "metadata": {},
   "outputs": [
    {
     "name": "stdout",
     "output_type": "stream",
     "text": [
      "[<a href=\"http://video.1kejian.com/player/flvtool.rar\" target=\"_blank\">http://video.1kejian.com/player/flvtool.rar</a>]\n"
     ]
    },
    {
     "ename": "AttributeError",
     "evalue": "ResultSet object has no attribute 'get'. You're probably treating a list of items like a single item. Did you call find_all() when you meant to call find()?",
     "output_type": "error",
     "traceback": [
      "\u001b[1;31m---------------------------------------------------------------------------\u001b[0m",
      "\u001b[1;31mAttributeError\u001b[0m                            Traceback (most recent call last)",
      "\u001b[1;32m<ipython-input-78-826de22cc672>\u001b[0m in \u001b[0;36m<module>\u001b[1;34m()\u001b[0m\n\u001b[0;32m      9\u001b[0m \u001b[1;31m#print(type(links_a))\u001b[0m\u001b[1;33m\u001b[0m\u001b[1;33m\u001b[0m\u001b[0m\n\u001b[0;32m     10\u001b[0m \u001b[0mprint\u001b[0m\u001b[1;33m(\u001b[0m\u001b[0mlinks_a\u001b[0m\u001b[1;33m)\u001b[0m\u001b[1;33m\u001b[0m\u001b[0m\n\u001b[1;32m---> 11\u001b[1;33m \u001b[0mlinks_a\u001b[0m\u001b[1;33m.\u001b[0m\u001b[0mget\u001b[0m\u001b[1;33m(\u001b[0m\u001b[1;34m'href'\u001b[0m\u001b[1;33m)\u001b[0m\u001b[1;33m\u001b[0m\u001b[0m\n\u001b[0m\u001b[0;32m     12\u001b[0m \u001b[1;31m#links_a[1].a.get('href')\u001b[0m\u001b[1;33m\u001b[0m\u001b[1;33m\u001b[0m\u001b[0m\n",
      "\u001b[1;32mC:\\ProgramData\\Anaconda3\\lib\\site-packages\\bs4\\element.py\u001b[0m in \u001b[0;36m__getattr__\u001b[1;34m(self, key)\u001b[0m\n\u001b[0;32m   1805\u001b[0m     \u001b[1;32mdef\u001b[0m \u001b[0m__getattr__\u001b[0m\u001b[1;33m(\u001b[0m\u001b[0mself\u001b[0m\u001b[1;33m,\u001b[0m \u001b[0mkey\u001b[0m\u001b[1;33m)\u001b[0m\u001b[1;33m:\u001b[0m\u001b[1;33m\u001b[0m\u001b[0m\n\u001b[0;32m   1806\u001b[0m         raise AttributeError(\n\u001b[1;32m-> 1807\u001b[1;33m             \u001b[1;34m\"ResultSet object has no attribute '%s'. You're probably treating a list of items like a single item. Did you call find_all() when you meant to call find()?\"\u001b[0m \u001b[1;33m%\u001b[0m \u001b[0mkey\u001b[0m\u001b[1;33m\u001b[0m\u001b[0m\n\u001b[0m\u001b[0;32m   1808\u001b[0m         )\n",
      "\u001b[1;31mAttributeError\u001b[0m: ResultSet object has no attribute 'get'. You're probably treating a list of items like a single item. Did you call find_all() when you meant to call find()?"
     ]
    }
   ],
   "source": [
    "import time\n",
    "import MySQLdb\n",
    "import requests\n",
    "from  bs4 import BeautifulSoup\n",
    "url=\"http://video.1kejian.com/player/down.php?id=26101-0\"\n",
    "responce=requests.get(url)\n",
    "soup=BeautifulSoup(responce.text,'lxml')\n",
    "links_a=soup.find_all('a')\n",
    "#print(type(links_a))\n",
    "print(links_a)\n",
    "#links_a[1].a.get('href')"
   ]
  },
  {
   "cell_type": "code",
   "execution_count": null,
   "metadata": {},
   "outputs": [],
   "source": []
  }
 ],
 "metadata": {
  "kernelspec": {
   "display_name": "Python 3",
   "language": "python",
   "name": "python3"
  },
  "language_info": {
   "codemirror_mode": {
    "name": "ipython",
    "version": 3
   },
   "file_extension": ".py",
   "mimetype": "text/x-python",
   "name": "python",
   "nbconvert_exporter": "python",
   "pygments_lexer": "ipython3",
   "version": "3.6.4"
  }
 },
 "nbformat": 4,
 "nbformat_minor": 2
}
